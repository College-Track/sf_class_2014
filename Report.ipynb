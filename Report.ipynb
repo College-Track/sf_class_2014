{
 "cells": [
  {
   "cell_type": "markdown",
   "metadata": {},
   "source": [
    "## OP Learning Agenda: SF Class of 2014\n",
    "\n",
    "A project to determine what, if anything, influenced the graduation success of the San Francisco class of 2014."
   ]
  },
  {
   "cell_type": "code",
   "execution_count": 19,
   "metadata": {},
   "outputs": [],
   "source": [
    "import pandas as pd\n",
    "from pathlib import Path\n",
    "from datetime import datetime\n",
    "import statsmodels.api as sm\n",
    "import numpy as np\n",
    "from tabulate import tabulate\n",
    "import seaborn as sns\n",
    "import matplotlib.pyplot as plt\n",
    "\n"
   ]
  },
  {
   "cell_type": "code",
   "execution_count": 2,
   "metadata": {},
   "outputs": [],
   "source": [
    "%matplotlib inline"
   ]
  },
  {
   "cell_type": "code",
   "execution_count": 3,
   "metadata": {},
   "outputs": [],
   "source": [
    "today = datetime.today()\n",
    "in_file = Path.cwd() / \"data\" / \"processed\" / \"processed_data.pkl\"\n",
    "report_dir = Path.cwd() / \"reports\"\n",
    "report_file = report_dir / \"Excel_Analysis_{today:%b-%d-%Y}.xlsx\"\n",
    "\n",
    "in_file2 = Path.cwd() / \"data\" / \"processed\" / \"processed_data_file2.pkl\"\n",
    "\n",
    "in_file3 = Path.cwd() / \"data\" / \"processed\" / \"processed_data_file3.pkl\""
   ]
  },
  {
   "cell_type": "code",
   "execution_count": 4,
   "metadata": {},
   "outputs": [],
   "source": [
    "df = pd.read_pickle(in_file)\n",
    "\n",
    "df2 = pd.read_pickle(in_file2)\n",
    "\n",
    "df3 = pd.read_pickle(in_file3)"
   ]
  },
  {
   "cell_type": "code",
   "execution_count": 5,
   "metadata": {},
   "outputs": [],
   "source": [
    "def sf_cross_tab(df, column, normalize=\"index\", margins=True):\n",
    "    return pd.crosstab(\n",
    "        df[df.site == \"San Francisco\"].high_school_class,\n",
    "        df[df.site == \"San Francisco\"][column],\n",
    "        normalize=normalize,\n",
    "        margins=margins,\n",
    "    )"
   ]
  },
  {
   "cell_type": "markdown",
   "metadata": {},
   "source": [
    "##  General Distributions\n",
    "\n",
    "SF Class of 2014 is on track to have the highest 6 year grad rate, with almost 70% of students already graduating, but that number isn't significantly higher than the class of 2013. Though we do see a reasonably big jump from 2012 to 2013. \n",
    "\n"
   ]
  },
  {
   "cell_type": "markdown",
   "metadata": {},
   "source": [
    "#### Table 1. San Francisco 6 Year Graduation Rate by High School Class "
   ]
  },
  {
   "cell_type": "code",
   "execution_count": 76,
   "metadata": {},
   "outputs": [
    {
     "data": {
      "text/html": [
       "<div>\n",
       "<style scoped>\n",
       "    .dataframe tbody tr th:only-of-type {\n",
       "        vertical-align: middle;\n",
       "    }\n",
       "\n",
       "    .dataframe tbody tr th {\n",
       "        vertical-align: top;\n",
       "    }\n",
       "\n",
       "    .dataframe thead th {\n",
       "        text-align: right;\n",
       "    }\n",
       "</style>\n",
       "<table border=\"1\" class=\"dataframe\">\n",
       "  <thead>\n",
       "    <tr style=\"text-align: right;\">\n",
       "      <th>graduated_4_year_degree_less_6_years</th>\n",
       "      <th>False</th>\n",
       "      <th>True</th>\n",
       "    </tr>\n",
       "    <tr>\n",
       "      <th>high_school_class</th>\n",
       "      <th></th>\n",
       "      <th></th>\n",
       "    </tr>\n",
       "  </thead>\n",
       "  <tbody>\n",
       "    <tr>\n",
       "      <td>2011</td>\n",
       "      <td>0.53</td>\n",
       "      <td>0.47</td>\n",
       "    </tr>\n",
       "    <tr>\n",
       "      <td>2012</td>\n",
       "      <td>0.45</td>\n",
       "      <td>0.55</td>\n",
       "    </tr>\n",
       "    <tr>\n",
       "      <td>2013</td>\n",
       "      <td>0.32</td>\n",
       "      <td>0.68</td>\n",
       "    </tr>\n",
       "    <tr>\n",
       "      <td>2014</td>\n",
       "      <td>0.30</td>\n",
       "      <td>0.70</td>\n",
       "    </tr>\n",
       "    <tr>\n",
       "      <td>All</td>\n",
       "      <td>0.39</td>\n",
       "      <td>0.61</td>\n",
       "    </tr>\n",
       "  </tbody>\n",
       "</table>\n",
       "</div>"
      ],
      "text/plain": [
       "graduated_4_year_degree_less_6_years  False  True \n",
       "high_school_class                                 \n",
       "2011                                   0.53   0.47\n",
       "2012                                   0.45   0.55\n",
       "2013                                   0.32   0.68\n",
       "2014                                   0.30   0.70\n",
       "All                                    0.39   0.61"
      ]
     },
     "execution_count": 76,
     "metadata": {},
     "output_type": "execute_result"
    }
   ],
   "source": [
    "# Grad Rate Less than 6 years\n",
    "\n",
    "grad_rate_6_year = sf_cross_tab(\n",
    "    df, \"graduated_4_year_degree_less_6_years\").round(2)\n",
    "\n",
    "grad_rate_6_year"
   ]
  },
  {
   "cell_type": "markdown",
   "metadata": {
    "hide_input": true
   },
   "source": [
    "#### Table 2. San Francisco 6 Year Graduation Count by High School Class \n"
   ]
  },
  {
   "cell_type": "code",
   "execution_count": 77,
   "metadata": {},
   "outputs": [
    {
     "data": {
      "text/html": [
       "<div>\n",
       "<style scoped>\n",
       "    .dataframe tbody tr th:only-of-type {\n",
       "        vertical-align: middle;\n",
       "    }\n",
       "\n",
       "    .dataframe tbody tr th {\n",
       "        vertical-align: top;\n",
       "    }\n",
       "\n",
       "    .dataframe thead th {\n",
       "        text-align: right;\n",
       "    }\n",
       "</style>\n",
       "<table border=\"1\" class=\"dataframe\">\n",
       "  <thead>\n",
       "    <tr style=\"text-align: right;\">\n",
       "      <th>graduated_4_year_degree_less_6_years</th>\n",
       "      <th>False</th>\n",
       "      <th>True</th>\n",
       "      <th>All</th>\n",
       "    </tr>\n",
       "    <tr>\n",
       "      <th>high_school_class</th>\n",
       "      <th></th>\n",
       "      <th></th>\n",
       "      <th></th>\n",
       "    </tr>\n",
       "  </thead>\n",
       "  <tbody>\n",
       "    <tr>\n",
       "      <td>2011</td>\n",
       "      <td>18</td>\n",
       "      <td>16</td>\n",
       "      <td>34</td>\n",
       "    </tr>\n",
       "    <tr>\n",
       "      <td>2012</td>\n",
       "      <td>19</td>\n",
       "      <td>23</td>\n",
       "      <td>42</td>\n",
       "    </tr>\n",
       "    <tr>\n",
       "      <td>2013</td>\n",
       "      <td>12</td>\n",
       "      <td>25</td>\n",
       "      <td>37</td>\n",
       "    </tr>\n",
       "    <tr>\n",
       "      <td>2014</td>\n",
       "      <td>16</td>\n",
       "      <td>37</td>\n",
       "      <td>53</td>\n",
       "    </tr>\n",
       "    <tr>\n",
       "      <td>All</td>\n",
       "      <td>65</td>\n",
       "      <td>101</td>\n",
       "      <td>166</td>\n",
       "    </tr>\n",
       "  </tbody>\n",
       "</table>\n",
       "</div>"
      ],
      "text/plain": [
       "graduated_4_year_degree_less_6_years  False  True  All\n",
       "high_school_class                                     \n",
       "2011                                     18    16   34\n",
       "2012                                     19    23   42\n",
       "2013                                     12    25   37\n",
       "2014                                     16    37   53\n",
       "All                                      65   101  166"
      ]
     },
     "execution_count": 77,
     "metadata": {},
     "output_type": "execute_result"
    }
   ],
   "source": [
    "grad_numbers_6_year = sf_cross_tab(df, \"graduated_4_year_degree_less_6_years\", normalize=False).round(2)\n",
    "\n",
    "grad_numbers_6_year"
   ]
  },
  {
   "cell_type": "markdown",
   "metadata": {},
   "source": [
    "#### Table 3. San Francisco 5 Year Graduation Rate by High School Class\n",
    "\n",
    "To be more accurate, we can look at the 5 year grad rate, but this tells essentially the same story."
   ]
  },
  {
   "cell_type": "code",
   "execution_count": 78,
   "metadata": {},
   "outputs": [
    {
     "data": {
      "text/html": [
       "<div>\n",
       "<style scoped>\n",
       "    .dataframe tbody tr th:only-of-type {\n",
       "        vertical-align: middle;\n",
       "    }\n",
       "\n",
       "    .dataframe tbody tr th {\n",
       "        vertical-align: top;\n",
       "    }\n",
       "\n",
       "    .dataframe thead th {\n",
       "        text-align: right;\n",
       "    }\n",
       "</style>\n",
       "<table border=\"1\" class=\"dataframe\">\n",
       "  <thead>\n",
       "    <tr style=\"text-align: right;\">\n",
       "      <th>graduated_4_year_degree_less_5_years</th>\n",
       "      <th>False</th>\n",
       "      <th>True</th>\n",
       "    </tr>\n",
       "    <tr>\n",
       "      <th>high_school_class</th>\n",
       "      <th></th>\n",
       "      <th></th>\n",
       "    </tr>\n",
       "  </thead>\n",
       "  <tbody>\n",
       "    <tr>\n",
       "      <td>2011</td>\n",
       "      <td>0.53</td>\n",
       "      <td>0.47</td>\n",
       "    </tr>\n",
       "    <tr>\n",
       "      <td>2012</td>\n",
       "      <td>0.48</td>\n",
       "      <td>0.52</td>\n",
       "    </tr>\n",
       "    <tr>\n",
       "      <td>2013</td>\n",
       "      <td>0.32</td>\n",
       "      <td>0.68</td>\n",
       "    </tr>\n",
       "    <tr>\n",
       "      <td>2014</td>\n",
       "      <td>0.30</td>\n",
       "      <td>0.70</td>\n",
       "    </tr>\n",
       "    <tr>\n",
       "      <td>All</td>\n",
       "      <td>0.40</td>\n",
       "      <td>0.60</td>\n",
       "    </tr>\n",
       "  </tbody>\n",
       "</table>\n",
       "</div>"
      ],
      "text/plain": [
       "graduated_4_year_degree_less_5_years  False  True \n",
       "high_school_class                                 \n",
       "2011                                   0.53   0.47\n",
       "2012                                   0.48   0.52\n",
       "2013                                   0.32   0.68\n",
       "2014                                   0.30   0.70\n",
       "All                                    0.40   0.60"
      ]
     },
     "execution_count": 78,
     "metadata": {},
     "output_type": "execute_result"
    }
   ],
   "source": [
    "grad_rate_5_year = sf_cross_tab(df, \"graduated_4_year_degree_less_5_years\").round(2)\n",
    "\n",
    "grad_rate_5_year\n"
   ]
  },
  {
   "cell_type": "markdown",
   "metadata": {},
   "source": [
    "### Statistical Test\n",
    "\n",
    "If we run an independent t-test on the 5 year graduation rates, we see that the class of 2014 is not statistically higher than the class of 2013, or 2012. "
   ]
  },
  {
   "cell_type": "markdown",
   "metadata": {},
   "source": [
    "#### P Value from t-test comparing 2014 -> 2013"
   ]
  },
  {
   "cell_type": "code",
   "execution_count": 28,
   "metadata": {},
   "outputs": [],
   "source": [
    "population1_test_1 = (\n",
    "    df[(df.site == \"San Francisco\") & (df.high_school_class == 2013)][\n",
    "        \"graduated_4_year_degree_less_5_years\"\n",
    "    ]\n",
    ").values\n",
    "\n",
    "\n",
    "population2_test_1 = (\n",
    "    df[(df.site == \"San Francisco\") & (df.high_school_class == 2014)][\n",
    "        \"graduated_4_year_degree_less_5_years\"\n",
    "    ]\n",
    ").values"
   ]
  },
  {
   "cell_type": "code",
   "execution_count": 79,
   "metadata": {},
   "outputs": [
    {
     "data": {
      "text/plain": [
       "0.82"
      ]
     },
     "execution_count": 79,
     "metadata": {},
     "output_type": "execute_result"
    }
   ],
   "source": [
    "# p value of independent t-test on populations above\n",
    "(round(sm.stats.ttest_ind(population1_test_1, population2_test_1)[1], 2))"
   ]
  },
  {
   "cell_type": "markdown",
   "metadata": {},
   "source": [
    "#### P Value from t-test comparing 2014 -> 2012 "
   ]
  },
  {
   "cell_type": "code",
   "execution_count": 31,
   "metadata": {},
   "outputs": [],
   "source": [
    "population1_test_2 = (\n",
    "    df[(df.site == \"San Francisco\") & (df.high_school_class == 2012)][\n",
    "        \"graduated_4_year_degree_less_5_years\"\n",
    "    ]\n",
    ").values\n",
    "\n",
    "\n",
    "population2_test_2 = (\n",
    "    df[(df.site == \"San Francisco\") & (df.high_school_class == 2014)][\n",
    "        \"graduated_4_year_degree_less_5_years\"\n",
    "    ]\n",
    ").values"
   ]
  },
  {
   "cell_type": "code",
   "execution_count": 80,
   "metadata": {},
   "outputs": [
    {
     "data": {
      "text/plain": [
       "0.08"
      ]
     },
     "execution_count": 80,
     "metadata": {},
     "output_type": "execute_result"
    }
   ],
   "source": [
    "(round(sm.stats.ttest_ind(population1_test_2, population2_test_2)[1], 2))"
   ]
  },
  {
   "cell_type": "markdown",
   "metadata": {},
   "source": [
    "#### P Value from t-test comparing 2014 -> 2011\n",
    "Note, this value is < 0.5"
   ]
  },
  {
   "cell_type": "code",
   "execution_count": 33,
   "metadata": {},
   "outputs": [],
   "source": [
    "population1_test_3 = (\n",
    "    df[(df.site == \"San Francisco\") & (df.high_school_class == 2011)][\n",
    "        \"graduated_4_year_degree_less_5_years\"\n",
    "    ]\n",
    ").values\n",
    "\n",
    "\n",
    "population2_test_3 = (\n",
    "    df[(df.site == \"San Francisco\") & (df.high_school_class == 2014)][\n",
    "        \"graduated_4_year_degree_less_5_years\"\n",
    "    ]\n",
    ").values"
   ]
  },
  {
   "cell_type": "code",
   "execution_count": 81,
   "metadata": {},
   "outputs": [
    {
     "data": {
      "text/plain": [
       "0.03"
      ]
     },
     "execution_count": 81,
     "metadata": {},
     "output_type": "execute_result"
    }
   ],
   "source": [
    "(round(sm.stats.ttest_ind(population1_test_3, population2_test_3)[1], 2))"
   ]
  },
  {
   "cell_type": "markdown",
   "metadata": {},
   "source": [
    "### Other Distributions\n",
    "\n",
    "Based on the above results, I don't believe we can say that the class of 2014 was notably higher that previous classes. It does however appear there is an upswing in graduation rate that has been increasing since 2011, with a decent jump from 2012 -> 2013 (though not a statistically significant one).\n",
    "\n",
    "With that in mind, here are other notable differences in the high school class distributions which might indicate changes that are influencing the graduation rate "
   ]
  },
  {
   "cell_type": "markdown",
   "metadata": {},
   "source": [
    "#### 11th Grade College Eligibility GPA\n",
    "\n",
    "This is the most notable distrobution change, with the class of 2014 having by far the highest 11th grade GPAs, with almost 75% of that student group having over a 3.0. Compared to 53% from the class of 2013 (the next highest)"
   ]
  },
  {
   "cell_type": "code",
   "execution_count": 83,
   "metadata": {},
   "outputs": [
    {
     "data": {
      "text/html": [
       "<div>\n",
       "<style scoped>\n",
       "    .dataframe tbody tr th:only-of-type {\n",
       "        vertical-align: middle;\n",
       "    }\n",
       "\n",
       "    .dataframe tbody tr th {\n",
       "        vertical-align: top;\n",
       "    }\n",
       "\n",
       "    .dataframe thead th {\n",
       "        text-align: right;\n",
       "    }\n",
       "</style>\n",
       "<table border=\"1\" class=\"dataframe\">\n",
       "  <thead>\n",
       "    <tr style=\"text-align: right;\">\n",
       "      <th>gpa_bucket</th>\n",
       "      <th>2.5 - 2.74</th>\n",
       "      <th>2.5 or less</th>\n",
       "      <th>2.75 - 2.9</th>\n",
       "      <th>3.0 - 3.49</th>\n",
       "      <th>3.5 or greater</th>\n",
       "    </tr>\n",
       "    <tr>\n",
       "      <th>high_school_class</th>\n",
       "      <th></th>\n",
       "      <th></th>\n",
       "      <th></th>\n",
       "      <th></th>\n",
       "      <th></th>\n",
       "    </tr>\n",
       "  </thead>\n",
       "  <tbody>\n",
       "    <tr>\n",
       "      <td>2011</td>\n",
       "      <td>0.06</td>\n",
       "      <td>0.50</td>\n",
       "      <td>0.12</td>\n",
       "      <td>0.12</td>\n",
       "      <td>0.21</td>\n",
       "    </tr>\n",
       "    <tr>\n",
       "      <td>2012</td>\n",
       "      <td>0.02</td>\n",
       "      <td>0.43</td>\n",
       "      <td>0.10</td>\n",
       "      <td>0.21</td>\n",
       "      <td>0.24</td>\n",
       "    </tr>\n",
       "    <tr>\n",
       "      <td>2013</td>\n",
       "      <td>0.19</td>\n",
       "      <td>0.14</td>\n",
       "      <td>0.14</td>\n",
       "      <td>0.24</td>\n",
       "      <td>0.30</td>\n",
       "    </tr>\n",
       "    <tr>\n",
       "      <td>2014</td>\n",
       "      <td>0.09</td>\n",
       "      <td>0.13</td>\n",
       "      <td>0.04</td>\n",
       "      <td>0.25</td>\n",
       "      <td>0.49</td>\n",
       "    </tr>\n",
       "  </tbody>\n",
       "</table>\n",
       "</div>"
      ],
      "text/plain": [
       "gpa_bucket         2.5 - 2.74  2.5 or less  2.75 - 2.9  3.0 - 3.49  \\\n",
       "high_school_class                                                    \n",
       "2011                     0.06         0.50        0.12        0.12   \n",
       "2012                     0.02         0.43        0.10        0.21   \n",
       "2013                     0.19         0.14        0.14        0.24   \n",
       "2014                     0.09         0.13        0.04        0.25   \n",
       "\n",
       "gpa_bucket         3.5 or greater  \n",
       "high_school_class                  \n",
       "2011                         0.21  \n",
       "2012                         0.24  \n",
       "2013                         0.30  \n",
       "2014                         0.49  "
      ]
     },
     "execution_count": 83,
     "metadata": {},
     "output_type": "execute_result"
    }
   ],
   "source": [
    "gpa_buckets = sf_cross_tab(df, \"gpa_bucket\", margins=False).round(2)\n",
    "\n",
    "\n",
    "\n",
    "gpa_buckets"
   ]
  },
  {
   "cell_type": "markdown",
   "metadata": {},
   "source": [
    "#### CT Entrance Diagnostics Math Scores\n",
    "If we look at each high school classes incoming CT math diagnostics scores, we also see that the class of 2014 had the highest percent of students either \"Ready\" or \"Near Ready.\" Noteworthy though, is the class of 2013 did not have any appreciable differences from the class of 2012. "
   ]
  },
  {
   "cell_type": "code",
   "execution_count": 48,
   "metadata": {},
   "outputs": [],
   "source": [
    "entrace_scores = df3[df3.version == \"Entrance into CT Diagnostic\"]"
   ]
  },
  {
   "cell_type": "code",
   "execution_count": 84,
   "metadata": {},
   "outputs": [
    {
     "data": {
      "text/html": [
       "<div>\n",
       "<style scoped>\n",
       "    .dataframe tbody tr th:only-of-type {\n",
       "        vertical-align: middle;\n",
       "    }\n",
       "\n",
       "    .dataframe tbody tr th {\n",
       "        vertical-align: top;\n",
       "    }\n",
       "\n",
       "    .dataframe thead th {\n",
       "        text-align: right;\n",
       "    }\n",
       "</style>\n",
       "<table border=\"1\" class=\"dataframe\">\n",
       "  <thead>\n",
       "    <tr style=\"text-align: right;\">\n",
       "      <th>act_math_readiness</th>\n",
       "      <th>1. Ready</th>\n",
       "      <th>2. Near Ready</th>\n",
       "      <th>3. Not Ready</th>\n",
       "    </tr>\n",
       "    <tr>\n",
       "      <th>high_school_class</th>\n",
       "      <th></th>\n",
       "      <th></th>\n",
       "      <th></th>\n",
       "    </tr>\n",
       "  </thead>\n",
       "  <tbody>\n",
       "    <tr>\n",
       "      <td>2012</td>\n",
       "      <td>0.33</td>\n",
       "      <td>0.11</td>\n",
       "      <td>0.56</td>\n",
       "    </tr>\n",
       "    <tr>\n",
       "      <td>2013</td>\n",
       "      <td>0.27</td>\n",
       "      <td>0.17</td>\n",
       "      <td>0.57</td>\n",
       "    </tr>\n",
       "    <tr>\n",
       "      <td>2014</td>\n",
       "      <td>0.36</td>\n",
       "      <td>0.23</td>\n",
       "      <td>0.41</td>\n",
       "    </tr>\n",
       "  </tbody>\n",
       "</table>\n",
       "</div>"
      ],
      "text/plain": [
       "act_math_readiness  1. Ready  2. Near Ready  3. Not Ready\n",
       "high_school_class                                        \n",
       "2012                    0.33           0.11          0.56\n",
       "2013                    0.27           0.17          0.57\n",
       "2014                    0.36           0.23          0.41"
      ]
     },
     "execution_count": 84,
     "metadata": {},
     "output_type": "execute_result"
    }
   ],
   "source": [
    "entrance_scores = sf_cross_tab(entrace_scores, \"act_math_readiness\", margins=False).round(2)\n",
    "\n",
    "entrance_scores"
   ]
  },
  {
   "cell_type": "markdown",
   "metadata": {},
   "source": [
    "#### OLS Regression on Math Scores and GPA (All SF Classes)\n",
    "Given the differences in entrance math scores and GPA data I wanted to investigate how strong of a predictor they are for college graduation. \n",
    "\n",
    "As shown on the table below, there is a positive correlation between these factors, though for entrance math scores the correlation is almost 0. For college eligibility, there is a higher coefficient, indicating students with higher 11th grade GPAs were almost 20% more likely to graduate for every whole point increase in their GPA. However, note the R-squared value for this is very low and therefore this shouldn't be viewed as very significant. "
   ]
  },
  {
   "cell_type": "code",
   "execution_count": 58,
   "metadata": {},
   "outputs": [
    {
     "name": "stderr",
     "output_type": "stream",
     "text": [
      "//anaconda3/envs/env/lib/python3.7/site-packages/numpy/core/fromnumeric.py:2495: FutureWarning: Method .ptp is deprecated and will be removed in a future version. Use numpy.ptp instead.\n",
      "  return ptp(axis=axis, out=out, **kwargs)\n"
     ]
    }
   ],
   "source": [
    "df_sub = df[df.site == \"San Francisco\"].dropna(subset=['act_mathematics'])\n",
    "df_sub = df_sub.astype({'act_mathematics': 'int32'})\n",
    "y = df_sub[\"graduated_4_year_degree_less_5_years\"]\n",
    "X = df_sub[[\"act_mathematics\", 'college_elig_gpa_11th_cgpa']]\n",
    "X = sm.add_constant(X)"
   ]
  },
  {
   "cell_type": "code",
   "execution_count": 119,
   "metadata": {},
   "outputs": [
    {
     "data": {
      "text/html": [
       "<table class=\"simpletable\">\n",
       "<caption>OLS Regression Results</caption>\n",
       "<tr>\n",
       "  <th>Dep. Variable:</th>    <td>graduated_4_year_degree_less_5_years</td> <th>  R-squared:         </th> <td>   0.251</td>\n",
       "</tr>\n",
       "<tr>\n",
       "  <th>Model:</th>                             <td>OLS</td>                 <th>  Adj. R-squared:    </th> <td>   0.235</td>\n",
       "</tr>\n",
       "<tr>\n",
       "  <th>Method:</th>                       <td>Least Squares</td>            <th>  F-statistic:       </th> <td>   16.38</td>\n",
       "</tr>\n",
       "<tr>\n",
       "  <th>Date:</th>                       <td>Thu, 05 Mar 2020</td>           <th>  Prob (F-statistic):</th> <td>7.27e-07</td>\n",
       "</tr>\n",
       "<tr>\n",
       "  <th>Time:</th>                           <td>13:23:54</td>               <th>  Log-Likelihood:    </th> <td> -53.741</td>\n",
       "</tr>\n",
       "<tr>\n",
       "  <th>No. Observations:</th>                <td>   101</td>                <th>  AIC:               </th> <td>   113.5</td>\n",
       "</tr>\n",
       "<tr>\n",
       "  <th>Df Residuals:</th>                    <td>    98</td>                <th>  BIC:               </th> <td>   121.3</td>\n",
       "</tr>\n",
       "<tr>\n",
       "  <th>Df Model:</th>                        <td>     2</td>                <th>                     </th>     <td> </td>   \n",
       "</tr>\n",
       "<tr>\n",
       "  <th>Covariance Type:</th>                <td>nonrobust</td>              <th>                     </th>     <td> </td>   \n",
       "</tr>\n",
       "</table>\n",
       "<table class=\"simpletable\">\n",
       "<tr>\n",
       "               <td></td>                 <th>coef</th>     <th>std err</th>      <th>t</th>      <th>P>|t|</th>  <th>[0.025</th>    <th>0.975]</th>  \n",
       "</tr>\n",
       "<tr>\n",
       "  <th>const</th>                      <td>   -0.3608</td> <td>    0.197</td> <td>   -1.835</td> <td> 0.069</td> <td>   -0.751</td> <td>    0.029</td>\n",
       "</tr>\n",
       "<tr>\n",
       "  <th>act_mathematics</th>            <td>    0.0265</td> <td>    0.010</td> <td>    2.591</td> <td> 0.011</td> <td>    0.006</td> <td>    0.047</td>\n",
       "</tr>\n",
       "<tr>\n",
       "  <th>college_elig_gpa_11th_cgpa</th> <td>    0.1907</td> <td>    0.042</td> <td>    4.531</td> <td> 0.000</td> <td>    0.107</td> <td>    0.274</td>\n",
       "</tr>\n",
       "</table>\n",
       "<table class=\"simpletable\">\n",
       "<tr>\n",
       "  <th>Omnibus:</th>       <td> 5.119</td> <th>  Durbin-Watson:     </th> <td>   1.761</td>\n",
       "</tr>\n",
       "<tr>\n",
       "  <th>Prob(Omnibus):</th> <td> 0.077</td> <th>  Jarque-Bera (JB):  </th> <td>   2.672</td>\n",
       "</tr>\n",
       "<tr>\n",
       "  <th>Skew:</th>          <td>-0.126</td> <th>  Prob(JB):          </th> <td>   0.263</td>\n",
       "</tr>\n",
       "<tr>\n",
       "  <th>Kurtosis:</th>      <td> 2.244</td> <th>  Cond. No.          </th> <td>    82.6</td>\n",
       "</tr>\n",
       "</table><br/><br/>Warnings:<br/>[1] Standard Errors assume that the covariance matrix of the errors is correctly specified."
      ],
      "text/plain": [
       "<class 'statsmodels.iolib.summary.Summary'>\n",
       "\"\"\"\n",
       "                                     OLS Regression Results                                     \n",
       "================================================================================================\n",
       "Dep. Variable:     graduated_4_year_degree_less_5_years   R-squared:                       0.251\n",
       "Model:                                              OLS   Adj. R-squared:                  0.235\n",
       "Method:                                   Least Squares   F-statistic:                     16.38\n",
       "Date:                                  Thu, 05 Mar 2020   Prob (F-statistic):           7.27e-07\n",
       "Time:                                          13:23:54   Log-Likelihood:                -53.741\n",
       "No. Observations:                                   101   AIC:                             113.5\n",
       "Df Residuals:                                        98   BIC:                             121.3\n",
       "Df Model:                                             2                                         \n",
       "Covariance Type:                              nonrobust                                         \n",
       "==============================================================================================\n",
       "                                 coef    std err          t      P>|t|      [0.025      0.975]\n",
       "----------------------------------------------------------------------------------------------\n",
       "const                         -0.3608      0.197     -1.835      0.069      -0.751       0.029\n",
       "act_mathematics                0.0265      0.010      2.591      0.011       0.006       0.047\n",
       "college_elig_gpa_11th_cgpa     0.1907      0.042      4.531      0.000       0.107       0.274\n",
       "==============================================================================\n",
       "Omnibus:                        5.119   Durbin-Watson:                   1.761\n",
       "Prob(Omnibus):                  0.077   Jarque-Bera (JB):                2.672\n",
       "Skew:                          -0.126   Prob(JB):                        0.263\n",
       "Kurtosis:                       2.244   Cond. No.                         82.6\n",
       "==============================================================================\n",
       "\n",
       "Warnings:\n",
       "[1] Standard Errors assume that the covariance matrix of the errors is correctly specified.\n",
       "\"\"\""
      ]
     },
     "execution_count": 119,
     "metadata": {},
     "output_type": "execute_result"
    }
   ],
   "source": [
    "model = sm.OLS(y.astype(float), X.astype(float)).fit()\n",
    "predictions = model.predict(X)  # make the predictions by the model\n",
    "\n",
    "# Print out the statistics\n",
    "model.summary()"
   ]
  },
  {
   "cell_type": "code",
   "execution_count": 10,
   "metadata": {},
   "outputs": [
    {
     "data": {
      "text/plain": [
       "Index(['site', '18_digit_id', 'full_name', 'high_school_class',\n",
       "       'indicator_first_generation', 'indicator_low_income',\n",
       "       'annual_household_income', 'college_elig_gpa_11th_cgpa',\n",
       "       'act_superscore_highest_official', 'graduated_2_year_degree',\n",
       "       'graduated_4_year_degree', 'graduated_4_year_degree_less_4_years',\n",
       "       'graduated_4_year_degree_less_5_years',\n",
       "       'graduated_4_year_degree_less_6_years',\n",
       "       'cc_advisor_4_year_degree_earned', 'total_bb_earnings_as_of_hs_grad',\n",
       "       'total_bank_book_disbursements', '#_of_best_fit_college_applications',\n",
       "       '#_entrance_into_ct_diagnostic', 'readiness_composite_official',\n",
       "       '#_four_year_college_acceptances', 'college_first_enrolled_school_type',\n",
       "       'college_track_status', 'college_first_enrolled_pat',\n",
       "       'dosage_rec_overall', 'ethnic_background',\n",
       "       'indicator_persisted_into_year_2_ct', 'gpa_bucket', 'act_english',\n",
       "       'act_mathematics', 'act_english_readiness', 'act_math_readiness'],\n",
       "      dtype='object')"
      ]
     },
     "execution_count": 10,
     "metadata": {},
     "output_type": "execute_result"
    }
   ],
   "source": [
    "df.columns"
   ]
  },
  {
   "cell_type": "code",
   "execution_count": 59,
   "metadata": {},
   "outputs": [],
   "source": [
    "corrMatrix = df_sub[['indicator_first_generation', 'indicator_low_income', 'graduated_4_year_degree_less_5_years','total_bb_earnings_as_of_hs_grad', 'college_elig_gpa_11th_cgpa', 'ethnic_background','act_mathematics','act_english_readiness']].corr()\n",
    "# sn.heatmap(corrMatrix, annot=True);"
   ]
  },
  {
   "cell_type": "code",
   "execution_count": 46,
   "metadata": {},
   "outputs": [],
   "source": [
    "corrMatrix = df.corr()"
   ]
  },
  {
   "cell_type": "code",
   "execution_count": 60,
   "metadata": {},
   "outputs": [
    {
     "data": {
      "image/png": "[encoded data removed]",
      "text/plain": [
       "<Figure size 576x576 with 2 Axes>"
      ]
     },
     "metadata": {},
     "output_type": "display_data"
    }
   ],
   "source": [
    "with sns.axes_style(\"white\"):\n",
    "    f, ax = plt.subplots(figsize=(8, 8))\n",
    "    ax = sns.heatmap(corrMatrix, vmax=1, square=True, annot=True)"
   ]
  },
  {
   "cell_type": "code",
   "execution_count": 66,
   "metadata": {},
   "outputs": [
    {
     "data": {
      "text/html": [
       "<script src=\"https://cdn.rawgit.com/parente/4c3e6936d0d7a46fd071/raw/65b816fb9bdd3c28b4ddf3af602bfd6015486383/code_toggle.js\"></script>\n",
       "<style>\n",
       "div.prompt {display:none}\n",
       "</style>\n"
      ],
      "text/plain": [
       "<IPython.core.display.HTML object>"
      ]
     },
     "metadata": {},
     "output_type": "display_data"
    }
   ],
   "source": [
    "%%html\n",
    "<script src=\"https://cdn.rawgit.com/parente/4c3e6936d0d7a46fd071/raw/65b816fb9bdd3c28b4ddf3af602bfd6015486383/code_toggle.js\"></script>\n",
    "<style>\n",
    "div.prompt {display:none}\n",
    "</style>"
   ]
  }
 ],
 "metadata": {
  "hide_input": false,
  "kernelspec": {
   "display_name": "Python 3",
   "language": "python",
   "name": "python3"
  },
  "language_info": {
   "codemirror_mode": {
    "name": "ipython",
    "version": 3
   },
   "file_extension": ".py",
   "mimetype": "text/x-python",
   "name": "python",
   "nbconvert_exporter": "python",
   "pygments_lexer": "ipython3",
   "version": "3.7.4"
  },
  "toc": {
   "base_numbering": 1,
   "nav_menu": {},
   "number_sections": true,
   "sideBar": true,
   "skip_h1_title": false,
   "title_cell": "Table of Contents",
   "title_sidebar": "Contents",
   "toc_cell": false,
   "toc_position": {},
   "toc_section_display": true,
   "toc_window_display": false
  }
 },
 "nbformat": 4,
 "nbformat_minor": 4
}
