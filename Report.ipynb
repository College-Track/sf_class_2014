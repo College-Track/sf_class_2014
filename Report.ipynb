{
 "cells": [
  {
   "cell_type": "markdown",
   "metadata": {},
   "source": [
    "## OP Learning Agenda: SF Class of 2014\n",
    "\n",
    "A project to determine what, if anything, influenced the graduation success of the San Francisco class of 2014."
   ]
  },
  {
   "cell_type": "code",
   "execution_count": 1,
   "metadata": {},
   "outputs": [],
   "source": [
    "import pandas as pd\n",
    "from pathlib import Path\n",
    "from datetime import datetime\n",
    "import statsmodels.api as sm\n",
    "import numpy as np\n",
    "from tabulate import tabulate"
   ]
  },
  {
   "cell_type": "code",
   "execution_count": 2,
   "metadata": {},
   "outputs": [
    {
     "data": {
      "application/javascript": [
       "\n",
       "            setTimeout(function() {\n",
       "                var nbb_cell_id = 2;\n",
       "                var nbb_unformatted_code = \"%matplotlib inline\\n%load_ext nb_black\";\n",
       "                var nbb_formatted_code = \"%matplotlib inline\\n%load_ext nb_black\";\n",
       "                var nbb_cells = Jupyter.notebook.get_cells();\n",
       "                for (var i = 0; i < nbb_cells.length; ++i) {\n",
       "                    if (nbb_cells[i].input_prompt_number == nbb_cell_id) {\n",
       "                        if (nbb_cells[i].get_text() == nbb_unformatted_code) {\n",
       "                             nbb_cells[i].set_text(nbb_formatted_code);\n",
       "                        }\n",
       "                        break;\n",
       "                    }\n",
       "                }\n",
       "            }, 500);\n",
       "            "
      ],
      "text/plain": [
       "<IPython.core.display.Javascript object>"
      ]
     },
     "metadata": {},
     "output_type": "display_data"
    }
   ],
   "source": [
    "%matplotlib inline\n",
    "%load_ext nb_black\n"
   ]
  },
  {
   "cell_type": "code",
   "execution_count": 3,
   "metadata": {},
   "outputs": [
    {
     "data": {
      "application/javascript": [
       "\n",
       "            setTimeout(function() {\n",
       "                var nbb_cell_id = 3;\n",
       "                var nbb_unformatted_code = \"today = datetime.today()\\nin_file = Path.cwd() / \\\"data\\\" / \\\"processed\\\" / \\\"processed_data.pkl\\\"\\nreport_dir = Path.cwd() / \\\"reports\\\"\\nreport_file = report_dir / \\\"Excel_Analysis_{today:%b-%d-%Y}.xlsx\\\"\\n\\nin_file2 = Path.cwd() / \\\"data\\\" / \\\"processed\\\" / \\\"processed_data_file2.pkl\\\"\\n\\nin_file3 = Path.cwd() / \\\"data\\\" / \\\"processed\\\" / \\\"processed_data_file3.pkl\\\"\";\n",
       "                var nbb_formatted_code = \"today = datetime.today()\\nin_file = Path.cwd() / \\\"data\\\" / \\\"processed\\\" / \\\"processed_data.pkl\\\"\\nreport_dir = Path.cwd() / \\\"reports\\\"\\nreport_file = report_dir / \\\"Excel_Analysis_{today:%b-%d-%Y}.xlsx\\\"\\n\\nin_file2 = Path.cwd() / \\\"data\\\" / \\\"processed\\\" / \\\"processed_data_file2.pkl\\\"\\n\\nin_file3 = Path.cwd() / \\\"data\\\" / \\\"processed\\\" / \\\"processed_data_file3.pkl\\\"\";\n",
       "                var nbb_cells = Jupyter.notebook.get_cells();\n",
       "                for (var i = 0; i < nbb_cells.length; ++i) {\n",
       "                    if (nbb_cells[i].input_prompt_number == nbb_cell_id) {\n",
       "                        if (nbb_cells[i].get_text() == nbb_unformatted_code) {\n",
       "                             nbb_cells[i].set_text(nbb_formatted_code);\n",
       "                        }\n",
       "                        break;\n",
       "                    }\n",
       "                }\n",
       "            }, 500);\n",
       "            "
      ],
      "text/plain": [
       "<IPython.core.display.Javascript object>"
      ]
     },
     "metadata": {},
     "output_type": "display_data"
    }
   ],
   "source": [
    "today = datetime.today()\n",
    "in_file = Path.cwd() / \"data\" / \"processed\" / \"processed_data.pkl\"\n",
    "report_dir = Path.cwd() / \"reports\"\n",
    "report_file = report_dir / \"Excel_Analysis_{today:%b-%d-%Y}.xlsx\"\n",
    "\n",
    "in_file2 = Path.cwd() / \"data\" / \"processed\" / \"processed_data_file2.pkl\"\n",
    "\n",
    "in_file3 = Path.cwd() / \"data\" / \"processed\" / \"processed_data_file3.pkl\"\n"
   ]
  },
  {
   "cell_type": "code",
   "execution_count": 4,
   "metadata": {},
   "outputs": [
    {
     "data": {
      "application/javascript": [
       "\n",
       "            setTimeout(function() {\n",
       "                var nbb_cell_id = 4;\n",
       "                var nbb_unformatted_code = \"df = pd.read_pickle(in_file)\\n\\ndf2 = pd.read_pickle(in_file2)\\n\\ndf3 = pd.read_pickle(in_file3)\";\n",
       "                var nbb_formatted_code = \"df = pd.read_pickle(in_file)\\n\\ndf2 = pd.read_pickle(in_file2)\\n\\ndf3 = pd.read_pickle(in_file3)\";\n",
       "                var nbb_cells = Jupyter.notebook.get_cells();\n",
       "                for (var i = 0; i < nbb_cells.length; ++i) {\n",
       "                    if (nbb_cells[i].input_prompt_number == nbb_cell_id) {\n",
       "                        if (nbb_cells[i].get_text() == nbb_unformatted_code) {\n",
       "                             nbb_cells[i].set_text(nbb_formatted_code);\n",
       "                        }\n",
       "                        break;\n",
       "                    }\n",
       "                }\n",
       "            }, 500);\n",
       "            "
      ],
      "text/plain": [
       "<IPython.core.display.Javascript object>"
      ]
     },
     "metadata": {},
     "output_type": "display_data"
    }
   ],
   "source": [
    "df = pd.read_pickle(in_file)\n",
    "\n",
    "df2 = pd.read_pickle(in_file2)\n",
    "\n",
    "df3 = pd.read_pickle(in_file3)"
   ]
  },
  {
   "cell_type": "code",
   "execution_count": 5,
   "metadata": {},
   "outputs": [
    {
     "data": {
      "application/javascript": [
       "\n",
       "            setTimeout(function() {\n",
       "                var nbb_cell_id = 5;\n",
       "                var nbb_unformatted_code = \"def sf_cross_tab(df, column, normalize=\\\"index\\\"):\\n    return pd.crosstab(\\n        df[df.site == \\\"San Francisco\\\"].high_school_class,\\n        df[df.site == \\\"San Francisco\\\"][column],\\n        normalize=normalize,\\n        margins=True,\\n    )\";\n",
       "                var nbb_formatted_code = \"def sf_cross_tab(df, column, normalize=\\\"index\\\"):\\n    return pd.crosstab(\\n        df[df.site == \\\"San Francisco\\\"].high_school_class,\\n        df[df.site == \\\"San Francisco\\\"][column],\\n        normalize=normalize,\\n        margins=True,\\n    )\";\n",
       "                var nbb_cells = Jupyter.notebook.get_cells();\n",
       "                for (var i = 0; i < nbb_cells.length; ++i) {\n",
       "                    if (nbb_cells[i].input_prompt_number == nbb_cell_id) {\n",
       "                        if (nbb_cells[i].get_text() == nbb_unformatted_code) {\n",
       "                             nbb_cells[i].set_text(nbb_formatted_code);\n",
       "                        }\n",
       "                        break;\n",
       "                    }\n",
       "                }\n",
       "            }, 500);\n",
       "            "
      ],
      "text/plain": [
       "<IPython.core.display.Javascript object>"
      ]
     },
     "metadata": {},
     "output_type": "display_data"
    }
   ],
   "source": [
    "def sf_cross_tab(df, column, normalize=\"index\"):\n",
    "    return pd.crosstab(\n",
    "        df[df.site == \"San Francisco\"].high_school_class,\n",
    "        df[df.site == \"San Francisco\"][column],\n",
    "        normalize=normalize,\n",
    "        margins=True,\n",
    "    )"
   ]
  },
  {
   "cell_type": "markdown",
   "metadata": {},
   "source": [
    "##  General Distrobutions\n",
    "\n",
    "SF Class of 2014 is on track to have the highest 6 year grad rate, with almost 70% of students already graduating, but that number isn't significantly higher than the class of 2013. Though we do see a reasonably big jump from 2012 to 2013. \n",
    "\n"
   ]
  },
  {
   "cell_type": "markdown",
   "metadata": {},
   "source": [
    "#### Table 1. San Francisco 6 Year Graduation Rate by High School Class "
   ]
  },
  {
   "cell_type": "code",
   "execution_count": 6,
   "metadata": {},
   "outputs": [
    {
     "name": "stdout",
     "output_type": "stream",
     "text": [
      "HS Class      % Did not Graduate    Graduation Rate\n",
      "----------  --------------------  -----------------\n",
      "2011                    0.529412           0.470588\n",
      "2012                    0.452381           0.547619\n",
      "2013                    0.324324           0.675676\n",
      "2014                    0.301887           0.698113\n",
      "All                     0.391566           0.608434\n"
     ]
    },
    {
     "data": {
      "application/javascript": [
       "\n",
       "            setTimeout(function() {\n",
       "                var nbb_cell_id = 6;\n",
       "                var nbb_unformatted_code = \"# Grad Rate Less than 6 years\\n\\ngrad_rate_6_year = sf_cross_tab(df, \\\"graduated_4_year_degree_less_6_years\\\")\\n\\nprint(tabulate(grad_rate_6_year, headers=[\\\"HS Class\\\",\\\"% Did not Graduate\\\", \\\"Graduation Rate\\\"], tablefmt='simple'))\";\n",
       "                var nbb_formatted_code = \"# Grad Rate Less than 6 years\\n\\ngrad_rate_6_year = sf_cross_tab(df, \\\"graduated_4_year_degree_less_6_years\\\")\\n\\nprint(\\n    tabulate(\\n        grad_rate_6_year,\\n        headers=[\\\"HS Class\\\", \\\"% Did not Graduate\\\", \\\"Graduation Rate\\\"],\\n        tablefmt=\\\"simple\\\",\\n    )\\n)\";\n",
       "                var nbb_cells = Jupyter.notebook.get_cells();\n",
       "                for (var i = 0; i < nbb_cells.length; ++i) {\n",
       "                    if (nbb_cells[i].input_prompt_number == nbb_cell_id) {\n",
       "                        if (nbb_cells[i].get_text() == nbb_unformatted_code) {\n",
       "                             nbb_cells[i].set_text(nbb_formatted_code);\n",
       "                        }\n",
       "                        break;\n",
       "                    }\n",
       "                }\n",
       "            }, 500);\n",
       "            "
      ],
      "text/plain": [
       "<IPython.core.display.Javascript object>"
      ]
     },
     "metadata": {},
     "output_type": "display_data"
    }
   ],
   "source": [
    "# Grad Rate Less than 6 years\n",
    "\n",
    "grad_rate_6_year = sf_cross_tab(df, \"graduated_4_year_degree_less_6_years\")\n",
    "\n",
    "print(tabulate(grad_rate_6_year, headers=[\"HS Class\",\"% Did not Graduate\", \"Graduation Rate\"], tablefmt='simple'))\n"
   ]
  },
  {
   "cell_type": "markdown",
   "metadata": {
    "hide_input": true
   },
   "source": [
    "#### Table 2. San Francisco 6 Year Graduation Count by High School Class \n"
   ]
  },
  {
   "cell_type": "code",
   "execution_count": 28,
   "metadata": {},
   "outputs": [
    {
     "data": {
      "text/html": [
       "<div>\n",
       "<style scoped>\n",
       "    .dataframe tbody tr th:only-of-type {\n",
       "        vertical-align: middle;\n",
       "    }\n",
       "\n",
       "    .dataframe tbody tr th {\n",
       "        vertical-align: top;\n",
       "    }\n",
       "\n",
       "    .dataframe thead th {\n",
       "        text-align: right;\n",
       "    }\n",
       "</style>\n",
       "<table border=\"1\" class=\"dataframe\">\n",
       "  <thead>\n",
       "    <tr style=\"text-align: right;\">\n",
       "      <th>graduated_4_year_degree_less_6_years</th>\n",
       "      <th>False</th>\n",
       "      <th>True</th>\n",
       "      <th>All</th>\n",
       "    </tr>\n",
       "    <tr>\n",
       "      <th>high_school_class</th>\n",
       "      <th></th>\n",
       "      <th></th>\n",
       "      <th></th>\n",
       "    </tr>\n",
       "  </thead>\n",
       "  <tbody>\n",
       "    <tr>\n",
       "      <td>2011</td>\n",
       "      <td>18</td>\n",
       "      <td>16</td>\n",
       "      <td>34</td>\n",
       "    </tr>\n",
       "    <tr>\n",
       "      <td>2012</td>\n",
       "      <td>19</td>\n",
       "      <td>23</td>\n",
       "      <td>42</td>\n",
       "    </tr>\n",
       "    <tr>\n",
       "      <td>2013</td>\n",
       "      <td>12</td>\n",
       "      <td>25</td>\n",
       "      <td>37</td>\n",
       "    </tr>\n",
       "    <tr>\n",
       "      <td>2014</td>\n",
       "      <td>16</td>\n",
       "      <td>37</td>\n",
       "      <td>53</td>\n",
       "    </tr>\n",
       "    <tr>\n",
       "      <td>All</td>\n",
       "      <td>65</td>\n",
       "      <td>101</td>\n",
       "      <td>166</td>\n",
       "    </tr>\n",
       "  </tbody>\n",
       "</table>\n",
       "</div>"
      ],
      "text/plain": [
       "graduated_4_year_degree_less_6_years  False  True  All\n",
       "high_school_class                                     \n",
       "2011                                     18    16   34\n",
       "2012                                     19    23   42\n",
       "2013                                     12    25   37\n",
       "2014                                     16    37   53\n",
       "All                                      65   101  166"
      ]
     },
     "execution_count": 28,
     "metadata": {},
     "output_type": "execute_result"
    },
    {
     "data": {
      "application/javascript": [
       "\n",
       "            setTimeout(function() {\n",
       "                var nbb_cell_id = 28;\n",
       "                var nbb_unformatted_code = \"sf_cross_tab(df, \\\"graduated_4_year_degree_less_6_years\\\", normalize=False)\";\n",
       "                var nbb_formatted_code = \"sf_cross_tab(df, \\\"graduated_4_year_degree_less_6_years\\\", normalize=False)\";\n",
       "                var nbb_cells = Jupyter.notebook.get_cells();\n",
       "                for (var i = 0; i < nbb_cells.length; ++i) {\n",
       "                    if (nbb_cells[i].input_prompt_number == nbb_cell_id) {\n",
       "                        if (nbb_cells[i].get_text() == nbb_unformatted_code) {\n",
       "                             nbb_cells[i].set_text(nbb_formatted_code);\n",
       "                        }\n",
       "                        break;\n",
       "                    }\n",
       "                }\n",
       "            }, 500);\n",
       "            "
      ],
      "text/plain": [
       "<IPython.core.display.Javascript object>"
      ]
     },
     "metadata": {},
     "output_type": "display_data"
    }
   ],
   "source": [
    "sf_cross_tab(df, \"graduated_4_year_degree_less_6_years\", normalize=False)\n"
   ]
  },
  {
   "cell_type": "markdown",
   "metadata": {},
   "source": [
    "#### Table 3. San Francisco 5 Year Graduation Rate by High School Class\n",
    "\n",
    "To be more accurate, we can look at the 5 year grad rate, but this tells essentially the same story."
   ]
  },
  {
   "cell_type": "code",
   "execution_count": 29,
   "metadata": {},
   "outputs": [
    {
     "data": {
      "text/html": [
       "<div>\n",
       "<style scoped>\n",
       "    .dataframe tbody tr th:only-of-type {\n",
       "        vertical-align: middle;\n",
       "    }\n",
       "\n",
       "    .dataframe tbody tr th {\n",
       "        vertical-align: top;\n",
       "    }\n",
       "\n",
       "    .dataframe thead th {\n",
       "        text-align: right;\n",
       "    }\n",
       "</style>\n",
       "<table border=\"1\" class=\"dataframe\">\n",
       "  <thead>\n",
       "    <tr style=\"text-align: right;\">\n",
       "      <th>graduated_4_year_degree_less_5_years</th>\n",
       "      <th>False</th>\n",
       "      <th>True</th>\n",
       "    </tr>\n",
       "    <tr>\n",
       "      <th>high_school_class</th>\n",
       "      <th></th>\n",
       "      <th></th>\n",
       "    </tr>\n",
       "  </thead>\n",
       "  <tbody>\n",
       "    <tr>\n",
       "      <td>2011</td>\n",
       "      <td>0.529412</td>\n",
       "      <td>0.470588</td>\n",
       "    </tr>\n",
       "    <tr>\n",
       "      <td>2012</td>\n",
       "      <td>0.476190</td>\n",
       "      <td>0.523810</td>\n",
       "    </tr>\n",
       "    <tr>\n",
       "      <td>2013</td>\n",
       "      <td>0.324324</td>\n",
       "      <td>0.675676</td>\n",
       "    </tr>\n",
       "    <tr>\n",
       "      <td>2014</td>\n",
       "      <td>0.301887</td>\n",
       "      <td>0.698113</td>\n",
       "    </tr>\n",
       "    <tr>\n",
       "      <td>All</td>\n",
       "      <td>0.397590</td>\n",
       "      <td>0.602410</td>\n",
       "    </tr>\n",
       "  </tbody>\n",
       "</table>\n",
       "</div>"
      ],
      "text/plain": [
       "graduated_4_year_degree_less_5_years     False     True \n",
       "high_school_class                                       \n",
       "2011                                  0.529412  0.470588\n",
       "2012                                  0.476190  0.523810\n",
       "2013                                  0.324324  0.675676\n",
       "2014                                  0.301887  0.698113\n",
       "All                                   0.397590  0.602410"
      ]
     },
     "execution_count": 29,
     "metadata": {},
     "output_type": "execute_result"
    }
   ],
   "source": [
    "sf_cross_tab(df, \"graduated_4_year_degree_less_5_years\")\n"
   ]
  },
  {
   "cell_type": "markdown",
   "metadata": {},
   "source": [
    "### Statistical Test\n",
    "\n",
    "If we run an independent t-test on the 5 year graduation rates, we see that the class of 2014 is not statistically higher than the class of 2013, or 2012. "
   ]
  },
  {
   "cell_type": "markdown",
   "metadata": {},
   "source": [
    "#### P Value from t-test comparing 2014 -> 2013"
   ]
  },
  {
   "cell_type": "code",
   "execution_count": 20,
   "metadata": {},
   "outputs": [],
   "source": [
    "population1 = (\n",
    "    df[(df.site == \"San Francisco\") & (df.high_school_class == 2013)][\n",
    "        \"graduated_4_year_degree_less_5_years\"\n",
    "    ]\n",
    ").values\n",
    "\n",
    "\n",
    "population2 = (\n",
    "    df[(df.site == \"San Francisco\") & (df.high_school_class == 2014)][\n",
    "        \"graduated_4_year_degree_less_5_years\"\n",
    "    ]\n",
    ").values"
   ]
  },
  {
   "cell_type": "code",
   "execution_count": 22,
   "metadata": {},
   "outputs": [
    {
     "data": {
      "text/plain": [
       "0.8234541444667163"
      ]
     },
     "execution_count": 22,
     "metadata": {},
     "output_type": "execute_result"
    }
   ],
   "source": [
    "# p value of independent t-test on populations above\n",
    "sm.stats.ttest_ind(population1, population2)[1]\n"
   ]
  },
  {
   "cell_type": "markdown",
   "metadata": {},
   "source": [
    "#### P Value from t-test comparing 2014 -> 2012 "
   ]
  },
  {
   "cell_type": "code",
   "execution_count": 23,
   "metadata": {},
   "outputs": [],
   "source": [
    "population1 = (\n",
    "    df[(df.site == \"San Francisco\") & (df.high_school_class == 2012)][\n",
    "        \"graduated_4_year_degree_less_5_years\"\n",
    "    ]\n",
    ").values\n",
    "\n",
    "\n",
    "population2 = (\n",
    "    df[(df.site == \"San Francisco\") & (df.high_school_class == 2014)][\n",
    "        \"graduated_4_year_degree_less_5_years\"\n",
    "    ]\n",
    ").values"
   ]
  },
  {
   "cell_type": "code",
   "execution_count": 24,
   "metadata": {},
   "outputs": [
    {
     "data": {
      "text/plain": [
       "0.08361118835853203"
      ]
     },
     "execution_count": 24,
     "metadata": {},
     "output_type": "execute_result"
    }
   ],
   "source": [
    "sm.stats.ttest_ind(population1, population2)[1]\n"
   ]
  },
  {
   "cell_type": "markdown",
   "metadata": {},
   "source": [
    "#### P Value from t-test comparing 2014 -> 2011\n",
    "Note, this value is < 0.5"
   ]
  },
  {
   "cell_type": "code",
   "execution_count": 27,
   "metadata": {},
   "outputs": [],
   "source": [
    "population1 = (\n",
    "    df[(df.site == \"San Francisco\") & (df.high_school_class == 2011)][\n",
    "        \"graduated_4_year_degree_less_5_years\"\n",
    "    ]\n",
    ").values\n",
    "\n",
    "\n",
    "population2 = (\n",
    "    df[(df.site == \"San Francisco\") & (df.high_school_class == 2014)][\n",
    "        \"graduated_4_year_degree_less_5_years\"\n",
    "    ]\n",
    ").values"
   ]
  },
  {
   "cell_type": "code",
   "execution_count": 28,
   "metadata": {},
   "outputs": [
    {
     "data": {
      "text/plain": [
       "0.03405678968608344"
      ]
     },
     "execution_count": 28,
     "metadata": {},
     "output_type": "execute_result"
    }
   ],
   "source": [
    "sm.stats.ttest_ind(population1, population2)[1]\n"
   ]
  },
  {
   "cell_type": "markdown",
   "metadata": {},
   "source": [
    "### Other Distributions\n",
    "\n",
    "Based on the above results, I don't believe we can say that the class of 2014 was notably higher that previous classes. It does however appear there is an upswring in graduation rate that has been increasing since 2011, with a decent jump from 2012 -> 2013 (though not a statistically significant one).\n",
    "\n",
    "With that in mind, here are other notable differences in the high school class distributions which might indicatate changes that are influencing the graduation rate "
   ]
  },
  {
   "cell_type": "markdown",
   "metadata": {},
   "source": [
    "#### 11th Grade College Eligibility GPA\n",
    "\n",
    "This is the most notable distrobution change, with the class of 2014 having by far the highest 11th grade GPAs, with almost 75% of that student group having over a 3.0. Compared to 53% from the class of 2013 (the next highest)"
   ]
  },
  {
   "cell_type": "code",
   "execution_count": 33,
   "metadata": {},
   "outputs": [
    {
     "data": {
      "text/html": [
       "<div>\n",
       "<style scoped>\n",
       "    .dataframe tbody tr th:only-of-type {\n",
       "        vertical-align: middle;\n",
       "    }\n",
       "\n",
       "    .dataframe tbody tr th {\n",
       "        vertical-align: top;\n",
       "    }\n",
       "\n",
       "    .dataframe thead th {\n",
       "        text-align: right;\n",
       "    }\n",
       "</style>\n",
       "<table border=\"1\" class=\"dataframe\">\n",
       "  <thead>\n",
       "    <tr style=\"text-align: right;\">\n",
       "      <th>gpa_bucket</th>\n",
       "      <th>2.5 - 2.74</th>\n",
       "      <th>2.5 or less</th>\n",
       "      <th>2.75 - 2.9</th>\n",
       "      <th>3.0 - 3.49</th>\n",
       "      <th>3.5 or greater</th>\n",
       "    </tr>\n",
       "    <tr>\n",
       "      <th>high_school_class</th>\n",
       "      <th></th>\n",
       "      <th></th>\n",
       "      <th></th>\n",
       "      <th></th>\n",
       "      <th></th>\n",
       "    </tr>\n",
       "  </thead>\n",
       "  <tbody>\n",
       "    <tr>\n",
       "      <td>2011</td>\n",
       "      <td>0.058824</td>\n",
       "      <td>0.500000</td>\n",
       "      <td>0.117647</td>\n",
       "      <td>0.117647</td>\n",
       "      <td>0.205882</td>\n",
       "    </tr>\n",
       "    <tr>\n",
       "      <td>2012</td>\n",
       "      <td>0.023810</td>\n",
       "      <td>0.428571</td>\n",
       "      <td>0.095238</td>\n",
       "      <td>0.214286</td>\n",
       "      <td>0.238095</td>\n",
       "    </tr>\n",
       "    <tr>\n",
       "      <td>2013</td>\n",
       "      <td>0.189189</td>\n",
       "      <td>0.135135</td>\n",
       "      <td>0.135135</td>\n",
       "      <td>0.243243</td>\n",
       "      <td>0.297297</td>\n",
       "    </tr>\n",
       "    <tr>\n",
       "      <td>2014</td>\n",
       "      <td>0.094340</td>\n",
       "      <td>0.132075</td>\n",
       "      <td>0.037736</td>\n",
       "      <td>0.245283</td>\n",
       "      <td>0.490566</td>\n",
       "    </tr>\n",
       "    <tr>\n",
       "      <td>All</td>\n",
       "      <td>0.090361</td>\n",
       "      <td>0.283133</td>\n",
       "      <td>0.090361</td>\n",
       "      <td>0.210843</td>\n",
       "      <td>0.325301</td>\n",
       "    </tr>\n",
       "  </tbody>\n",
       "</table>\n",
       "</div>"
      ],
      "text/plain": [
       "gpa_bucket         2.5 - 2.74  2.5 or less  2.75 - 2.9  3.0 - 3.49  \\\n",
       "high_school_class                                                    \n",
       "2011                 0.058824     0.500000    0.117647    0.117647   \n",
       "2012                 0.023810     0.428571    0.095238    0.214286   \n",
       "2013                 0.189189     0.135135    0.135135    0.243243   \n",
       "2014                 0.094340     0.132075    0.037736    0.245283   \n",
       "All                  0.090361     0.283133    0.090361    0.210843   \n",
       "\n",
       "gpa_bucket         3.5 or greater  \n",
       "high_school_class                  \n",
       "2011                     0.205882  \n",
       "2012                     0.238095  \n",
       "2013                     0.297297  \n",
       "2014                     0.490566  \n",
       "All                      0.325301  "
      ]
     },
     "execution_count": 33,
     "metadata": {},
     "output_type": "execute_result"
    }
   ],
   "source": [
    "sf_cross_tab(df, \"gpa_bucket\")"
   ]
  },
  {
   "cell_type": "raw",
   "metadata": {},
   "source": [
    "%%html\n",
    "<script src=\"https://cdn.rawgit.com/parente/4c3e6936d0d7a46fd071/raw/65b816fb9bdd3c28b4ddf3af602bfd6015486383/code_toggle.js\"></script>"
   ]
  },
  {
   "cell_type": "code",
   "execution_count": null,
   "metadata": {},
   "outputs": [],
   "source": []
  }
 ],
 "metadata": {
  "hide_input": false,
  "kernelspec": {
   "display_name": "Python 3",
   "language": "python",
   "name": "python3"
  },
  "language_info": {
   "codemirror_mode": {
    "name": "ipython",
    "version": 3
   },
   "file_extension": ".py",
   "mimetype": "text/x-python",
   "name": "python",
   "nbconvert_exporter": "python",
   "pygments_lexer": "ipython3",
   "version": "3.7.4"
  },
  "toc": {
   "base_numbering": 1,
   "nav_menu": {},
   "number_sections": true,
   "sideBar": true,
   "skip_h1_title": false,
   "title_cell": "Table of Contents",
   "title_sidebar": "Contents",
   "toc_cell": false,
   "toc_position": {},
   "toc_section_display": true,
   "toc_window_display": false
  }
 },
 "nbformat": 4,
 "nbformat_minor": 4
}
