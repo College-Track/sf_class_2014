{
 "cells": [
  {
   "cell_type": "markdown",
   "metadata": {},
   "source": [
    "## OP Learning Agenda: SF Class of 2014\n",
    "\n",
    "A project to determine what, if anything, influenced the graduation success of the San Francisco class of 2014.\n",
    "\n",
    "### Abstract\n",
    "\n",
    "The SF Class of 2014 is currently the highest performing CT class in terms of 5 year college graduation rate. They almost certainly will be have the 6 year graduation rate at the end of FY20. This report investigated what variables might have influenced this classes success, and if any of those indicators are something which could be encouraged at other CT sites. \n",
    "\n",
    "While it is true the Class of 2014 will have the highest graduation rate, almost more notable is the jump in graduation rates from 2012 to 2013. In some senses, the class of 2014 was just continuing the impressive results their seniors started. However, given the small sample sizes for any given College Track cohort, it is difficult to draw conclusions on the statistical significance of these increases. In fact, looking at the t-test results indicated that the difference in graduation rates could not be considered pure randomness. \n",
    "\n",
    "That being said, it still is important to understand if any factors seemed different among these students that might have had a correlation with graduation rates. When considering the data available, 11th grade GPA, first year of College GPA, and, more interesting, students total bank book earnings, seemed to play an important role in graduation success. \n",
    "\n",
    "Other factors considered, but yield mixed or negligible results include: \n",
    "* First Gen Status\n",
    "* Low Income\n",
    "* Ethnic Background\n",
    "* ACT scores\n",
    "* High School Attended* \n",
    "* College Fit Type\n",
    "\n",
    "\\* For high school attended, there was a positive correlation with students who attended Lowell High School\n",
    "\n",
    "Finally, the switch to site based advising occurred around this time...TO BE COMPLETED\n",
    "\n",
    "\n"
   ]
  },
  {
   "cell_type": "code",
   "execution_count": 163,
   "metadata": {},
   "outputs": [],
   "source": [
    "import pandas as pd\n",
    "from pathlib import Path\n",
    "from datetime import datetime\n",
    "import statsmodels.api as sm\n",
    "import numpy as np\n",
    "from tabulate import tabulate\n",
    "import seaborn as sns\n",
    "import matplotlib.pyplot as plt\n",
    "import warnings\n",
    "import statsmodels.formula.api as smf\n",
    "\n",
    "warnings.filterwarnings('ignore')\n",
    "\n"
   ]
  },
  {
   "cell_type": "code",
   "execution_count": 164,
   "metadata": {},
   "outputs": [],
   "source": [
    "%matplotlib inline"
   ]
  },
  {
   "cell_type": "code",
   "execution_count": 165,
   "metadata": {},
   "outputs": [],
   "source": [
    "today = datetime.today()\n",
    "in_file = Path.cwd() / \"data\" / \"processed\" / \"processed_data.pkl\"\n",
    "report_dir = Path.cwd() / \"reports\"\n",
    "report_file = report_dir / \"Excel_Analysis_{today:%b-%d-%Y}.xlsx\"\n",
    "\n",
    "in_file2 = Path.cwd() / \"data\" / \"processed\" / \"processed_data_file2.pkl\"\n",
    "\n",
    "in_file3 = Path.cwd() / \"data\" / \"processed\" / \"processed_data_file3.pkl\""
   ]
  },
  {
   "cell_type": "code",
   "execution_count": 166,
   "metadata": {},
   "outputs": [],
   "source": [
    "df = pd.read_pickle(in_file)\n",
    "\n",
    "df2 = pd.read_pickle(in_file2)\n",
    "\n",
    "df3 = pd.read_pickle(in_file3)"
   ]
  },
  {
   "cell_type": "code",
   "execution_count": 167,
   "metadata": {},
   "outputs": [],
   "source": [
    "def sf_cross_tab(df, column, normalize=\"index\", margins=True):\n",
    "    return pd.crosstab(\n",
    "        df[df.site == \"San Francisco\"].high_school_class,\n",
    "        df[df.site == \"San Francisco\"][column],\n",
    "        normalize=normalize,\n",
    "        margins=margins,\n",
    "    )"
   ]
  },
  {
   "cell_type": "markdown",
   "metadata": {
    "hide_input": true
   },
   "source": [
    "##  General Distributions\n",
    "\n",
    "SF Class of 2014 is on track to have the highest 6 year grad rate, with almost 70% of students already graduating, but that number isn't significantly higher than the class of 2013. Though we do see a reasonably big jump from 2012 to 2013. \n",
    "\n"
   ]
  },
  {
   "cell_type": "markdown",
   "metadata": {},
   "source": [
    "#### Table 1. San Francisco 6 Year Graduation Rate by High School Class "
   ]
  },
  {
   "cell_type": "code",
   "execution_count": 7,
   "metadata": {},
   "outputs": [
    {
     "data": {
      "text/html": [
       "<div>\n",
       "<style scoped>\n",
       "    .dataframe tbody tr th:only-of-type {\n",
       "        vertical-align: middle;\n",
       "    }\n",
       "\n",
       "    .dataframe tbody tr th {\n",
       "        vertical-align: top;\n",
       "    }\n",
       "\n",
       "    .dataframe thead th {\n",
       "        text-align: right;\n",
       "    }\n",
       "</style>\n",
       "<table border=\"1\" class=\"dataframe\">\n",
       "  <thead>\n",
       "    <tr style=\"text-align: right;\">\n",
       "      <th>graduated_4_year_degree_less_6_years</th>\n",
       "      <th>False</th>\n",
       "      <th>True</th>\n",
       "    </tr>\n",
       "    <tr>\n",
       "      <th>high_school_class</th>\n",
       "      <th></th>\n",
       "      <th></th>\n",
       "    </tr>\n",
       "  </thead>\n",
       "  <tbody>\n",
       "    <tr>\n",
       "      <td>2011</td>\n",
       "      <td>0.53</td>\n",
       "      <td>0.47</td>\n",
       "    </tr>\n",
       "    <tr>\n",
       "      <td>2012</td>\n",
       "      <td>0.45</td>\n",
       "      <td>0.55</td>\n",
       "    </tr>\n",
       "    <tr>\n",
       "      <td>2013</td>\n",
       "      <td>0.32</td>\n",
       "      <td>0.68</td>\n",
       "    </tr>\n",
       "    <tr>\n",
       "      <td>2014</td>\n",
       "      <td>0.30</td>\n",
       "      <td>0.70</td>\n",
       "    </tr>\n",
       "    <tr>\n",
       "      <td>All</td>\n",
       "      <td>0.39</td>\n",
       "      <td>0.61</td>\n",
       "    </tr>\n",
       "  </tbody>\n",
       "</table>\n",
       "</div>"
      ],
      "text/plain": [
       "graduated_4_year_degree_less_6_years  False  True \n",
       "high_school_class                                 \n",
       "2011                                   0.53   0.47\n",
       "2012                                   0.45   0.55\n",
       "2013                                   0.32   0.68\n",
       "2014                                   0.30   0.70\n",
       "All                                    0.39   0.61"
      ]
     },
     "execution_count": 7,
     "metadata": {},
     "output_type": "execute_result"
    }
   ],
   "source": [
    "# Grad Rate Less than 6 years\n",
    "\n",
    "grad_rate_6_year = sf_cross_tab(\n",
    "    df, \"graduated_4_year_degree_less_6_years\").round(2)\n",
    "\n",
    "grad_rate_6_year"
   ]
  },
  {
   "cell_type": "markdown",
   "metadata": {
    "hide_input": true
   },
   "source": [
    "#### Table 2. San Francisco 6 Year Graduation Count by High School Class \n"
   ]
  },
  {
   "cell_type": "code",
   "execution_count": 8,
   "metadata": {},
   "outputs": [
    {
     "data": {
      "text/html": [
       "<div>\n",
       "<style scoped>\n",
       "    .dataframe tbody tr th:only-of-type {\n",
       "        vertical-align: middle;\n",
       "    }\n",
       "\n",
       "    .dataframe tbody tr th {\n",
       "        vertical-align: top;\n",
       "    }\n",
       "\n",
       "    .dataframe thead th {\n",
       "        text-align: right;\n",
       "    }\n",
       "</style>\n",
       "<table border=\"1\" class=\"dataframe\">\n",
       "  <thead>\n",
       "    <tr style=\"text-align: right;\">\n",
       "      <th>graduated_4_year_degree_less_6_years</th>\n",
       "      <th>False</th>\n",
       "      <th>True</th>\n",
       "      <th>All</th>\n",
       "    </tr>\n",
       "    <tr>\n",
       "      <th>high_school_class</th>\n",
       "      <th></th>\n",
       "      <th></th>\n",
       "      <th></th>\n",
       "    </tr>\n",
       "  </thead>\n",
       "  <tbody>\n",
       "    <tr>\n",
       "      <td>2011</td>\n",
       "      <td>18</td>\n",
       "      <td>16</td>\n",
       "      <td>34</td>\n",
       "    </tr>\n",
       "    <tr>\n",
       "      <td>2012</td>\n",
       "      <td>19</td>\n",
       "      <td>23</td>\n",
       "      <td>42</td>\n",
       "    </tr>\n",
       "    <tr>\n",
       "      <td>2013</td>\n",
       "      <td>12</td>\n",
       "      <td>25</td>\n",
       "      <td>37</td>\n",
       "    </tr>\n",
       "    <tr>\n",
       "      <td>2014</td>\n",
       "      <td>16</td>\n",
       "      <td>37</td>\n",
       "      <td>53</td>\n",
       "    </tr>\n",
       "    <tr>\n",
       "      <td>All</td>\n",
       "      <td>65</td>\n",
       "      <td>101</td>\n",
       "      <td>166</td>\n",
       "    </tr>\n",
       "  </tbody>\n",
       "</table>\n",
       "</div>"
      ],
      "text/plain": [
       "graduated_4_year_degree_less_6_years  False  True  All\n",
       "high_school_class                                     \n",
       "2011                                     18    16   34\n",
       "2012                                     19    23   42\n",
       "2013                                     12    25   37\n",
       "2014                                     16    37   53\n",
       "All                                      65   101  166"
      ]
     },
     "execution_count": 8,
     "metadata": {},
     "output_type": "execute_result"
    }
   ],
   "source": [
    "grad_numbers_6_year = sf_cross_tab(df, \"graduated_4_year_degree_less_6_years\", normalize=False).round(2)\n",
    "\n",
    "grad_numbers_6_year"
   ]
  },
  {
   "cell_type": "markdown",
   "metadata": {},
   "source": [
    "#### Table 3. San Francisco 5 Year Graduation Rate by High School Class\n",
    "\n",
    "To be more accurate, we can look at the 5 year grad rate, but this tells essentially the same story."
   ]
  },
  {
   "cell_type": "code",
   "execution_count": 9,
   "metadata": {},
   "outputs": [
    {
     "data": {
      "text/html": [
       "<div>\n",
       "<style scoped>\n",
       "    .dataframe tbody tr th:only-of-type {\n",
       "        vertical-align: middle;\n",
       "    }\n",
       "\n",
       "    .dataframe tbody tr th {\n",
       "        vertical-align: top;\n",
       "    }\n",
       "\n",
       "    .dataframe thead th {\n",
       "        text-align: right;\n",
       "    }\n",
       "</style>\n",
       "<table border=\"1\" class=\"dataframe\">\n",
       "  <thead>\n",
       "    <tr style=\"text-align: right;\">\n",
       "      <th>graduated_4_year_degree_less_5_years</th>\n",
       "      <th>False</th>\n",
       "      <th>True</th>\n",
       "    </tr>\n",
       "    <tr>\n",
       "      <th>high_school_class</th>\n",
       "      <th></th>\n",
       "      <th></th>\n",
       "    </tr>\n",
       "  </thead>\n",
       "  <tbody>\n",
       "    <tr>\n",
       "      <td>2011</td>\n",
       "      <td>0.53</td>\n",
       "      <td>0.47</td>\n",
       "    </tr>\n",
       "    <tr>\n",
       "      <td>2012</td>\n",
       "      <td>0.48</td>\n",
       "      <td>0.52</td>\n",
       "    </tr>\n",
       "    <tr>\n",
       "      <td>2013</td>\n",
       "      <td>0.32</td>\n",
       "      <td>0.68</td>\n",
       "    </tr>\n",
       "    <tr>\n",
       "      <td>2014</td>\n",
       "      <td>0.30</td>\n",
       "      <td>0.70</td>\n",
       "    </tr>\n",
       "    <tr>\n",
       "      <td>All</td>\n",
       "      <td>0.40</td>\n",
       "      <td>0.60</td>\n",
       "    </tr>\n",
       "  </tbody>\n",
       "</table>\n",
       "</div>"
      ],
      "text/plain": [
       "graduated_4_year_degree_less_5_years  False  True \n",
       "high_school_class                                 \n",
       "2011                                   0.53   0.47\n",
       "2012                                   0.48   0.52\n",
       "2013                                   0.32   0.68\n",
       "2014                                   0.30   0.70\n",
       "All                                    0.40   0.60"
      ]
     },
     "execution_count": 9,
     "metadata": {},
     "output_type": "execute_result"
    }
   ],
   "source": [
    "grad_rate_5_year = sf_cross_tab(df, \"graduated_4_year_degree_less_5_years\").round(2)\n",
    "\n",
    "grad_rate_5_year\n"
   ]
  },
  {
   "cell_type": "markdown",
   "metadata": {},
   "source": [
    "### Statistical Test\n",
    "\n",
    "If we run an independent t-test on the 5 year graduation rates, we see that the class of 2014 is not statistically higher than the class of 2013, or 2012. "
   ]
  },
  {
   "cell_type": "markdown",
   "metadata": {},
   "source": [
    "#### P Value from t-test comparing 2014 -> 2013"
   ]
  },
  {
   "cell_type": "code",
   "execution_count": 10,
   "metadata": {},
   "outputs": [],
   "source": [
    "population1_test_1 = (\n",
    "    df[(df.site == \"San Francisco\") & (df.high_school_class == 2013)][\n",
    "        \"graduated_4_year_degree_less_5_years\"\n",
    "    ]\n",
    ").values\n",
    "\n",
    "\n",
    "population2_test_1 = (\n",
    "    df[(df.site == \"San Francisco\") & (df.high_school_class == 2014)][\n",
    "        \"graduated_4_year_degree_less_5_years\"\n",
    "    ]\n",
    ").values"
   ]
  },
  {
   "cell_type": "code",
   "execution_count": 12,
   "metadata": {},
   "outputs": [
    {
     "data": {
      "text/plain": [
       "0.82"
      ]
     },
     "execution_count": 12,
     "metadata": {},
     "output_type": "execute_result"
    }
   ],
   "source": [
    "# p value of independent t-test on populations above\n",
    "(round(sm.stats.ttest_ind(population1_test_1, population2_test_1)[1], 2))"
   ]
  },
  {
   "cell_type": "markdown",
   "metadata": {},
   "source": [
    "#### P Value from t-test comparing 2014 -> 2012 "
   ]
  },
  {
   "cell_type": "code",
   "execution_count": 31,
   "metadata": {},
   "outputs": [],
   "source": [
    "population1_test_2 = (\n",
    "    df[(df.site == \"San Francisco\") & (df.high_school_class == 2012)][\n",
    "        \"graduated_4_year_degree_less_5_years\"\n",
    "    ]\n",
    ").values\n",
    "\n",
    "\n",
    "population2_test_2 = (\n",
    "    df[(df.site == \"San Francisco\") & (df.high_school_class == 2014)][\n",
    "        \"graduated_4_year_degree_less_5_years\"\n",
    "    ]\n",
    ").values"
   ]
  },
  {
   "cell_type": "code",
   "execution_count": 80,
   "metadata": {},
   "outputs": [
    {
     "data": {
      "text/plain": [
       "0.08"
      ]
     },
     "execution_count": 80,
     "metadata": {},
     "output_type": "execute_result"
    }
   ],
   "source": [
    "(round(sm.stats.ttest_ind(population1_test_2, population2_test_2)[1], 2))"
   ]
  },
  {
   "cell_type": "markdown",
   "metadata": {},
   "source": [
    "#### P Value from t-test comparing 2014 -> 2011\n",
    "Note, this value is < 0.5"
   ]
  },
  {
   "cell_type": "code",
   "execution_count": 33,
   "metadata": {},
   "outputs": [],
   "source": [
    "population1_test_3 = (\n",
    "    df[(df.site == \"San Francisco\") & (df.high_school_class == 2011)][\n",
    "        \"graduated_4_year_degree_less_5_years\"\n",
    "    ]\n",
    ").values\n",
    "\n",
    "\n",
    "population2_test_3 = (\n",
    "    df[(df.site == \"San Francisco\") & (df.high_school_class == 2014)][\n",
    "        \"graduated_4_year_degree_less_5_years\"\n",
    "    ]\n",
    ").values"
   ]
  },
  {
   "cell_type": "code",
   "execution_count": 81,
   "metadata": {},
   "outputs": [
    {
     "data": {
      "text/plain": [
       "0.03"
      ]
     },
     "execution_count": 81,
     "metadata": {},
     "output_type": "execute_result"
    }
   ],
   "source": [
    "(round(sm.stats.ttest_ind(population1_test_3, population2_test_3)[1], 2))"
   ]
  },
  {
   "cell_type": "markdown",
   "metadata": {},
   "source": [
    "### Other Distributions\n",
    "\n",
    "Based on the above results, I don't believe we can say that the class of 2014 was notably higher that previous classes. It does however appear there is an upswing in graduation rate that has been increasing since 2011, with a decent jump from 2012 -> 2013 (though not a statistically significant one).\n",
    "\n",
    "With that in mind, here are other notable differences in the high school class distributions which might indicate changes that are influencing the graduation rate "
   ]
  },
  {
   "cell_type": "markdown",
   "metadata": {},
   "source": [
    "#### 11th Grade College Eligibility GPA\n",
    "\n",
    "This is the most notable distribution change, with the class of 2014 having by far the highest 11th grade GPAs, with almost 75% of that student group having over a 3.0. Compared to 53% from the class of 2013 (the next highest)"
   ]
  },
  {
   "cell_type": "code",
   "execution_count": 83,
   "metadata": {},
   "outputs": [
    {
     "data": {
      "text/html": [
       "<div>\n",
       "<style scoped>\n",
       "    .dataframe tbody tr th:only-of-type {\n",
       "        vertical-align: middle;\n",
       "    }\n",
       "\n",
       "    .dataframe tbody tr th {\n",
       "        vertical-align: top;\n",
       "    }\n",
       "\n",
       "    .dataframe thead th {\n",
       "        text-align: right;\n",
       "    }\n",
       "</style>\n",
       "<table border=\"1\" class=\"dataframe\">\n",
       "  <thead>\n",
       "    <tr style=\"text-align: right;\">\n",
       "      <th>gpa_bucket</th>\n",
       "      <th>2.5 - 2.74</th>\n",
       "      <th>2.5 or less</th>\n",
       "      <th>2.75 - 2.9</th>\n",
       "      <th>3.0 - 3.49</th>\n",
       "      <th>3.5 or greater</th>\n",
       "    </tr>\n",
       "    <tr>\n",
       "      <th>high_school_class</th>\n",
       "      <th></th>\n",
       "      <th></th>\n",
       "      <th></th>\n",
       "      <th></th>\n",
       "      <th></th>\n",
       "    </tr>\n",
       "  </thead>\n",
       "  <tbody>\n",
       "    <tr>\n",
       "      <td>2011</td>\n",
       "      <td>0.06</td>\n",
       "      <td>0.50</td>\n",
       "      <td>0.12</td>\n",
       "      <td>0.12</td>\n",
       "      <td>0.21</td>\n",
       "    </tr>\n",
       "    <tr>\n",
       "      <td>2012</td>\n",
       "      <td>0.02</td>\n",
       "      <td>0.43</td>\n",
       "      <td>0.10</td>\n",
       "      <td>0.21</td>\n",
       "      <td>0.24</td>\n",
       "    </tr>\n",
       "    <tr>\n",
       "      <td>2013</td>\n",
       "      <td>0.19</td>\n",
       "      <td>0.14</td>\n",
       "      <td>0.14</td>\n",
       "      <td>0.24</td>\n",
       "      <td>0.30</td>\n",
       "    </tr>\n",
       "    <tr>\n",
       "      <td>2014</td>\n",
       "      <td>0.09</td>\n",
       "      <td>0.13</td>\n",
       "      <td>0.04</td>\n",
       "      <td>0.25</td>\n",
       "      <td>0.49</td>\n",
       "    </tr>\n",
       "  </tbody>\n",
       "</table>\n",
       "</div>"
      ],
      "text/plain": [
       "gpa_bucket         2.5 - 2.74  2.5 or less  2.75 - 2.9  3.0 - 3.49  \\\n",
       "high_school_class                                                    \n",
       "2011                     0.06         0.50        0.12        0.12   \n",
       "2012                     0.02         0.43        0.10        0.21   \n",
       "2013                     0.19         0.14        0.14        0.24   \n",
       "2014                     0.09         0.13        0.04        0.25   \n",
       "\n",
       "gpa_bucket         3.5 or greater  \n",
       "high_school_class                  \n",
       "2011                         0.21  \n",
       "2012                         0.24  \n",
       "2013                         0.30  \n",
       "2014                         0.49  "
      ]
     },
     "execution_count": 83,
     "metadata": {},
     "output_type": "execute_result"
    }
   ],
   "source": [
    "gpa_buckets = sf_cross_tab(df, \"gpa_bucket\", margins=False).round(2)\n",
    "\n",
    "\n",
    "\n",
    "gpa_buckets"
   ]
  },
  {
   "cell_type": "markdown",
   "metadata": {},
   "source": [
    "#### CT Entrance Diagnostics Math Scores\n",
    "If we look at each high school classes incoming CT math diagnostics scores, we also see that the class of 2014 had the highest percent of students either \"Ready\" or \"Near Ready.\" Noteworthy though, is the class of 2013 did not have any appreciable differences from the class of 2012. "
   ]
  },
  {
   "cell_type": "code",
   "execution_count": 48,
   "metadata": {},
   "outputs": [],
   "source": [
    "entrace_scores = df3[df3.version == \"Entrance into CT Diagnostic\"]"
   ]
  },
  {
   "cell_type": "code",
   "execution_count": 84,
   "metadata": {},
   "outputs": [
    {
     "data": {
      "text/html": [
       "<div>\n",
       "<style scoped>\n",
       "    .dataframe tbody tr th:only-of-type {\n",
       "        vertical-align: middle;\n",
       "    }\n",
       "\n",
       "    .dataframe tbody tr th {\n",
       "        vertical-align: top;\n",
       "    }\n",
       "\n",
       "    .dataframe thead th {\n",
       "        text-align: right;\n",
       "    }\n",
       "</style>\n",
       "<table border=\"1\" class=\"dataframe\">\n",
       "  <thead>\n",
       "    <tr style=\"text-align: right;\">\n",
       "      <th>act_math_readiness</th>\n",
       "      <th>1. Ready</th>\n",
       "      <th>2. Near Ready</th>\n",
       "      <th>3. Not Ready</th>\n",
       "    </tr>\n",
       "    <tr>\n",
       "      <th>high_school_class</th>\n",
       "      <th></th>\n",
       "      <th></th>\n",
       "      <th></th>\n",
       "    </tr>\n",
       "  </thead>\n",
       "  <tbody>\n",
       "    <tr>\n",
       "      <td>2012</td>\n",
       "      <td>0.33</td>\n",
       "      <td>0.11</td>\n",
       "      <td>0.56</td>\n",
       "    </tr>\n",
       "    <tr>\n",
       "      <td>2013</td>\n",
       "      <td>0.27</td>\n",
       "      <td>0.17</td>\n",
       "      <td>0.57</td>\n",
       "    </tr>\n",
       "    <tr>\n",
       "      <td>2014</td>\n",
       "      <td>0.36</td>\n",
       "      <td>0.23</td>\n",
       "      <td>0.41</td>\n",
       "    </tr>\n",
       "  </tbody>\n",
       "</table>\n",
       "</div>"
      ],
      "text/plain": [
       "act_math_readiness  1. Ready  2. Near Ready  3. Not Ready\n",
       "high_school_class                                        \n",
       "2012                    0.33           0.11          0.56\n",
       "2013                    0.27           0.17          0.57\n",
       "2014                    0.36           0.23          0.41"
      ]
     },
     "execution_count": 84,
     "metadata": {},
     "output_type": "execute_result"
    }
   ],
   "source": [
    "entrance_scores = sf_cross_tab(entrace_scores, \"act_math_readiness\", margins=False).round(2)\n",
    "\n",
    "entrance_scores"
   ]
  },
  {
   "cell_type": "markdown",
   "metadata": {},
   "source": [
    "#### Pearson Correlation Coefficient for key continuous data points (SF - all classes)\n",
    "\n",
    "Below is the correlation matrix for key continuous variables that might influence college graduation. For the purposes here, only the first column is displays relevant information. \n",
    "\n",
    "We can see that GPA in general plays the largest factor, with 11th grade and the first year of college particularly important. Somewhat surprising, was the role bank book earnings played, second only to 11th grade gpa. \n",
    "\n",
    "Note - there are no notable differences between the Pearson Coefficient and the Spearman Coefficient\n"
   ]
  },
  {
   "cell_type": "code",
   "execution_count": 200,
   "metadata": {},
   "outputs": [],
   "source": [
    "# cleaning up column types (needs to be moved to data prep)\n",
    "\n",
    "# changing act_math to an int\n",
    "df['act_mathematics'] = pd.to_numeric(df['act_mathematics'], errors='coerce')\n",
    "\n",
    "# changing bank book earnings to an int\n",
    "df['total_bb_earnings_as_of_hs_grad'] = df['total_bb_earnings_as_of_hs_grad'].replace(\n",
    "    '[\\$,]', '', regex=True).astype(float)\n",
    "\n",
    "# changing gpa data to int\n",
    "df[['9th Grade', '10th Grade', '11th Grade',\n",
    "    '12th Grade', 'Year 1', 'Year 2', 'Year 3',\n",
    "    'Year 4', 'Year 5', 'Year 6']] = df[\n",
    "    ['9th Grade', '10th Grade', '11th Grade',\n",
    "     '12th Grade', 'Year 1', 'Year 2', 'Year 3',\n",
    "     'Year 4', 'Year 5', 'Year 6']].apply(pd.to_numeric, errors='coerce')"
   ]
  },
  {
   "cell_type": "code",
   "execution_count": 201,
   "metadata": {},
   "outputs": [],
   "source": [
    "# creating a subset df that is just San Francisco\n",
    "df_sub = df[df.site == \"San Francisco\"].dropna(subset=['act_mathematics'])\n"
   ]
  },
  {
   "cell_type": "code",
   "execution_count": 202,
   "metadata": {},
   "outputs": [],
   "source": [
    "corrMatrix = df_sub[['graduated_4_year_degree_less_5_years', '9th Grade', '10th Grade',\n",
    "                     '11th Grade', '12th Grade', 'Year 1', 'Year 2', 'Year 3',\n",
    "                     'Year 4', 'Year 5', 'indicator_first_generation', 'indicator_low_income',\n",
    "                     'total_bb_earnings_as_of_hs_grad', 'act_mathematics']].corr(method='pearson')"
   ]
  },
  {
   "cell_type": "code",
   "execution_count": 315,
   "metadata": {},
   "outputs": [
    {
     "data": {
      "image/png": "[encoded data removed]",
      "text/plain": [
       "<Figure size 864x864 with 2 Axes>"
      ]
     },
     "metadata": {
      "needs_background": "light"
     },
     "output_type": "display_data"
    }
   ],
   "source": [
    "f, ax = plt.subplots(figsize=(12, 12))\n",
    "sns.set_context('paper')\n",
    "\n",
    "\n",
    "ax = sns.heatmap(corrMatrix, vmax=1, square=True, annot=True,  cmap=\"RdBu\")\n"
   ]
  },
  {
   "cell_type": "markdown",
   "metadata": {},
   "source": [
    "#### Logistic Regression on Categorical Variables (All SF Classes)\n",
    "\n",
    "Below is the logistic regression result on the following key categorical variables: \n",
    "\n",
    "* High School Attended\n",
    "\n",
    "* Ethnic Background\n",
    "\n",
    "* College Fit type (using the fit type of the first school attended)\n",
    "\n",
    "\n",
    "\n",
    "All three of these test yielded mixed results with no clear indicator of strong correlation.\n",
    "\n",
    "Only three high schools showed statistically significant values, Lowell, Balboa, and City Arts and Tech, with Lowell being the only one that had a positive influence on students. As a note, prior to this analysis I spoke with Miccaela Montague and she indicated this likely would be the case. \n",
    "\n",
    "\n",
    "For ethnic background, only Asian Americans had a small p value, but the \"R squared is still quite low and the overall sample size for any individual ethnicity is low. \n",
    "\n",
    "Finally, fit type yielded minimal results with. The sample size for Best Fit schools was very small, with almost all the students being marked as attending a Good Fit school. \n",
    "\n",
    "As a note, for all of these the sample size was quite low.\n",
    "\n"
   ]
  },
  {
   "cell_type": "code",
   "execution_count": 171,
   "metadata": {},
   "outputs": [],
   "source": [
    "def C1(cat):\n",
    "     return pd.get_dummies(cat, drop_first=True)"
   ]
  },
  {
   "cell_type": "code",
   "execution_count": 294,
   "metadata": {},
   "outputs": [
    {
     "name": "stdout",
     "output_type": "stream",
     "text": [
      "Optimization terminated successfully.\n",
      "         Current function value: 0.433565\n",
      "         Iterations: 77\n",
      "         Function evaluations: 78\n",
      "         Gradient evaluations: 78\n"
     ]
    },
    {
     "data": {
      "text/html": [
       "<table class=\"simpletable\">\n",
       "<caption>Logit Regression Results</caption>\n",
       "<tr>\n",
       "  <th>Dep. Variable:</th>   <td>C1(graduated_4_year_degree_less_5_years)</td> <th>  No. Observations:  </th>  <td>   402</td>  \n",
       "</tr>\n",
       "<tr>\n",
       "  <th>Model:</th>                             <td>Logit</td>                  <th>  Df Residuals:      </th>  <td>   380</td>  \n",
       "</tr>\n",
       "<tr>\n",
       "  <th>Method:</th>                             <td>MLE</td>                   <th>  Df Model:          </th>  <td>    21</td>  \n",
       "</tr>\n",
       "<tr>\n",
       "  <th>Date:</th>                        <td>Wed, 11 Mar 2020</td>             <th>  Pseudo R-squ.:     </th>  <td>0.3259</td>  \n",
       "</tr>\n",
       "<tr>\n",
       "  <th>Time:</th>                            <td>16:37:55</td>                 <th>  Log-Likelihood:    </th> <td> -174.29</td> \n",
       "</tr>\n",
       "<tr>\n",
       "  <th>converged:</th>                         <td>True</td>                   <th>  LL-Null:           </th> <td> -258.56</td> \n",
       "</tr>\n",
       "<tr>\n",
       "  <th>Covariance Type:</th>                 <td>nonrobust</td>                <th>  LLR p-value:       </th> <td>4.934e-25</td>\n",
       "</tr>\n",
       "</table>\n",
       "<table class=\"simpletable\">\n",
       "<tr>\n",
       "                                       <td></td>                                          <th>coef</th>     <th>std err</th>      <th>z</th>      <th>P>|z|</th>  <th>[0.025</th>    <th>0.975]</th>  \n",
       "</tr>\n",
       "<tr>\n",
       "  <th>Intercept</th>                                                                   <td>    0.8486</td> <td>    0.345</td> <td>    2.459</td> <td> 0.014</td> <td>    0.172</td> <td>    1.525</td>\n",
       "</tr>\n",
       "<tr>\n",
       "  <th>C(school)[T.Asawa (Ruth) San Francisco School Of The Arts, A Public School]</th> <td>  -27.5357</td> <td> 1.56e+05</td> <td>   -0.000</td> <td> 1.000</td> <td>-3.06e+05</td> <td> 3.06e+05</td>\n",
       "</tr>\n",
       "<tr>\n",
       "  <th>C(school)[T.Balboa High School]</th>                                             <td>   -1.0718</td> <td>    0.519</td> <td>   -2.066</td> <td> 0.039</td> <td>   -2.089</td> <td>   -0.055</td>\n",
       "</tr>\n",
       "<tr>\n",
       "  <th>C(school)[T.Bridgemont High School]</th>                                         <td>  -13.0565</td> <td>  223.812</td> <td>   -0.058</td> <td> 0.953</td> <td> -451.720</td> <td>  425.607</td>\n",
       "</tr>\n",
       "<tr>\n",
       "  <th>C(school)[T.City Arts And Tech High School]</th>                                 <td>   -1.2546</td> <td>    0.572</td> <td>   -2.192</td> <td> 0.028</td> <td>   -2.376</td> <td>   -0.133</td>\n",
       "</tr>\n",
       "<tr>\n",
       "  <th>C(school)[T.Crystal Springs Uplands School]</th>                                 <td>  -13.0565</td> <td>  223.812</td> <td>   -0.058</td> <td> 0.953</td> <td> -451.720</td> <td>  425.607</td>\n",
       "</tr>\n",
       "<tr>\n",
       "  <th>C(school)[T.Drew School]</th>                                                    <td>    9.7125</td> <td>   98.242</td> <td>    0.099</td> <td> 0.921</td> <td> -182.838</td> <td>  202.263</td>\n",
       "</tr>\n",
       "<tr>\n",
       "  <th>C(school)[T.El Camino High School]</th>                                          <td>   -0.8495</td> <td>    0.787</td> <td>   -1.080</td> <td> 0.280</td> <td>   -2.392</td> <td>    0.693</td>\n",
       "</tr>\n",
       "<tr>\n",
       "  <th>C(school)[T.Galileo High School]</th>                                            <td>    0.2500</td> <td>    0.673</td> <td>    0.372</td> <td> 0.710</td> <td>   -1.068</td> <td>    1.568</td>\n",
       "</tr>\n",
       "<tr>\n",
       "  <th>C(school)[T.Gateway High School]</th>                                            <td>   -0.1559</td> <td>    0.554</td> <td>   -0.282</td> <td> 0.778</td> <td>   -1.241</td> <td>    0.929</td>\n",
       "</tr>\n",
       "<tr>\n",
       "  <th>C(school)[T.Immaculate Conception Academy]</th>                                  <td>  -13.0565</td> <td>  223.812</td> <td>   -0.058</td> <td> 0.953</td> <td> -451.720</td> <td>  425.607</td>\n",
       "</tr>\n",
       "<tr>\n",
       "  <th>C(school)[T.Jordan (June) School For Equity]</th>                                <td>  -10.9177</td> <td>   88.705</td> <td>   -0.123</td> <td> 0.902</td> <td> -184.777</td> <td>  162.942</td>\n",
       "</tr>\n",
       "<tr>\n",
       "  <th>C(school)[T.KIPP Bridge Charter School]</th>                                     <td>    0.1629</td> <td>    0.452</td> <td>    0.360</td> <td> 0.718</td> <td>   -0.723</td> <td>    1.049</td>\n",
       "</tr>\n",
       "<tr>\n",
       "  <th>C(school)[T.Lowell High School]</th>                                             <td>    0.8253</td> <td>    0.467</td> <td>    1.767</td> <td> 0.077</td> <td>   -0.090</td> <td>    1.741</td>\n",
       "</tr>\n",
       "<tr>\n",
       "  <th>C(school)[T.Marshall (Thurgood) High School]</th>                                <td>   31.0381</td> <td> 1.33e+06</td> <td> 2.34e-05</td> <td> 1.000</td> <td> -2.6e+06</td> <td>  2.6e+06</td>\n",
       "</tr>\n",
       "<tr>\n",
       "  <th>C(school)[T.Mercy High School]</th>                                              <td>  -13.0565</td> <td>  223.812</td> <td>   -0.058</td> <td> 0.953</td> <td> -451.720</td> <td>  425.607</td>\n",
       "</tr>\n",
       "<tr>\n",
       "  <th>C(school)[T.Mission High School]</th>                                            <td>  -19.5303</td> <td> 4028.469</td> <td>   -0.005</td> <td> 0.996</td> <td>-7915.185</td> <td> 7876.125</td>\n",
       "</tr>\n",
       "<tr>\n",
       "  <th>C(school)[T.S.F. International High School]</th>                                 <td>    9.7125</td> <td>   98.242</td> <td>    0.099</td> <td> 0.921</td> <td> -182.838</td> <td>  202.263</td>\n",
       "</tr>\n",
       "<tr>\n",
       "  <th>C(school)[T.San Francisco University High School]</th>                           <td>    9.7125</td> <td>   98.242</td> <td>    0.099</td> <td> 0.921</td> <td> -182.838</td> <td>  202.263</td>\n",
       "</tr>\n",
       "<tr>\n",
       "  <th>C(school)[T.Stuart Hall High School]</th>                                        <td>    9.7125</td> <td>   98.242</td> <td>    0.099</td> <td> 0.921</td> <td> -182.838</td> <td>  202.263</td>\n",
       "</tr>\n",
       "<tr>\n",
       "  <th>C(school)[T.Wallenberg (Raoul) Traditional High School]</th>                     <td>    0.2500</td> <td>    0.673</td> <td>    0.372</td> <td> 0.710</td> <td>   -1.068</td> <td>    1.568</td>\n",
       "</tr>\n",
       "<tr>\n",
       "  <th>C(school)[T.Washington (George) High School]</th>                                <td>   -0.8486</td> <td>    0.608</td> <td>   -1.397</td> <td> 0.162</td> <td>   -2.039</td> <td>    0.342</td>\n",
       "</tr>\n",
       "</table><br/><br/>Possibly complete quasi-separation: A fraction 0.25 of observations can be<br/>perfectly predicted. This might indicate that there is complete<br/>quasi-separation. In this case some parameters will not be identified."
      ],
      "text/plain": [
       "<class 'statsmodels.iolib.summary.Summary'>\n",
       "\"\"\"\n",
       "                                      Logit Regression Results                                      \n",
       "====================================================================================================\n",
       "Dep. Variable:     C1(graduated_4_year_degree_less_5_years)   No. Observations:                  402\n",
       "Model:                                                Logit   Df Residuals:                      380\n",
       "Method:                                                 MLE   Df Model:                           21\n",
       "Date:                                      Wed, 11 Mar 2020   Pseudo R-squ.:                  0.3259\n",
       "Time:                                              16:37:55   Log-Likelihood:                -174.29\n",
       "converged:                                             True   LL-Null:                       -258.56\n",
       "Covariance Type:                                  nonrobust   LLR p-value:                 4.934e-25\n",
       "===============================================================================================================================================\n",
       "                                                                                  coef    std err          z      P>|z|      [0.025      0.975]\n",
       "-----------------------------------------------------------------------------------------------------------------------------------------------\n",
       "Intercept                                                                       0.8486      0.345      2.459      0.014       0.172       1.525\n",
       "C(school)[T.Asawa (Ruth) San Francisco School Of The Arts, A Public School]   -27.5357   1.56e+05     -0.000      1.000   -3.06e+05    3.06e+05\n",
       "C(school)[T.Balboa High School]                                                -1.0718      0.519     -2.066      0.039      -2.089      -0.055\n",
       "C(school)[T.Bridgemont High School]                                           -13.0565    223.812     -0.058      0.953    -451.720     425.607\n",
       "C(school)[T.City Arts And Tech High School]                                    -1.2546      0.572     -2.192      0.028      -2.376      -0.133\n",
       "C(school)[T.Crystal Springs Uplands School]                                   -13.0565    223.812     -0.058      0.953    -451.720     425.607\n",
       "C(school)[T.Drew School]                                                        9.7125     98.242      0.099      0.921    -182.838     202.263\n",
       "C(school)[T.El Camino High School]                                             -0.8495      0.787     -1.080      0.280      -2.392       0.693\n",
       "C(school)[T.Galileo High School]                                                0.2500      0.673      0.372      0.710      -1.068       1.568\n",
       "C(school)[T.Gateway High School]                                               -0.1559      0.554     -0.282      0.778      -1.241       0.929\n",
       "C(school)[T.Immaculate Conception Academy]                                    -13.0565    223.812     -0.058      0.953    -451.720     425.607\n",
       "C(school)[T.Jordan (June) School For Equity]                                  -10.9177     88.705     -0.123      0.902    -184.777     162.942\n",
       "C(school)[T.KIPP Bridge Charter School]                                         0.1629      0.452      0.360      0.718      -0.723       1.049\n",
       "C(school)[T.Lowell High School]                                                 0.8253      0.467      1.767      0.077      -0.090       1.741\n",
       "C(school)[T.Marshall (Thurgood) High School]                                   31.0381   1.33e+06   2.34e-05      1.000    -2.6e+06     2.6e+06\n",
       "C(school)[T.Mercy High School]                                                -13.0565    223.812     -0.058      0.953    -451.720     425.607\n",
       "C(school)[T.Mission High School]                                              -19.5303   4028.469     -0.005      0.996   -7915.185    7876.125\n",
       "C(school)[T.S.F. International High School]                                     9.7125     98.242      0.099      0.921    -182.838     202.263\n",
       "C(school)[T.San Francisco University High School]                               9.7125     98.242      0.099      0.921    -182.838     202.263\n",
       "C(school)[T.Stuart Hall High School]                                            9.7125     98.242      0.099      0.921    -182.838     202.263\n",
       "C(school)[T.Wallenberg (Raoul) Traditional High School]                         0.2500      0.673      0.372      0.710      -1.068       1.568\n",
       "C(school)[T.Washington (George) High School]                                   -0.8486      0.608     -1.397      0.162      -2.039       0.342\n",
       "===============================================================================================================================================\n",
       "\n",
       "Possibly complete quasi-separation: A fraction 0.25 of observations can be\n",
       "perfectly predicted. This might indicate that there is complete\n",
       "quasi-separation. In this case some parameters will not be identified.\n",
       "\"\"\""
      ]
     },
     "execution_count": 294,
     "metadata": {},
     "output_type": "execute_result"
    }
   ],
   "source": [
    "mod = smf.logit(formula= \"C1(graduated_4_year_degree_less_5_years) ~ C(school)\", data=df_sub).fit(method='bfgs', maxiter=100)\n",
    "mod.summary()"
   ]
  },
  {
   "cell_type": "code",
   "execution_count": 307,
   "metadata": {},
   "outputs": [
    {
     "name": "stdout",
     "output_type": "stream",
     "text": [
      "Optimization terminated successfully.\n",
      "         Current function value: 0.538421\n",
      "         Iterations: 55\n",
      "         Function evaluations: 56\n",
      "         Gradient evaluations: 56\n"
     ]
    },
    {
     "data": {
      "text/html": [
       "<table class=\"simpletable\">\n",
       "<caption>Logit Regression Results</caption>\n",
       "<tr>\n",
       "  <th>Dep. Variable:</th>   <td>C1(graduated_4_year_degree_less_5_years)</td> <th>  No. Observations:  </th>  <td>   402</td>  \n",
       "</tr>\n",
       "<tr>\n",
       "  <th>Model:</th>                             <td>Logit</td>                  <th>  Df Residuals:      </th>  <td>   396</td>  \n",
       "</tr>\n",
       "<tr>\n",
       "  <th>Method:</th>                             <td>MLE</td>                   <th>  Df Model:          </th>  <td>     5</td>  \n",
       "</tr>\n",
       "<tr>\n",
       "  <th>Date:</th>                        <td>Wed, 11 Mar 2020</td>             <th>  Pseudo R-squ.:     </th>  <td>0.1629</td>  \n",
       "</tr>\n",
       "<tr>\n",
       "  <th>Time:</th>                            <td>16:47:54</td>                 <th>  Log-Likelihood:    </th> <td> -216.45</td> \n",
       "</tr>\n",
       "<tr>\n",
       "  <th>converged:</th>                         <td>True</td>                   <th>  LL-Null:           </th> <td> -258.56</td> \n",
       "</tr>\n",
       "<tr>\n",
       "  <th>Covariance Type:</th>                 <td>nonrobust</td>                <th>  LLR p-value:       </th> <td>1.089e-16</td>\n",
       "</tr>\n",
       "</table>\n",
       "<table class=\"simpletable\">\n",
       "<tr>\n",
       "                      <td></td>                        <th>coef</th>     <th>std err</th>      <th>z</th>      <th>P>|z|</th>  <th>[0.025</th>    <th>0.975]</th>  \n",
       "</tr>\n",
       "<tr>\n",
       "  <th>Intercept</th>                                <td>   -0.0458</td> <td>    0.175</td> <td>   -0.262</td> <td> 0.793</td> <td>   -0.388</td> <td>    0.297</td>\n",
       "</tr>\n",
       "<tr>\n",
       "  <th>C(ethnic_background)[T.Asian-American]</th>   <td>    2.4129</td> <td>    0.349</td> <td>    6.917</td> <td> 0.000</td> <td>    1.729</td> <td>    3.097</td>\n",
       "</tr>\n",
       "<tr>\n",
       "  <th>C(ethnic_background)[T.Latino / Chicano]</th> <td>    0.2281</td> <td>    0.276</td> <td>    0.825</td> <td> 0.409</td> <td>   -0.314</td> <td>    0.770</td>\n",
       "</tr>\n",
       "<tr>\n",
       "  <th>C(ethnic_background)[T.Multiracial]</th>      <td>   -0.1774</td> <td>    0.425</td> <td>   -0.417</td> <td> 0.676</td> <td>   -1.010</td> <td>    0.655</td>\n",
       "</tr>\n",
       "<tr>\n",
       "  <th>C(ethnic_background)[T.Other]</th>            <td>   12.3571</td> <td>  166.653</td> <td>    0.074</td> <td> 0.941</td> <td> -314.277</td> <td>  338.991</td>\n",
       "</tr>\n",
       "<tr>\n",
       "  <th>C(ethnic_background)[T.Pacific Islander]</th> <td>    0.0460</td> <td>    0.728</td> <td>    0.063</td> <td> 0.950</td> <td>   -1.382</td> <td>    1.474</td>\n",
       "</tr>\n",
       "</table>"
      ],
      "text/plain": [
       "<class 'statsmodels.iolib.summary.Summary'>\n",
       "\"\"\"\n",
       "                                      Logit Regression Results                                      \n",
       "====================================================================================================\n",
       "Dep. Variable:     C1(graduated_4_year_degree_less_5_years)   No. Observations:                  402\n",
       "Model:                                                Logit   Df Residuals:                      396\n",
       "Method:                                                 MLE   Df Model:                            5\n",
       "Date:                                      Wed, 11 Mar 2020   Pseudo R-squ.:                  0.1629\n",
       "Time:                                              16:47:54   Log-Likelihood:                -216.45\n",
       "converged:                                             True   LL-Null:                       -258.56\n",
       "Covariance Type:                                  nonrobust   LLR p-value:                 1.089e-16\n",
       "============================================================================================================\n",
       "                                               coef    std err          z      P>|z|      [0.025      0.975]\n",
       "------------------------------------------------------------------------------------------------------------\n",
       "Intercept                                   -0.0458      0.175     -0.262      0.793      -0.388       0.297\n",
       "C(ethnic_background)[T.Asian-American]       2.4129      0.349      6.917      0.000       1.729       3.097\n",
       "C(ethnic_background)[T.Latino / Chicano]     0.2281      0.276      0.825      0.409      -0.314       0.770\n",
       "C(ethnic_background)[T.Multiracial]         -0.1774      0.425     -0.417      0.676      -1.010       0.655\n",
       "C(ethnic_background)[T.Other]               12.3571    166.653      0.074      0.941    -314.277     338.991\n",
       "C(ethnic_background)[T.Pacific Islander]     0.0460      0.728      0.063      0.950      -1.382       1.474\n",
       "============================================================================================================\n",
       "\"\"\""
      ]
     },
     "execution_count": 307,
     "metadata": {},
     "output_type": "execute_result"
    }
   ],
   "source": [
    "mod = smf.logit(formula= \"C1(graduated_4_year_degree_less_5_years) ~ C(ethnic_background) - 1 \", data=df_sub).fit(method='bfgs', maxiter=100)\n",
    "mod.summary()"
   ]
  },
  {
   "cell_type": "code",
   "execution_count": 306,
   "metadata": {},
   "outputs": [
    {
     "name": "stdout",
     "output_type": "stream",
     "text": [
      "Optimization terminated successfully.\n",
      "         Current function value: 0.565263\n",
      "         Iterations: 27\n",
      "         Function evaluations: 28\n",
      "         Gradient evaluations: 28\n"
     ]
    },
    {
     "data": {
      "text/html": [
       "<table class=\"simpletable\">\n",
       "<caption>Logit Regression Results</caption>\n",
       "<tr>\n",
       "  <th>Dep. Variable:</th>   <td>C1(graduated_4_year_degree_less_5_years)</td> <th>  No. Observations:  </th>  <td>   247</td>  \n",
       "</tr>\n",
       "<tr>\n",
       "  <th>Model:</th>                             <td>Logit</td>                  <th>  Df Residuals:      </th>  <td>   244</td>  \n",
       "</tr>\n",
       "<tr>\n",
       "  <th>Method:</th>                             <td>MLE</td>                   <th>  Df Model:          </th>  <td>     2</td>  \n",
       "</tr>\n",
       "<tr>\n",
       "  <th>Date:</th>                        <td>Wed, 11 Mar 2020</td>             <th>  Pseudo R-squ.:     </th>  <td>0.07926</td> \n",
       "</tr>\n",
       "<tr>\n",
       "  <th>Time:</th>                            <td>16:47:44</td>                 <th>  Log-Likelihood:    </th> <td> -139.62</td> \n",
       "</tr>\n",
       "<tr>\n",
       "  <th>converged:</th>                         <td>True</td>                   <th>  LL-Null:           </th> <td> -151.64</td> \n",
       "</tr>\n",
       "<tr>\n",
       "  <th>Covariance Type:</th>                 <td>nonrobust</td>                <th>  LLR p-value:       </th> <td>6.032e-06</td>\n",
       "</tr>\n",
       "</table>\n",
       "<table class=\"simpletable\">\n",
       "<tr>\n",
       "            <td></td>               <th>coef</th>     <th>std err</th>      <th>z</th>      <th>P>|z|</th>  <th>[0.025</th>    <th>0.975]</th>  \n",
       "</tr>\n",
       "<tr>\n",
       "  <th>C(fit_type)[Best Fit]</th> <td>   14.3938</td> <td>  333.813</td> <td>    0.043</td> <td> 0.966</td> <td> -639.868</td> <td>  668.655</td>\n",
       "</tr>\n",
       "<tr>\n",
       "  <th>C(fit_type)[Good Fit]</th> <td>    1.0590</td> <td>    0.177</td> <td>    5.984</td> <td> 0.000</td> <td>    0.712</td> <td>    1.406</td>\n",
       "</tr>\n",
       "<tr>\n",
       "  <th>C(fit_type)[None]</th>     <td>         0</td> <td>    0.250</td> <td>        0</td> <td> 1.000</td> <td>   -0.490</td> <td>    0.490</td>\n",
       "</tr>\n",
       "</table>"
      ],
      "text/plain": [
       "<class 'statsmodels.iolib.summary.Summary'>\n",
       "\"\"\"\n",
       "                                      Logit Regression Results                                      \n",
       "====================================================================================================\n",
       "Dep. Variable:     C1(graduated_4_year_degree_less_5_years)   No. Observations:                  247\n",
       "Model:                                                Logit   Df Residuals:                      244\n",
       "Method:                                                 MLE   Df Model:                            2\n",
       "Date:                                      Wed, 11 Mar 2020   Pseudo R-squ.:                 0.07926\n",
       "Time:                                              16:47:44   Log-Likelihood:                -139.62\n",
       "converged:                                             True   LL-Null:                       -151.64\n",
       "Covariance Type:                                  nonrobust   LLR p-value:                 6.032e-06\n",
       "=========================================================================================\n",
       "                            coef    std err          z      P>|z|      [0.025      0.975]\n",
       "-----------------------------------------------------------------------------------------\n",
       "C(fit_type)[Best Fit]    14.3938    333.813      0.043      0.966    -639.868     668.655\n",
       "C(fit_type)[Good Fit]     1.0590      0.177      5.984      0.000       0.712       1.406\n",
       "C(fit_type)[None]              0      0.250          0      1.000      -0.490       0.490\n",
       "=========================================================================================\n",
       "\"\"\""
      ]
     },
     "execution_count": 306,
     "metadata": {},
     "output_type": "execute_result"
    }
   ],
   "source": [
    "mod = smf.logit(formula= \"C1(graduated_4_year_degree_less_5_years) ~ C(fit_type)-1\", data=df_sub).fit(method='bfgs', maxiter=100)\n",
    "mod.summary()"
   ]
  },
  {
   "cell_type": "markdown",
   "metadata": {},
   "source": [
    "## SF Compared to Other Sites\n",
    "\n",
    "\n"
   ]
  },
  {
   "cell_type": "code",
   "execution_count": 1,
   "metadata": {},
   "outputs": [
    {
     "data": {
      "text/html": [
       "\n",
       "<script>\n",
       "$(document).ready(function(){\n",
       "    window.code_toggle = function() {\n",
       "        (window.code_shown) ? $('div.input').hide(250) : $('div.input').show(250);\n",
       "        window.code_shown = !window.code_shown\n",
       "    }\n",
       "    if($('body.nbviewer').length) {\n",
       "        $('<li><a href=\"javascript:window.code_toggle()\" title=\"Show/Hide Code\"><span class=\"fa fa-code fa-2x menu-icon\"></span><span class=\"menu-text\">Show/Hide Code</span></a></li>').appendTo('.navbar-right');\n",
       "        window.code_shown=false;\n",
       "        $('div.input').hide();\n",
       "    }\n",
       "});\n",
       "</script>\n",
       "\n",
       "\n",
       "<style>\n",
       "\n",
       "div.prompt {display:none}\n",
       "\n",
       "\n",
       "h1, .h1 {\n",
       "    font-size: 33px;\n",
       "    font-family: \"Trebuchet MS\";\n",
       "    font-size: 2.5em !important;\n",
       "    color: #2a7bbd;\n",
       "}\n",
       "\n",
       "h2, .h2 {\n",
       "    font-size: 10px;\n",
       "    font-family: \"Trebuchet MS\";\n",
       "    color: #2a7bbd; \n",
       "    \n",
       "}\n",
       "\n",
       "\n",
       "h3, .h3 {\n",
       "    font-size: 10px;\n",
       "    font-family: \"Trebuchet MS\";\n",
       "    color: #5d6063; \n",
       "    \n",
       "}\n",
       "\n",
       ".rendered_html table {\n",
       "\n",
       "    font-size: 14px;\n",
       "}\n",
       "\n",
       ".output_png {\n",
       "  display: flex;\n",
       "  justify-content: center;\n",
       "}\n",
       "\n",
       "\n",
       "\n",
       "</style>\n"
      ],
      "text/plain": [
       "<IPython.core.display.HTML object>"
      ]
     },
     "metadata": {},
     "output_type": "display_data"
    }
   ],
   "source": [
    "%%html\n",
    "\n",
    "<script>\n",
    "$(document).ready(function(){\n",
    "    window.code_toggle = function() {\n",
    "        (window.code_shown) ? $('div.input').hide(250) : $('div.input').show(250);\n",
    "        window.code_shown = !window.code_shown\n",
    "    }\n",
    "    if($('body.nbviewer').length) {\n",
    "        $('<li><a href=\"javascript:window.code_toggle()\" title=\"Show/Hide Code\"><span class=\"fa fa-code fa-2x menu-icon\"></span><span class=\"menu-text\">Show/Hide Code</span></a></li>').appendTo('.navbar-right');\n",
    "        window.code_shown=false;\n",
    "        $('div.input').hide();\n",
    "    }\n",
    "});\n",
    "</script>\n",
    "\n",
    "\n",
    "<style>\n",
    "\n",
    "div.prompt {display:none}\n",
    "\n",
    "\n",
    "h1, .h1 {\n",
    "    font-size: 33px;\n",
    "    font-family: \"Trebuchet MS\";\n",
    "    font-size: 2.5em !important;\n",
    "    color: #2a7bbd;\n",
    "}\n",
    "\n",
    "h2, .h2 {\n",
    "    font-size: 10px;\n",
    "    font-family: \"Trebuchet MS\";\n",
    "    color: #2a7bbd; \n",
    "    \n",
    "}\n",
    "\n",
    "\n",
    "h3, .h3 {\n",
    "    font-size: 10px;\n",
    "    font-family: \"Trebuchet MS\";\n",
    "    color: #5d6063; \n",
    "    \n",
    "}\n",
    "\n",
    ".rendered_html table {\n",
    "\n",
    "    font-size: 14px;\n",
    "}\n",
    "\n",
    ".output_png {\n",
    "  display: flex;\n",
    "  justify-content: center;\n",
    "}\n",
    "\n",
    "\n",
    "\n",
    "</style>"
   ]
  },
  {
   "cell_type": "code",
   "execution_count": null,
   "metadata": {},
   "outputs": [],
   "source": []
  }
 ],
 "metadata": {
  "hide_input": false,
  "kernelspec": {
   "display_name": "Python 3",
   "language": "python",
   "name": "python3"
  },
  "language_info": {
   "codemirror_mode": {
    "name": "ipython",
    "version": 3
   },
   "file_extension": ".py",
   "mimetype": "text/x-python",
   "name": "python",
   "nbconvert_exporter": "python",
   "pygments_lexer": "ipython3",
   "version": "3.7.4"
  },
  "toc": {
   "base_numbering": 1,
   "nav_menu": {},
   "number_sections": true,
   "sideBar": true,
   "skip_h1_title": false,
   "title_cell": "Table of Contents",
   "title_sidebar": "Contents",
   "toc_cell": false,
   "toc_position": {},
   "toc_section_display": true,
   "toc_window_display": false
  }
 },
 "nbformat": 4,
 "nbformat_minor": 4
}
