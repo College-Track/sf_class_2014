{
 "cells": [
  {
   "cell_type": "markdown",
   "metadata": {},
   "source": [
    "## OP Learning Agenda: SF Class of 2014\n",
    "\n",
    "A project to determine what, if anything, influenced the graduation success of the San Francisco class of 2014."
   ]
  },
  {
   "cell_type": "code",
   "execution_count": 8,
   "metadata": {},
   "outputs": [],
   "source": [
    "import pandas as pd\n",
    "from pathlib import Path\n",
    "from datetime import datetime\n",
    "import statsmodels.api as sm\n",
    "import numpy as np\n",
    "from tabulate import tabulate"
   ]
  },
  {
   "cell_type": "code",
   "execution_count": 9,
   "metadata": {},
   "outputs": [],
   "source": [
    "%matplotlib inline"
   ]
  },
  {
   "cell_type": "code",
   "execution_count": 10,
   "metadata": {},
   "outputs": [],
   "source": [
    "today = datetime.today()\n",
    "in_file = Path.cwd() / \"data\" / \"processed\" / \"processed_data.pkl\"\n",
    "report_dir = Path.cwd() / \"reports\"\n",
    "report_file = report_dir / \"Excel_Analysis_{today:%b-%d-%Y}.xlsx\"\n",
    "\n",
    "in_file2 = Path.cwd() / \"data\" / \"processed\" / \"processed_data_file2.pkl\"\n",
    "\n",
    "in_file3 = Path.cwd() / \"data\" / \"processed\" / \"processed_data_file3.pkl\"\n"
   ]
  },
  {
   "cell_type": "code",
   "execution_count": 11,
   "metadata": {},
   "outputs": [],
   "source": [
    "df = pd.read_pickle(in_file)\n",
    "\n",
    "df2 = pd.read_pickle(in_file2)\n",
    "\n",
    "df3 = pd.read_pickle(in_file3)"
   ]
  },
  {
   "cell_type": "code",
   "execution_count": 12,
   "metadata": {},
   "outputs": [],
   "source": [
    "def sf_cross_tab(df, column, normalize=\"index\"):\n",
    "    return pd.crosstab(\n",
    "        df[df.site == \"San Francisco\"].high_school_class,\n",
    "        df[df.site == \"San Francisco\"][column],\n",
    "        normalize=normalize,\n",
    "        margins=True,\n",
    "    )"
   ]
  },
  {
   "cell_type": "markdown",
   "metadata": {},
   "source": [
    "##  General Distributions\n",
    "\n",
    "SF Class of 2014 is on track to have the highest 6 year grad rate, with almost 70% of students already graduating, but that number isn't significantly higher than the class of 2013. Though we do see a reasonably big jump from 2012 to 2013. \n",
    "\n"
   ]
  },
  {
   "cell_type": "markdown",
   "metadata": {},
   "source": [
    "#### Table 1. San Francisco 6 Year Graduation Rate by High School Class "
   ]
  },
  {
   "cell_type": "code",
   "execution_count": 43,
   "metadata": {},
   "outputs": [
    {
     "name": "stdout",
     "output_type": "stream",
     "text": [
      "HS Class      % Did not Graduate    Graduation Rate\n",
      "----------  --------------------  -----------------\n",
      "2011                        0.53               0.47\n",
      "2012                        0.45               0.55\n",
      "2013                        0.32               0.68\n",
      "2014                        0.3                0.7\n",
      "All                         0.39               0.61\n"
     ]
    }
   ],
   "source": [
    "# Grad Rate Less than 6 years\n",
    "\n",
    "grad_rate_6_year = sf_cross_tab(df, \"graduated_4_year_degree_less_6_years\").round(2)\n",
    "\n",
    "print(tabulate(grad_rate_6_year, headers=[\"HS Class\",\"% Did not Graduate\", \"Graduation Rate\"], tablefmt='simple'))\n"
   ]
  },
  {
   "cell_type": "markdown",
   "metadata": {
    "hide_input": true
   },
   "source": [
    "#### Table 2. San Francisco 6 Year Graduation Count by High School Class \n"
   ]
  },
  {
   "cell_type": "code",
   "execution_count": 42,
   "metadata": {},
   "outputs": [
    {
     "name": "stdout",
     "output_type": "stream",
     "text": [
      "HS Class      # Did not Graduate    Graduates    All\n",
      "----------  --------------------  -----------  -----\n",
      "2011                          18           16     34\n",
      "2012                          19           23     42\n",
      "2013                          12           25     37\n",
      "2014                          16           37     53\n",
      "All                           65          101    166\n"
     ]
    }
   ],
   "source": [
    "grad_numbers_6_year = sf_cross_tab(df, \"graduated_4_year_degree_less_6_years\", normalize=False).round(2)\n",
    "\n",
    "print(tabulate(grad_numbers_6_year, headers=[\"HS Class\",\"# Did not Graduate\", \"Graduates\", \"All\"], tablefmt='simple'))\n"
   ]
  },
  {
   "cell_type": "markdown",
   "metadata": {},
   "source": [
    "#### Table 3. San Francisco 5 Year Graduation Rate by High School Class\n",
    "\n",
    "To be more accurate, we can look at the 5 year grad rate, but this tells essentially the same story."
   ]
  },
  {
   "cell_type": "code",
   "execution_count": 41,
   "metadata": {},
   "outputs": [
    {
     "name": "stdout",
     "output_type": "stream",
     "text": [
      "HS Class      % Did not Graduate    Graduation Rate\n",
      "----------  --------------------  -----------------\n",
      "2011                        0.53               0.47\n",
      "2012                        0.48               0.52\n",
      "2013                        0.32               0.68\n",
      "2014                        0.3                0.7\n",
      "All                         0.4                0.6\n"
     ]
    }
   ],
   "source": [
    "grad_rate_5_year = sf_cross_tab(df, \"graduated_4_year_degree_less_5_years\").round(2)\n",
    "\n",
    "print(tabulate(grad_rate_5_year, headers=[\"HS Class\",\"% Did not Graduate\", \"Graduation Rate\"], tablefmt='simple'))\n",
    "\n"
   ]
  },
  {
   "cell_type": "markdown",
   "metadata": {},
   "source": [
    "### Statistical Test\n",
    "\n",
    "If we run an independent t-test on the 5 year graduation rates, we see that the class of 2014 is not statistically higher than the class of 2013, or 2012. "
   ]
  },
  {
   "cell_type": "markdown",
   "metadata": {},
   "source": [
    "#### P Value from t-test comparing 2014 -> 2013"
   ]
  },
  {
   "cell_type": "code",
   "execution_count": 28,
   "metadata": {},
   "outputs": [],
   "source": [
    "population1_test_1 = (\n",
    "    df[(df.site == \"San Francisco\") & (df.high_school_class == 2013)][\n",
    "        \"graduated_4_year_degree_less_5_years\"\n",
    "    ]\n",
    ").values\n",
    "\n",
    "\n",
    "population2_test_1 = (\n",
    "    df[(df.site == \"San Francisco\") & (df.high_school_class == 2014)][\n",
    "        \"graduated_4_year_degree_less_5_years\"\n",
    "    ]\n",
    ").values"
   ]
  },
  {
   "cell_type": "code",
   "execution_count": 29,
   "metadata": {},
   "outputs": [
    {
     "data": {
      "text/plain": [
       "0.82"
      ]
     },
     "execution_count": 29,
     "metadata": {},
     "output_type": "execute_result"
    }
   ],
   "source": [
    "# p value of independent t-test on populations above\n",
    "round(sm.stats.ttest_ind(population1_test_1, population2_test_1)[1],2)\n"
   ]
  },
  {
   "cell_type": "markdown",
   "metadata": {},
   "source": [
    "#### P Value from t-test comparing 2014 -> 2012 "
   ]
  },
  {
   "cell_type": "code",
   "execution_count": 31,
   "metadata": {},
   "outputs": [],
   "source": [
    "population1_test_2 = (\n",
    "    df[(df.site == \"San Francisco\") & (df.high_school_class == 2012)][\n",
    "        \"graduated_4_year_degree_less_5_years\"\n",
    "    ]\n",
    ").values\n",
    "\n",
    "\n",
    "population2_test_2 = (\n",
    "    df[(df.site == \"San Francisco\") & (df.high_school_class == 2014)][\n",
    "        \"graduated_4_year_degree_less_5_years\"\n",
    "    ]\n",
    ").values"
   ]
  },
  {
   "cell_type": "code",
   "execution_count": 32,
   "metadata": {},
   "outputs": [
    {
     "data": {
      "text/plain": [
       "0.08"
      ]
     },
     "execution_count": 32,
     "metadata": {},
     "output_type": "execute_result"
    }
   ],
   "source": [
    "round(sm.stats.ttest_ind(population1_test_2, population2_test_2)[1],2)\n"
   ]
  },
  {
   "cell_type": "markdown",
   "metadata": {},
   "source": [
    "#### P Value from t-test comparing 2014 -> 2011\n",
    "Note, this value is < 0.5"
   ]
  },
  {
   "cell_type": "code",
   "execution_count": 33,
   "metadata": {},
   "outputs": [],
   "source": [
    "population1_test_3 = (\n",
    "    df[(df.site == \"San Francisco\") & (df.high_school_class == 2011)][\n",
    "        \"graduated_4_year_degree_less_5_years\"\n",
    "    ]\n",
    ").values\n",
    "\n",
    "\n",
    "population2_test_3 = (\n",
    "    df[(df.site == \"San Francisco\") & (df.high_school_class == 2014)][\n",
    "        \"graduated_4_year_degree_less_5_years\"\n",
    "    ]\n",
    ").values"
   ]
  },
  {
   "cell_type": "code",
   "execution_count": 35,
   "metadata": {},
   "outputs": [
    {
     "data": {
      "text/plain": [
       "0.03"
      ]
     },
     "execution_count": 35,
     "metadata": {},
     "output_type": "execute_result"
    }
   ],
   "source": [
    "round(sm.stats.ttest_ind(population1_test_3, population2_test_3)[1],2)\n"
   ]
  },
  {
   "cell_type": "markdown",
   "metadata": {},
   "source": [
    "### Other Distributions\n",
    "\n",
    "Based on the above results, I don't believe we can say that the class of 2014 was notably higher that previous classes. It does however appear there is an upswring in graduation rate that has been increasing since 2011, with a decent jump from 2012 -> 2013 (though not a statistically significant one).\n",
    "\n",
    "With that in mind, here are other notable differences in the high school class distributions which might indicatate changes that are influencing the graduation rate "
   ]
  },
  {
   "cell_type": "markdown",
   "metadata": {},
   "source": [
    "#### 11th Grade College Eligibility GPA\n",
    "\n",
    "This is the most notable distrobution change, with the class of 2014 having by far the highest 11th grade GPAs, with almost 75% of that student group having over a 3.0. Compared to 53% from the class of 2013 (the next highest)"
   ]
  },
  {
   "cell_type": "code",
   "execution_count": 40,
   "metadata": {},
   "outputs": [
    {
     "name": "stdout",
     "output_type": "stream",
     "text": [
      "HS Class      2.5 - 2.74    2.5 or less    2.75 - 2.9    3.0 - 3.49    3.5 or greater\n",
      "----------  ------------  -------------  ------------  ------------  ----------------\n",
      "2011                0.06           0.5           0.12          0.12              0.21\n",
      "2012                0.02           0.43          0.1           0.21              0.24\n",
      "2013                0.19           0.14          0.14          0.24              0.3\n",
      "2014                0.09           0.13          0.04          0.25              0.49\n",
      "All                 0.09           0.28          0.09          0.21              0.33\n"
     ]
    }
   ],
   "source": [
    "gpa_buckets = sf_cross_tab(df, \"gpa_bucket\").round(2)\n",
    "\n",
    "gpa_buckets\n",
    "\n",
    "print(tabulate(gpa_buckets, headers=[\"HS Class\",\"2.5 - 2.74\", \"2.5 or less\",\"2.75 - 2.9\", \"3.0 - 3.49\", \"3.5 or greater\"], tablefmt='simple'))\n"
   ]
  },
  {
   "cell_type": "code",
   "execution_count": 44,
   "metadata": {},
   "outputs": [
    {
     "data": {
      "text/html": [
       "<script src=\"https://cdn.rawgit.com/parente/4c3e6936d0d7a46fd071/raw/65b816fb9bdd3c28b4ddf3af602bfd6015486383/code_toggle.js\"></script>\n"
      ],
      "text/plain": [
       "<IPython.core.display.HTML object>"
      ]
     },
     "metadata": {},
     "output_type": "display_data"
    }
   ],
   "source": [
    "%%html\n",
    "<script src=\"https://cdn.rawgit.com/parente/4c3e6936d0d7a46fd071/raw/65b816fb9bdd3c28b4ddf3af602bfd6015486383/code_toggle.js\"></script>"
   ]
  },
  {
   "cell_type": "code",
   "execution_count": null,
   "metadata": {},
   "outputs": [],
   "source": []
  }
 ],
 "metadata": {
  "hide_input": false,
  "kernelspec": {
   "display_name": "Python 3",
   "language": "python",
   "name": "python3"
  },
  "language_info": {
   "codemirror_mode": {
    "name": "ipython",
    "version": 3
   },
   "file_extension": ".py",
   "mimetype": "text/x-python",
   "name": "python",
   "nbconvert_exporter": "python",
   "pygments_lexer": "ipython3",
   "version": "3.7.4"
  },
  "toc": {
   "base_numbering": 1,
   "nav_menu": {},
   "number_sections": true,
   "sideBar": true,
   "skip_h1_title": false,
   "title_cell": "Table of Contents",
   "title_sidebar": "Contents",
   "toc_cell": false,
   "toc_position": {},
   "toc_section_display": true,
   "toc_window_display": false
  }
 },
 "nbformat": 4,
 "nbformat_minor": 4
}
