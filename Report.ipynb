{
 "cells": [
  {
   "cell_type": "markdown",
   "metadata": {},
   "source": [
    "## OP Learning Agenda: SF Class of 2014\n",
    "\n",
    "A project to determine what, if anything, influenced the graduation success of the San Francisco class of 2014.\n",
    "\n",
    "### Abstract\n",
    "\n",
    "The SF Class of 2014 is currently the highest performing CT class in terms of 5 year college graduation rate. They almost certainly will be have the 6 year graduation rate at the end of FY20. This report investigated what variables might have influenced this classes success, and if any of those indicators are something which could be encouraged at other CT sites. \n",
    "\n",
    "While it is true the Class of 2014 will have the highest graduation rate, almost more notable is the jump in graduation rates from 2012 to 2013. In some senses, the class of 2014 was just continuing the impressive results their seniors started. However, given the small sample sizes for any given College Track cohort, it is difficult to draw conclusions on the statistical significance of these increases. In fact, looking at the t-test results indicated that the difference in graduation rates could not be considered pure randomness. \n",
    "\n",
    "That being said, it still is important to understand if any factors seemed different among these students that might have had a correlation with graduation rates. When considering the data available, 11th grade GPA, first year of College GPA, and, more interesting, students total bank book earnings, seemed to play an important role in graduation success. \n",
    "\n",
    "Other factors considered, but yield mixed or negligible results include: \n",
    "* First Gen Status\n",
    "* Low Income\n",
    "* Ethnic Background\n",
    "* ACT scores\n",
    "* High School Attended* \n",
    "* College Fit Type\n",
    "\n",
    "\\* For high school attended, there was a positive correlation with students who attended Lowell High School\n",
    "\n",
    "Finally, the switch to site based advising occurred around this time...TO BE COMPLETED\n",
    "\n",
    "\n"
   ]
  },
  {
   "cell_type": "code",
   "execution_count": 61,
   "metadata": {},
   "outputs": [],
   "source": [
    "import pandas as pd\n",
    "from pathlib import Path\n",
    "from datetime import datetime\n",
    "import statsmodels.api as sm\n",
    "import numpy as np\n",
    "from tabulate import tabulate\n",
    "import seaborn as sns\n",
    "import matplotlib.pyplot as plt\n",
    "import warnings\n",
    "import statsmodels.formula.api as smf\n",
    "\n",
    "warnings.filterwarnings('ignore')\n",
    "\n"
   ]
  },
  {
   "cell_type": "code",
   "execution_count": 62,
   "metadata": {},
   "outputs": [],
   "source": [
    "%matplotlib inline"
   ]
  },
  {
   "cell_type": "code",
   "execution_count": 63,
   "metadata": {},
   "outputs": [],
   "source": [
    "today = datetime.today()\n",
    "in_file = Path.cwd() / \"data\" / \"processed\" / \"processed_data.pkl\"\n",
    "report_dir = Path.cwd() / \"reports\"\n",
    "report_file = report_dir / \"Excel_Analysis_{today:%b-%d-%Y}.xlsx\"\n",
    "\n",
    "in_file2 = Path.cwd() / \"data\" / \"processed\" / \"processed_data_file2.pkl\"\n",
    "\n",
    "in_file3 = Path.cwd() / \"data\" / \"processed\" / \"processed_data_file3.pkl\""
   ]
  },
  {
   "cell_type": "code",
   "execution_count": 64,
   "metadata": {},
   "outputs": [],
   "source": [
    "df = pd.read_pickle(in_file)\n",
    "\n",
    "df2 = pd.read_pickle(in_file2)\n",
    "\n",
    "df3 = pd.read_pickle(in_file3)"
   ]
  },
  {
   "cell_type": "code",
   "execution_count": 65,
   "metadata": {},
   "outputs": [],
   "source": [
    "# original df file only included students who completed hs program. later removed that filter,\n",
    "#so changing df to be the original subset, and df_master to be the whole group\n",
    "\n",
    "df_master = df\n",
    "\n",
    "df = df[df.indicator_completed_ct_hs_program == True]"
   ]
  },
  {
   "cell_type": "code",
   "execution_count": 66,
   "metadata": {},
   "outputs": [],
   "source": [
    "def sf_cross_tab(df, column, normalize=\"index\", margins=True):\n",
    "    return pd.crosstab(\n",
    "        df[df.site == \"San Francisco\"].high_school_class,\n",
    "        df[df.site == \"San Francisco\"][column],\n",
    "        normalize=normalize,\n",
    "        margins=margins,\n",
    "    )"
   ]
  },
  {
   "cell_type": "code",
   "execution_count": 67,
   "metadata": {},
   "outputs": [],
   "source": [
    "def class_cross_tab(df, column, hs_class, normalize=\"index\"):\n",
    "    return pd.crosstab(\n",
    "        df[df.high_school_class == hs_class].site,\n",
    "        df[df.high_school_class == hs_class][column],\n",
    "        normalize=normalize,\n",
    "        margins=True,\n",
    "    )"
   ]
  },
  {
   "cell_type": "code",
   "execution_count": 68,
   "metadata": {},
   "outputs": [],
   "source": [
    "# creating a subset df that is just San Francisco\n",
    "df_sub = df[df.site == \"San Francisco\"]\n",
    "\n",
    "df_sub = df_sub[df_sub.high_school_class<=2014]"
   ]
  },
  {
   "cell_type": "markdown",
   "metadata": {
    "hide_input": true
   },
   "source": [
    "##  General Distributions\n",
    "\n",
    "SF Class of 2014 is on track to have the highest 6 year grad rate, with almost 70% of students already graduating, but that number isn't significantly higher than the class of 2013. Though we do see a reasonably big jump from 2012 to 2013. \n",
    "\n"
   ]
  },
  {
   "cell_type": "markdown",
   "metadata": {},
   "source": [
    "#### Table 1. San Francisco 6 Year Graduation Rate by High School Class "
   ]
  },
  {
   "cell_type": "code",
   "execution_count": 132,
   "metadata": {},
   "outputs": [
    {
     "data": {
      "text/html": [
       "<style  type=\"text/css\" >\n",
       "</style><table id=\"T_7622d24c_6961_11ea_a2c0_4c327597d7ef\" ><thead>    <tr>        <th class=\"index_name level0\" >graduated_4_year_degree_less_6_years</th>        <th class=\"col_heading level0 col0\" >False</th>        <th class=\"col_heading level0 col1\" >True</th>    </tr>    <tr>        <th class=\"index_name level0\" >high_school_class</th>        <th class=\"blank\" ></th>        <th class=\"blank\" ></th>    </tr></thead><tbody>\n",
       "                <tr>\n",
       "                        <th id=\"T_7622d24c_6961_11ea_a2c0_4c327597d7eflevel0_row0\" class=\"row_heading level0 row0\" >2011</th>\n",
       "                        <td id=\"T_7622d24c_6961_11ea_a2c0_4c327597d7efrow0_col0\" class=\"data row0 col0\" >53%</td>\n",
       "                        <td id=\"T_7622d24c_6961_11ea_a2c0_4c327597d7efrow0_col1\" class=\"data row0 col1\" >47%</td>\n",
       "            </tr>\n",
       "            <tr>\n",
       "                        <th id=\"T_7622d24c_6961_11ea_a2c0_4c327597d7eflevel0_row1\" class=\"row_heading level0 row1\" >2012</th>\n",
       "                        <td id=\"T_7622d24c_6961_11ea_a2c0_4c327597d7efrow1_col0\" class=\"data row1 col0\" >45%</td>\n",
       "                        <td id=\"T_7622d24c_6961_11ea_a2c0_4c327597d7efrow1_col1\" class=\"data row1 col1\" >55%</td>\n",
       "            </tr>\n",
       "            <tr>\n",
       "                        <th id=\"T_7622d24c_6961_11ea_a2c0_4c327597d7eflevel0_row2\" class=\"row_heading level0 row2\" >2013</th>\n",
       "                        <td id=\"T_7622d24c_6961_11ea_a2c0_4c327597d7efrow2_col0\" class=\"data row2 col0\" >32%</td>\n",
       "                        <td id=\"T_7622d24c_6961_11ea_a2c0_4c327597d7efrow2_col1\" class=\"data row2 col1\" >68%</td>\n",
       "            </tr>\n",
       "            <tr>\n",
       "                        <th id=\"T_7622d24c_6961_11ea_a2c0_4c327597d7eflevel0_row3\" class=\"row_heading level0 row3\" >2014</th>\n",
       "                        <td id=\"T_7622d24c_6961_11ea_a2c0_4c327597d7efrow3_col0\" class=\"data row3 col0\" >30%</td>\n",
       "                        <td id=\"T_7622d24c_6961_11ea_a2c0_4c327597d7efrow3_col1\" class=\"data row3 col1\" >70%</td>\n",
       "            </tr>\n",
       "            <tr>\n",
       "                        <th id=\"T_7622d24c_6961_11ea_a2c0_4c327597d7eflevel0_row4\" class=\"row_heading level0 row4\" >2015</th>\n",
       "                        <td id=\"T_7622d24c_6961_11ea_a2c0_4c327597d7efrow4_col0\" class=\"data row4 col0\" >61%</td>\n",
       "                        <td id=\"T_7622d24c_6961_11ea_a2c0_4c327597d7efrow4_col1\" class=\"data row4 col1\" >39%</td>\n",
       "            </tr>\n",
       "            <tr>\n",
       "                        <th id=\"T_7622d24c_6961_11ea_a2c0_4c327597d7eflevel0_row5\" class=\"row_heading level0 row5\" >All</th>\n",
       "                        <td id=\"T_7622d24c_6961_11ea_a2c0_4c327597d7efrow5_col0\" class=\"data row5 col0\" >45%</td>\n",
       "                        <td id=\"T_7622d24c_6961_11ea_a2c0_4c327597d7efrow5_col1\" class=\"data row5 col1\" >55%</td>\n",
       "            </tr>\n",
       "    </tbody></table>"
      ],
      "text/plain": [
       "<pandas.io.formats.style.Styler at 0x1a1f6cc950>"
      ]
     },
     "execution_count": 132,
     "metadata": {},
     "output_type": "execute_result"
    }
   ],
   "source": [
    "# Grad Rate Less than 6 years\n",
    "\n",
    "grad_rate_6_year = sf_cross_tab(\n",
    "    df, \"graduated_4_year_degree_less_6_years\").round(2)\n",
    "\n",
    "grad_rate_6_year.round(2).style.format('{:.0%}')"
   ]
  },
  {
   "cell_type": "markdown",
   "metadata": {
    "hide_input": true
   },
   "source": [
    "#### Table 2. San Francisco 6 Year Graduation Count by High School Class \n"
   ]
  },
  {
   "cell_type": "code",
   "execution_count": 134,
   "metadata": {},
   "outputs": [
    {
     "data": {
      "text/html": [
       "<div>\n",
       "<style scoped>\n",
       "    .dataframe tbody tr th:only-of-type {\n",
       "        vertical-align: middle;\n",
       "    }\n",
       "\n",
       "    .dataframe tbody tr th {\n",
       "        vertical-align: top;\n",
       "    }\n",
       "\n",
       "    .dataframe thead th {\n",
       "        text-align: right;\n",
       "    }\n",
       "</style>\n",
       "<table border=\"1\" class=\"dataframe\">\n",
       "  <thead>\n",
       "    <tr style=\"text-align: right;\">\n",
       "      <th>graduated_4_year_degree_less_6_years</th>\n",
       "      <th>False</th>\n",
       "      <th>True</th>\n",
       "      <th>All</th>\n",
       "    </tr>\n",
       "    <tr>\n",
       "      <th>high_school_class</th>\n",
       "      <th></th>\n",
       "      <th></th>\n",
       "      <th></th>\n",
       "    </tr>\n",
       "  </thead>\n",
       "  <tbody>\n",
       "    <tr>\n",
       "      <td>2011</td>\n",
       "      <td>18</td>\n",
       "      <td>16</td>\n",
       "      <td>34</td>\n",
       "    </tr>\n",
       "    <tr>\n",
       "      <td>2012</td>\n",
       "      <td>19</td>\n",
       "      <td>23</td>\n",
       "      <td>42</td>\n",
       "    </tr>\n",
       "    <tr>\n",
       "      <td>2013</td>\n",
       "      <td>12</td>\n",
       "      <td>25</td>\n",
       "      <td>37</td>\n",
       "    </tr>\n",
       "    <tr>\n",
       "      <td>2014</td>\n",
       "      <td>16</td>\n",
       "      <td>37</td>\n",
       "      <td>53</td>\n",
       "    </tr>\n",
       "    <tr>\n",
       "      <td>2015</td>\n",
       "      <td>35</td>\n",
       "      <td>22</td>\n",
       "      <td>57</td>\n",
       "    </tr>\n",
       "    <tr>\n",
       "      <td>All</td>\n",
       "      <td>100</td>\n",
       "      <td>123</td>\n",
       "      <td>223</td>\n",
       "    </tr>\n",
       "  </tbody>\n",
       "</table>\n",
       "</div>"
      ],
      "text/plain": [
       "graduated_4_year_degree_less_6_years  False  True  All\n",
       "high_school_class                                     \n",
       "2011                                     18    16   34\n",
       "2012                                     19    23   42\n",
       "2013                                     12    25   37\n",
       "2014                                     16    37   53\n",
       "2015                                     35    22   57\n",
       "All                                     100   123  223"
      ]
     },
     "execution_count": 134,
     "metadata": {},
     "output_type": "execute_result"
    }
   ],
   "source": [
    "grad_numbers_6_year = sf_cross_tab(df, \"graduated_4_year_degree_less_6_years\", normalize=False).round(2)\n",
    "\n",
    "grad_numbers_6_year"
   ]
  },
  {
   "cell_type": "markdown",
   "metadata": {},
   "source": [
    "#### Table 3. San Francisco 5 Year Graduation Rate by High School Class\n",
    "\n",
    "To be more accurate, we can look at the 5 year grad rate, but this tells essentially the same story."
   ]
  },
  {
   "cell_type": "code",
   "execution_count": 135,
   "metadata": {},
   "outputs": [
    {
     "data": {
      "text/html": [
       "<style  type=\"text/css\" >\n",
       "</style><table id=\"T_79b93004_6961_11ea_a2c0_4c327597d7ef\" ><thead>    <tr>        <th class=\"index_name level0\" >graduated_4_year_degree_less_5_years</th>        <th class=\"col_heading level0 col0\" >False</th>        <th class=\"col_heading level0 col1\" >True</th>    </tr>    <tr>        <th class=\"index_name level0\" >high_school_class</th>        <th class=\"blank\" ></th>        <th class=\"blank\" ></th>    </tr></thead><tbody>\n",
       "                <tr>\n",
       "                        <th id=\"T_79b93004_6961_11ea_a2c0_4c327597d7eflevel0_row0\" class=\"row_heading level0 row0\" >2011</th>\n",
       "                        <td id=\"T_79b93004_6961_11ea_a2c0_4c327597d7efrow0_col0\" class=\"data row0 col0\" >53%</td>\n",
       "                        <td id=\"T_79b93004_6961_11ea_a2c0_4c327597d7efrow0_col1\" class=\"data row0 col1\" >47%</td>\n",
       "            </tr>\n",
       "            <tr>\n",
       "                        <th id=\"T_79b93004_6961_11ea_a2c0_4c327597d7eflevel0_row1\" class=\"row_heading level0 row1\" >2012</th>\n",
       "                        <td id=\"T_79b93004_6961_11ea_a2c0_4c327597d7efrow1_col0\" class=\"data row1 col0\" >48%</td>\n",
       "                        <td id=\"T_79b93004_6961_11ea_a2c0_4c327597d7efrow1_col1\" class=\"data row1 col1\" >52%</td>\n",
       "            </tr>\n",
       "            <tr>\n",
       "                        <th id=\"T_79b93004_6961_11ea_a2c0_4c327597d7eflevel0_row2\" class=\"row_heading level0 row2\" >2013</th>\n",
       "                        <td id=\"T_79b93004_6961_11ea_a2c0_4c327597d7efrow2_col0\" class=\"data row2 col0\" >32%</td>\n",
       "                        <td id=\"T_79b93004_6961_11ea_a2c0_4c327597d7efrow2_col1\" class=\"data row2 col1\" >68%</td>\n",
       "            </tr>\n",
       "            <tr>\n",
       "                        <th id=\"T_79b93004_6961_11ea_a2c0_4c327597d7eflevel0_row3\" class=\"row_heading level0 row3\" >2014</th>\n",
       "                        <td id=\"T_79b93004_6961_11ea_a2c0_4c327597d7efrow3_col0\" class=\"data row3 col0\" >30%</td>\n",
       "                        <td id=\"T_79b93004_6961_11ea_a2c0_4c327597d7efrow3_col1\" class=\"data row3 col1\" >70%</td>\n",
       "            </tr>\n",
       "            <tr>\n",
       "                        <th id=\"T_79b93004_6961_11ea_a2c0_4c327597d7eflevel0_row4\" class=\"row_heading level0 row4\" >2015</th>\n",
       "                        <td id=\"T_79b93004_6961_11ea_a2c0_4c327597d7efrow4_col0\" class=\"data row4 col0\" >61%</td>\n",
       "                        <td id=\"T_79b93004_6961_11ea_a2c0_4c327597d7efrow4_col1\" class=\"data row4 col1\" >39%</td>\n",
       "            </tr>\n",
       "            <tr>\n",
       "                        <th id=\"T_79b93004_6961_11ea_a2c0_4c327597d7eflevel0_row5\" class=\"row_heading level0 row5\" >All</th>\n",
       "                        <td id=\"T_79b93004_6961_11ea_a2c0_4c327597d7efrow5_col0\" class=\"data row5 col0\" >45%</td>\n",
       "                        <td id=\"T_79b93004_6961_11ea_a2c0_4c327597d7efrow5_col1\" class=\"data row5 col1\" >55%</td>\n",
       "            </tr>\n",
       "    </tbody></table>"
      ],
      "text/plain": [
       "<pandas.io.formats.style.Styler at 0x1a1aa8b350>"
      ]
     },
     "execution_count": 135,
     "metadata": {},
     "output_type": "execute_result"
    }
   ],
   "source": [
    "grad_rate_5_year = sf_cross_tab(df, \"graduated_4_year_degree_less_5_years\").round(2)\n",
    "\n",
    "grad_rate_5_year.round(2).style.format('{:.0%}')\n"
   ]
  },
  {
   "cell_type": "markdown",
   "metadata": {},
   "source": [
    "### Statistical Test\n",
    "\n",
    "If we run an independent t-test on the 5 year graduation rates, we see that the class of 2014 is not statistically higher than the class of 2013, nor is the class of 2013 statistically higher than the class of 2012."
   ]
  },
  {
   "cell_type": "markdown",
   "metadata": {},
   "source": [
    "#### P Value from t-test comparing 2014 -> 2013"
   ]
  },
  {
   "cell_type": "code",
   "execution_count": 12,
   "metadata": {},
   "outputs": [],
   "source": [
    "population1_test_1 = (\n",
    "    df[(df.site == \"San Francisco\") & (df.high_school_class == 2013)][\n",
    "        \"graduated_4_year_degree_less_5_years\"\n",
    "    ]\n",
    ").values\n",
    "\n",
    "\n",
    "population2_test_1 = (\n",
    "    df[(df.site == \"San Francisco\") & (df.high_school_class == 2014)][\n",
    "        \"graduated_4_year_degree_less_5_years\"\n",
    "    ]\n",
    ").values"
   ]
  },
  {
   "cell_type": "code",
   "execution_count": 13,
   "metadata": {},
   "outputs": [
    {
     "name": "stdout",
     "output_type": "stream",
     "text": [
      "p Value:  0.82\n"
     ]
    }
   ],
   "source": [
    "# p value of independent t-test on populations above\n",
    "print(\"p Value: \", (round(sm.stats.ttest_ind(population1_test_1, population2_test_1)[1], 2)))"
   ]
  },
  {
   "cell_type": "markdown",
   "metadata": {},
   "source": [
    "#### P Value from t-test comparing 2013 -> 2012 \n"
   ]
  },
  {
   "cell_type": "code",
   "execution_count": 14,
   "metadata": {},
   "outputs": [],
   "source": [
    "population1_test_2 = (\n",
    "    df[(df.site == \"San Francisco\") & (df.high_school_class == 2012)][\n",
    "        \"graduated_4_year_degree_less_5_years\"\n",
    "    ]\n",
    ").values\n",
    "\n",
    "\n",
    "population2_test_2 = (\n",
    "    df[(df.site == \"San Francisco\") & (df.high_school_class == 2013)][\n",
    "        \"graduated_4_year_degree_less_5_years\"\n",
    "    ]\n",
    ").values"
   ]
  },
  {
   "cell_type": "code",
   "execution_count": 15,
   "metadata": {},
   "outputs": [
    {
     "name": "stdout",
     "output_type": "stream",
     "text": [
      " p Value:  0.17\n"
     ]
    }
   ],
   "source": [
    "print(\" p Value: \",(round(sm.stats.ttest_ind(population1_test_2, population2_test_2)[1], 2)))"
   ]
  },
  {
   "cell_type": "markdown",
   "metadata": {},
   "source": [
    "### Other Distributions\n",
    "\n",
    "Based on the above results, I don't believe we can say that the class of 2014 was notably higher that previous classes. It does however appear there is an upswing in graduation rate that has been increasing since 2011, with a decent jump from 2012 -> 2013 (though not a statistically significant one).\n",
    "\n",
    "With that in mind, here are other notable differences in the high school class distributions which might indicate changes that are influencing the graduation rate "
   ]
  },
  {
   "cell_type": "markdown",
   "metadata": {},
   "source": [
    "#### 11th Grade College Eligibility GPA\n",
    "\n",
    "This is the most notable distribution change, with the class of 2014 and 2013 having higher GPAs than the previous classes. The class of 2014 had almost 75% of students with a GPA above 3.0, and the class of 2013 had 54% of student above 3.0. Compared to 45% for the class of 2012."
   ]
  },
  {
   "cell_type": "code",
   "execution_count": 136,
   "metadata": {},
   "outputs": [
    {
     "data": {
      "text/html": [
       "<style  type=\"text/css\" >\n",
       "</style><table id=\"T_7cfd484a_6961_11ea_a2c0_4c327597d7ef\" ><thead>    <tr>        <th class=\"index_name level0\" >11th_grade_gpa_bucket</th>        <th class=\"col_heading level0 col0\" >2.5 - 2.74</th>        <th class=\"col_heading level0 col1\" >2.5 or less</th>        <th class=\"col_heading level0 col2\" >2.75 - 2.9</th>        <th class=\"col_heading level0 col3\" >3.0 - 3.49</th>        <th class=\"col_heading level0 col4\" >3.5 or greater</th>        <th class=\"col_heading level0 col5\" >NULL</th>    </tr>    <tr>        <th class=\"index_name level0\" >high_school_class</th>        <th class=\"blank\" ></th>        <th class=\"blank\" ></th>        <th class=\"blank\" ></th>        <th class=\"blank\" ></th>        <th class=\"blank\" ></th>        <th class=\"blank\" ></th>    </tr></thead><tbody>\n",
       "                <tr>\n",
       "                        <th id=\"T_7cfd484a_6961_11ea_a2c0_4c327597d7eflevel0_row0\" class=\"row_heading level0 row0\" >2011</th>\n",
       "                        <td id=\"T_7cfd484a_6961_11ea_a2c0_4c327597d7efrow0_col0\" class=\"data row0 col0\" >6%</td>\n",
       "                        <td id=\"T_7cfd484a_6961_11ea_a2c0_4c327597d7efrow0_col1\" class=\"data row0 col1\" >24%</td>\n",
       "                        <td id=\"T_7cfd484a_6961_11ea_a2c0_4c327597d7efrow0_col2\" class=\"data row0 col2\" >12%</td>\n",
       "                        <td id=\"T_7cfd484a_6961_11ea_a2c0_4c327597d7efrow0_col3\" class=\"data row0 col3\" >12%</td>\n",
       "                        <td id=\"T_7cfd484a_6961_11ea_a2c0_4c327597d7efrow0_col4\" class=\"data row0 col4\" >21%</td>\n",
       "                        <td id=\"T_7cfd484a_6961_11ea_a2c0_4c327597d7efrow0_col5\" class=\"data row0 col5\" >26%</td>\n",
       "            </tr>\n",
       "            <tr>\n",
       "                        <th id=\"T_7cfd484a_6961_11ea_a2c0_4c327597d7eflevel0_row1\" class=\"row_heading level0 row1\" >2012</th>\n",
       "                        <td id=\"T_7cfd484a_6961_11ea_a2c0_4c327597d7efrow1_col0\" class=\"data row1 col0\" >2%</td>\n",
       "                        <td id=\"T_7cfd484a_6961_11ea_a2c0_4c327597d7efrow1_col1\" class=\"data row1 col1\" >21%</td>\n",
       "                        <td id=\"T_7cfd484a_6961_11ea_a2c0_4c327597d7efrow1_col2\" class=\"data row1 col2\" >10%</td>\n",
       "                        <td id=\"T_7cfd484a_6961_11ea_a2c0_4c327597d7efrow1_col3\" class=\"data row1 col3\" >21%</td>\n",
       "                        <td id=\"T_7cfd484a_6961_11ea_a2c0_4c327597d7efrow1_col4\" class=\"data row1 col4\" >24%</td>\n",
       "                        <td id=\"T_7cfd484a_6961_11ea_a2c0_4c327597d7efrow1_col5\" class=\"data row1 col5\" >21%</td>\n",
       "            </tr>\n",
       "            <tr>\n",
       "                        <th id=\"T_7cfd484a_6961_11ea_a2c0_4c327597d7eflevel0_row2\" class=\"row_heading level0 row2\" >2013</th>\n",
       "                        <td id=\"T_7cfd484a_6961_11ea_a2c0_4c327597d7efrow2_col0\" class=\"data row2 col0\" >19%</td>\n",
       "                        <td id=\"T_7cfd484a_6961_11ea_a2c0_4c327597d7efrow2_col1\" class=\"data row2 col1\" >14%</td>\n",
       "                        <td id=\"T_7cfd484a_6961_11ea_a2c0_4c327597d7efrow2_col2\" class=\"data row2 col2\" >14%</td>\n",
       "                        <td id=\"T_7cfd484a_6961_11ea_a2c0_4c327597d7efrow2_col3\" class=\"data row2 col3\" >24%</td>\n",
       "                        <td id=\"T_7cfd484a_6961_11ea_a2c0_4c327597d7efrow2_col4\" class=\"data row2 col4\" >30%</td>\n",
       "                        <td id=\"T_7cfd484a_6961_11ea_a2c0_4c327597d7efrow2_col5\" class=\"data row2 col5\" >0%</td>\n",
       "            </tr>\n",
       "            <tr>\n",
       "                        <th id=\"T_7cfd484a_6961_11ea_a2c0_4c327597d7eflevel0_row3\" class=\"row_heading level0 row3\" >2014</th>\n",
       "                        <td id=\"T_7cfd484a_6961_11ea_a2c0_4c327597d7efrow3_col0\" class=\"data row3 col0\" >9%</td>\n",
       "                        <td id=\"T_7cfd484a_6961_11ea_a2c0_4c327597d7efrow3_col1\" class=\"data row3 col1\" >13%</td>\n",
       "                        <td id=\"T_7cfd484a_6961_11ea_a2c0_4c327597d7efrow3_col2\" class=\"data row3 col2\" >4%</td>\n",
       "                        <td id=\"T_7cfd484a_6961_11ea_a2c0_4c327597d7efrow3_col3\" class=\"data row3 col3\" >25%</td>\n",
       "                        <td id=\"T_7cfd484a_6961_11ea_a2c0_4c327597d7efrow3_col4\" class=\"data row3 col4\" >49%</td>\n",
       "                        <td id=\"T_7cfd484a_6961_11ea_a2c0_4c327597d7efrow3_col5\" class=\"data row3 col5\" >0%</td>\n",
       "            </tr>\n",
       "            <tr>\n",
       "                        <th id=\"T_7cfd484a_6961_11ea_a2c0_4c327597d7eflevel0_row4\" class=\"row_heading level0 row4\" >2015</th>\n",
       "                        <td id=\"T_7cfd484a_6961_11ea_a2c0_4c327597d7efrow4_col0\" class=\"data row4 col0\" >7%</td>\n",
       "                        <td id=\"T_7cfd484a_6961_11ea_a2c0_4c327597d7efrow4_col1\" class=\"data row4 col1\" >11%</td>\n",
       "                        <td id=\"T_7cfd484a_6961_11ea_a2c0_4c327597d7efrow4_col2\" class=\"data row4 col2\" >12%</td>\n",
       "                        <td id=\"T_7cfd484a_6961_11ea_a2c0_4c327597d7efrow4_col3\" class=\"data row4 col3\" >30%</td>\n",
       "                        <td id=\"T_7cfd484a_6961_11ea_a2c0_4c327597d7efrow4_col4\" class=\"data row4 col4\" >35%</td>\n",
       "                        <td id=\"T_7cfd484a_6961_11ea_a2c0_4c327597d7efrow4_col5\" class=\"data row4 col5\" >5%</td>\n",
       "            </tr>\n",
       "    </tbody></table>"
      ],
      "text/plain": [
       "<pandas.io.formats.style.Styler at 0x1a1aa87c10>"
      ]
     },
     "execution_count": 136,
     "metadata": {},
     "output_type": "execute_result"
    }
   ],
   "source": [
    "gpa_buckets = sf_cross_tab(df, \"11th_grade_gpa_bucket\", margins=False ).round(2)\n",
    "\n",
    "\n",
    "\n",
    "gpa_buckets.round(2).style.format('{:.0%}')"
   ]
  },
  {
   "cell_type": "markdown",
   "metadata": {},
   "source": [
    "#### Pearson Correlation Coefficient for key continuous data points (SF - all classes)\n",
    "\n",
    "Below is the correlation matrix for key continuous variables that might influence college graduation. For the purposes here, only the first column is displays relevant information. \n",
    "\n",
    "We can see that GPA in general plays the largest factor, with 11th grade and the first year of college particularly important. Bank book earnings played the had the second highest correlation to graduation success. \n",
    "\n",
    "Note - there are no notable differences between the Pearson Coefficient and the Spearman Coefficient\n"
   ]
  },
  {
   "cell_type": "code",
   "execution_count": 137,
   "metadata": {},
   "outputs": [],
   "source": [
    "# cleaning up column types (needs to be moved to data prep)\n",
    "\n",
    "# changing act_math to an int\n",
    "df['act_mathematics'] = pd.to_numeric(df['act_mathematics'], errors='coerce')\n",
    "\n",
    "# changing bank book earnings to an int\n",
    "df['total_bb_earnings_as_of_hs_grad'] = df['total_bb_earnings_as_of_hs_grad'].replace(\n",
    "    '[\\$,]', '', regex=True).astype(float)\n",
    "\n",
    "# changing gpa data to int\n",
    "df[['9th_grade', '10th_grade', '11th_grade',\n",
    "    '12th_grade', 'year_1', 'year_2', 'year_3',\n",
    "    'year_4', 'year_5', 'year_6']] = df[\n",
    "    ['9th_grade', '10th_grade', '11th_grade',\n",
    "    '12th_grade', 'year_1', 'year_2', 'year_3',\n",
    "    'year_4', 'year_5', 'year_6']].apply(pd.to_numeric, errors='coerce')"
   ]
  },
  {
   "cell_type": "code",
   "execution_count": 138,
   "metadata": {},
   "outputs": [],
   "source": [
    "corrMatrix = df_sub[['graduated_4_year_degree_less_5_years', '9th_grade', '10th_grade', '11th_grade',\n",
    "                     '12th_grade', 'year_1', 'year_2', 'year_3',\n",
    "                     'year_4', 'year_5', 'indicator_first_generation', 'indicator_low_income',\n",
    "                     'total_bb_earnings_as_of_hs_grad', 'act_mathematics']].corr(method='pearson')"
   ]
  },
  {
   "cell_type": "code",
   "execution_count": 139,
   "metadata": {},
   "outputs": [
    {
     "data": {
      "image/png": "[encoded data removed]",
      "text/plain": [
       "<Figure size 864x864 with 2 Axes>"
      ]
     },
     "metadata": {
      "needs_background": "light"
     },
     "output_type": "display_data"
    }
   ],
   "source": [
    "f, ax = plt.subplots(figsize=(12, 12))\n",
    "sns.set_context('paper')\n",
    "\n",
    "\n",
    "ax = sns.heatmap(corrMatrix, vmax=1, square=True, annot=True,  cmap=\"RdBu\")\n"
   ]
  },
  {
   "cell_type": "markdown",
   "metadata": {},
   "source": [
    "#### Logistic Regression on Categorical Variables (All SF Classes)\n",
    "\n",
    "Based on the above correlations, it is important to evaluate if any categorical variables are also influencing graduation outcomes. Below are the logistic regression results for selected categorical variables with the notable continuous variables added to the model as well. \n",
    "\n",
    "Below is the logistic regression result on the following key categorical variables: \n",
    "\n",
    "\n",
    "* Ethnic Background\n",
    "\n",
    "* College Fit type (using the fit type of the first school attended)\n",
    "\n",
    "* First Generation \n",
    "\n",
    "* High School Attended\n",
    "\n",
    "\n",
    "\n",
    "When performed on only San Francisco students, the results indicated that still only 11th Grade GPA and Year 1 GPA had a statistically significant influence on graduation success. None of the other categorical indicators were statistically significant. \n",
    "\n",
    "\n",
    "*For the high school test, the continuous variables had to be removed for the results to converge due to the large number of schools students attended* \n",
    "\n",
    "\n",
    "\n",
    "Only three high schools showed statistically significant values, Lowell, Balboa, and City Arts and Tech, with Lowell being the only one that had a positive influence on students. As a note, prior to this analysis I spoke with Miccaela Montague and she indicated this likely would be the case. \n",
    "\n",
    "As a note, for all of these the sample size was quite low.\n",
    "\n"
   ]
  },
  {
   "cell_type": "code",
   "execution_count": 90,
   "metadata": {},
   "outputs": [],
   "source": [
    "def C1(cat):\n",
    "     return pd.get_dummies(cat, drop_first=True)"
   ]
  },
  {
   "cell_type": "code",
   "execution_count": 91,
   "metadata": {},
   "outputs": [
    {
     "name": "stdout",
     "output_type": "stream",
     "text": [
      "Optimization terminated successfully.\n",
      "         Current function value: 0.121799\n",
      "         Iterations: 94\n",
      "         Function evaluations: 107\n",
      "         Gradient evaluations: 99\n"
     ]
    },
    {
     "data": {
      "text/html": [
       "<table class=\"simpletable\">\n",
       "<caption>Logit Regression Results</caption>\n",
       "<tr>\n",
       "  <th>Dep. Variable:</th>   <td>C1(graduated_4_year_degree_less_6_years)</td> <th>  No. Observations:  </th>  <td>    46</td>  \n",
       "</tr>\n",
       "<tr>\n",
       "  <th>Model:</th>                             <td>Logit</td>                  <th>  Df Residuals:      </th>  <td>    35</td>  \n",
       "</tr>\n",
       "<tr>\n",
       "  <th>Method:</th>                             <td>MLE</td>                   <th>  Df Model:          </th>  <td>    10</td>  \n",
       "</tr>\n",
       "<tr>\n",
       "  <th>Date:</th>                        <td>Wed, 18 Mar 2020</td>             <th>  Pseudo R-squ.:     </th>  <td>0.7674</td>  \n",
       "</tr>\n",
       "<tr>\n",
       "  <th>Time:</th>                            <td>14:30:14</td>                 <th>  Log-Likelihood:    </th> <td> -5.6028</td> \n",
       "</tr>\n",
       "<tr>\n",
       "  <th>converged:</th>                         <td>True</td>                   <th>  LL-Null:           </th> <td> -24.085</td> \n",
       "</tr>\n",
       "<tr>\n",
       "  <th>Covariance Type:</th>                 <td>nonrobust</td>                <th>  LLR p-value:       </th> <td>5.740e-05</td>\n",
       "</tr>\n",
       "</table>\n",
       "<table class=\"simpletable\">\n",
       "<tr>\n",
       "                      <td></td>                        <th>coef</th>     <th>std err</th>      <th>z</th>      <th>P>|z|</th>  <th>[0.025</th>    <th>0.975]</th>  \n",
       "</tr>\n",
       "<tr>\n",
       "  <th>Intercept</th>                                <td>  -26.2643</td> <td> 5016.666</td> <td>   -0.005</td> <td> 0.996</td> <td>-9858.749</td> <td> 9806.220</td>\n",
       "</tr>\n",
       "<tr>\n",
       "  <th>C(indicator_first_generation)[T.True]</th>    <td>   -0.0611</td> <td>    2.341</td> <td>   -0.026</td> <td> 0.979</td> <td>   -4.650</td> <td>    4.527</td>\n",
       "</tr>\n",
       "<tr>\n",
       "  <th>C(fit_type)[T.Good Fit]</th>                  <td>  -14.7130</td> <td> 5016.628</td> <td>   -0.003</td> <td> 0.998</td> <td>-9847.123</td> <td> 9817.697</td>\n",
       "</tr>\n",
       "<tr>\n",
       "  <th>C(fit_type)[T.None]</th>                      <td>  -13.5948</td> <td> 5016.628</td> <td>   -0.003</td> <td> 0.998</td> <td>-9846.005</td> <td> 9818.816</td>\n",
       "</tr>\n",
       "<tr>\n",
       "  <th>C(ethnic_background)[T.Asian-American]</th>   <td>   -6.6681</td> <td>    4.460</td> <td>   -1.495</td> <td> 0.135</td> <td>  -15.409</td> <td>    2.072</td>\n",
       "</tr>\n",
       "<tr>\n",
       "  <th>C(ethnic_background)[T.Latino / Chicano]</th> <td>    4.0663</td> <td>    6.752</td> <td>    0.602</td> <td> 0.547</td> <td>   -9.167</td> <td>   17.300</td>\n",
       "</tr>\n",
       "<tr>\n",
       "  <th>C(ethnic_background)[T.Multiracial]</th>      <td>   -1.1977</td> <td>   68.897</td> <td>   -0.017</td> <td> 0.986</td> <td> -136.233</td> <td>  133.838</td>\n",
       "</tr>\n",
       "<tr>\n",
       "  <th>C(ethnic_background)[T.Other]</th>            <td>         0</td> <td> 2.86e+08</td> <td>        0</td> <td> 1.000</td> <td> -5.6e+08</td> <td>  5.6e+08</td>\n",
       "</tr>\n",
       "<tr>\n",
       "  <th>C(ethnic_background)[T.Pacific Islander]</th> <td>    3.6324</td> <td> 6876.918</td> <td>    0.001</td> <td> 1.000</td> <td>-1.35e+04</td> <td> 1.35e+04</td>\n",
       "</tr>\n",
       "<tr>\n",
       "  <th>year_1</th>                                   <td>    5.8800</td> <td>    2.933</td> <td>    2.005</td> <td> 0.045</td> <td>    0.132</td> <td>   11.628</td>\n",
       "</tr>\n",
       "<tr>\n",
       "  <th>Q('11th_grade')</th>                          <td>    5.5164</td> <td>    3.086</td> <td>    1.788</td> <td> 0.074</td> <td>   -0.531</td> <td>   11.564</td>\n",
       "</tr>\n",
       "<tr>\n",
       "  <th>total_bb_earnings_as_of_hs_grad</th>          <td>    0.0049</td> <td>    0.003</td> <td>    1.703</td> <td> 0.089</td> <td>   -0.001</td> <td>    0.011</td>\n",
       "</tr>\n",
       "</table><br/><br/>Possibly complete quasi-separation: A fraction 0.37 of observations can be<br/>perfectly predicted. This might indicate that there is complete<br/>quasi-separation. In this case some parameters will not be identified."
      ],
      "text/plain": [
       "<class 'statsmodels.iolib.summary.Summary'>\n",
       "\"\"\"\n",
       "                                      Logit Regression Results                                      \n",
       "====================================================================================================\n",
       "Dep. Variable:     C1(graduated_4_year_degree_less_6_years)   No. Observations:                   46\n",
       "Model:                                                Logit   Df Residuals:                       35\n",
       "Method:                                                 MLE   Df Model:                           10\n",
       "Date:                                      Wed, 18 Mar 2020   Pseudo R-squ.:                  0.7674\n",
       "Time:                                              14:30:14   Log-Likelihood:                -5.6028\n",
       "converged:                                             True   LL-Null:                       -24.085\n",
       "Covariance Type:                                  nonrobust   LLR p-value:                 5.740e-05\n",
       "============================================================================================================\n",
       "                                               coef    std err          z      P>|z|      [0.025      0.975]\n",
       "------------------------------------------------------------------------------------------------------------\n",
       "Intercept                                  -26.2643   5016.666     -0.005      0.996   -9858.749    9806.220\n",
       "C(indicator_first_generation)[T.True]       -0.0611      2.341     -0.026      0.979      -4.650       4.527\n",
       "C(fit_type)[T.Good Fit]                    -14.7130   5016.628     -0.003      0.998   -9847.123    9817.697\n",
       "C(fit_type)[T.None]                        -13.5948   5016.628     -0.003      0.998   -9846.005    9818.816\n",
       "C(ethnic_background)[T.Asian-American]      -6.6681      4.460     -1.495      0.135     -15.409       2.072\n",
       "C(ethnic_background)[T.Latino / Chicano]     4.0663      6.752      0.602      0.547      -9.167      17.300\n",
       "C(ethnic_background)[T.Multiracial]         -1.1977     68.897     -0.017      0.986    -136.233     133.838\n",
       "C(ethnic_background)[T.Other]                     0   2.86e+08          0      1.000    -5.6e+08     5.6e+08\n",
       "C(ethnic_background)[T.Pacific Islander]     3.6324   6876.918      0.001      1.000   -1.35e+04    1.35e+04\n",
       "year_1                                       5.8800      2.933      2.005      0.045       0.132      11.628\n",
       "Q('11th_grade')                              5.5164      3.086      1.788      0.074      -0.531      11.564\n",
       "total_bb_earnings_as_of_hs_grad              0.0049      0.003      1.703      0.089      -0.001       0.011\n",
       "============================================================================================================\n",
       "\n",
       "Possibly complete quasi-separation: A fraction 0.37 of observations can be\n",
       "perfectly predicted. This might indicate that there is complete\n",
       "quasi-separation. In this case some parameters will not be identified.\n",
       "\"\"\""
      ]
     },
     "execution_count": 91,
     "metadata": {},
     "output_type": "execute_result"
    }
   ],
   "source": [
    "mod = smf.logit(formula= \"C1(graduated_4_year_degree_less_6_years) ~ year_1  + Q('11th_grade') + C(indicator_first_generation) + total_bb_earnings_as_of_hs_grad + (C(fit_type)-1) + C(ethnic_background)\", data=df_sub).fit(method='bfgs', maxiter=100)\n",
    "mod.summary()"
   ]
  },
  {
   "cell_type": "code",
   "execution_count": 92,
   "metadata": {},
   "outputs": [
    {
     "name": "stdout",
     "output_type": "stream",
     "text": [
      "Warning: Maximum number of iterations has been exceeded.\n",
      "         Current function value: 0.459947\n",
      "         Iterations: 100\n",
      "         Function evaluations: 101\n",
      "         Gradient evaluations: 101\n"
     ]
    },
    {
     "data": {
      "text/html": [
       "<table class=\"simpletable\">\n",
       "<caption>Logit Regression Results</caption>\n",
       "<tr>\n",
       "  <th>Dep. Variable:</th>   <td>C1(graduated_4_year_degree_less_6_years)</td> <th>  No. Observations:  </th>  <td>   163</td>  \n",
       "</tr>\n",
       "<tr>\n",
       "  <th>Model:</th>                             <td>Logit</td>                  <th>  Df Residuals:      </th>  <td>   132</td>  \n",
       "</tr>\n",
       "<tr>\n",
       "  <th>Method:</th>                             <td>MLE</td>                   <th>  Df Model:          </th>  <td>    30</td>  \n",
       "</tr>\n",
       "<tr>\n",
       "  <th>Date:</th>                        <td>Wed, 18 Mar 2020</td>             <th>  Pseudo R-squ.:     </th>  <td>0.3106</td>  \n",
       "</tr>\n",
       "<tr>\n",
       "  <th>Time:</th>                            <td>14:30:15</td>                 <th>  Log-Likelihood:    </th> <td> -74.971</td> \n",
       "</tr>\n",
       "<tr>\n",
       "  <th>converged:</th>                         <td>False</td>                  <th>  LL-Null:           </th> <td> -108.75</td> \n",
       "</tr>\n",
       "<tr>\n",
       "  <th>Covariance Type:</th>                 <td>nonrobust</td>                <th>  LLR p-value:       </th> <td>0.0001025</td>\n",
       "</tr>\n",
       "</table>\n",
       "<table class=\"simpletable\">\n",
       "<tr>\n",
       "                                       <td></td>                                          <th>coef</th>     <th>std err</th>      <th>z</th>      <th>P>|z|</th>  <th>[0.025</th>    <th>0.975]</th>  \n",
       "</tr>\n",
       "<tr>\n",
       "  <th>Intercept</th>                                                                   <td>    0.8096</td> <td>    0.601</td> <td>    1.348</td> <td> 0.178</td> <td>   -0.368</td> <td>    1.987</td>\n",
       "</tr>\n",
       "<tr>\n",
       "  <th>C(school)[T.Archbishop Riordan High School]</th>                                 <td>   16.8502</td> <td> 3946.457</td> <td>    0.004</td> <td> 0.997</td> <td>-7718.064</td> <td> 7751.765</td>\n",
       "</tr>\n",
       "<tr>\n",
       "  <th>C(school)[T.Asawa (Ruth) San Francisco School Of The Arts, A Public School]</th> <td>  -28.8917</td> <td>  5.6e+05</td> <td>-5.16e-05</td> <td> 1.000</td> <td> -1.1e+06</td> <td>  1.1e+06</td>\n",
       "</tr>\n",
       "<tr>\n",
       "  <th>C(school)[T.Balboa High School]</th>                                             <td>   -0.8049</td> <td>    1.014</td> <td>   -0.794</td> <td> 0.427</td> <td>   -2.792</td> <td>    1.182</td>\n",
       "</tr>\n",
       "<tr>\n",
       "  <th>C(school)[T.Bridgemont High School]</th>                                         <td>  -15.8382</td> <td> 1834.126</td> <td>   -0.009</td> <td> 0.993</td> <td>-3610.659</td> <td> 3578.982</td>\n",
       "</tr>\n",
       "<tr>\n",
       "  <th>C(school)[T.City Arts And Tech High School]</th>                                 <td>   -1.6581</td> <td>    0.915</td> <td>   -1.812</td> <td> 0.070</td> <td>   -3.452</td> <td>    0.135</td>\n",
       "</tr>\n",
       "<tr>\n",
       "  <th>C(school)[T.Crystal Springs Uplands School]</th>                                 <td>  -15.8382</td> <td> 1834.126</td> <td>   -0.009</td> <td> 0.993</td> <td>-3610.659</td> <td> 3578.982</td>\n",
       "</tr>\n",
       "<tr>\n",
       "  <th>C(school)[T.Drew School]</th>                                                    <td>    9.3556</td> <td>  161.196</td> <td>    0.058</td> <td> 0.954</td> <td> -306.583</td> <td>  325.294</td>\n",
       "</tr>\n",
       "<tr>\n",
       "  <th>C(school)[T.El Camino High School]</th>                                          <td>   -0.8101</td> <td>    1.537</td> <td>   -0.527</td> <td> 0.598</td> <td>   -3.822</td> <td>    2.201</td>\n",
       "</tr>\n",
       "<tr>\n",
       "  <th>C(school)[T.Galileo High School]</th>                                            <td>   -0.4053</td> <td>    1.093</td> <td>   -0.371</td> <td> 0.711</td> <td>   -2.547</td> <td>    1.736</td>\n",
       "</tr>\n",
       "<tr>\n",
       "  <th>C(school)[T.Gateway High School]</th>                                            <td>   -1.0326</td> <td>    0.765</td> <td>   -1.349</td> <td> 0.177</td> <td>   -2.533</td> <td>    0.468</td>\n",
       "</tr>\n",
       "<tr>\n",
       "  <th>C(school)[T.Immaculate Conception Academy]</th>                                  <td>   -1.9089</td> <td>    1.302</td> <td>   -1.466</td> <td> 0.143</td> <td>   -4.460</td> <td>    0.643</td>\n",
       "</tr>\n",
       "<tr>\n",
       "  <th>C(school)[T.International Studies Academy]</th>                                  <td>   -1.9089</td> <td>    1.302</td> <td>   -1.466</td> <td> 0.143</td> <td>   -4.460</td> <td>    0.643</td>\n",
       "</tr>\n",
       "<tr>\n",
       "  <th>C(school)[T.Jordan (June) School For Equity]</th>                                <td>    9.3556</td> <td>  161.196</td> <td>    0.058</td> <td> 0.954</td> <td> -306.583</td> <td>  325.294</td>\n",
       "</tr>\n",
       "<tr>\n",
       "  <th>C(school)[T.KIPP Bridge Charter School]</th>                                     <td>    0.0551</td> <td>    0.734</td> <td>    0.075</td> <td> 0.940</td> <td>   -1.383</td> <td>    1.493</td>\n",
       "</tr>\n",
       "<tr>\n",
       "  <th>C(school)[T.Leadership High School]</th>                                         <td>  -15.8382</td> <td> 1834.126</td> <td>   -0.009</td> <td> 0.993</td> <td>-3610.659</td> <td> 3578.982</td>\n",
       "</tr>\n",
       "<tr>\n",
       "  <th>C(school)[T.Liberty High School]</th>                                            <td>  -15.8382</td> <td> 1834.126</td> <td>   -0.009</td> <td> 0.993</td> <td>-3610.659</td> <td> 3578.982</td>\n",
       "</tr>\n",
       "<tr>\n",
       "  <th>C(school)[T.Lowell High School]</th>                                             <td>    0.9818</td> <td>    0.866</td> <td>    1.134</td> <td> 0.257</td> <td>   -0.715</td> <td>    2.679</td>\n",
       "</tr>\n",
       "<tr>\n",
       "  <th>C(school)[T.Marshall (Thurgood) High School]</th>                                <td>   30.9102</td> <td> 2.15e+06</td> <td> 1.44e-05</td> <td> 1.000</td> <td>-4.21e+06</td> <td> 4.21e+06</td>\n",
       "</tr>\n",
       "<tr>\n",
       "  <th>C(school)[T.Mercy High School]</th>                                              <td>   -0.8101</td> <td>    1.537</td> <td>   -0.527</td> <td> 0.598</td> <td>   -3.822</td> <td>    2.201</td>\n",
       "</tr>\n",
       "<tr>\n",
       "  <th>C(school)[T.Metro Education District School]</th>                                <td>    9.3556</td> <td>  161.196</td> <td>    0.058</td> <td> 0.954</td> <td> -306.583</td> <td>  325.294</td>\n",
       "</tr>\n",
       "<tr>\n",
       "  <th>C(school)[T.Mission High School]</th>                                            <td>  -20.0327</td> <td> 1.06e+04</td> <td>   -0.002</td> <td> 0.998</td> <td>-2.07e+04</td> <td> 2.07e+04</td>\n",
       "</tr>\n",
       "<tr>\n",
       "  <th>C(school)[T.O'Connell (John) High School]</th>                                   <td>    9.3556</td> <td>  161.196</td> <td>    0.058</td> <td> 0.954</td> <td> -306.583</td> <td>  325.294</td>\n",
       "</tr>\n",
       "<tr>\n",
       "  <th>C(school)[T.S.F. International High School]</th>                                 <td>   13.5689</td> <td>  937.001</td> <td>    0.014</td> <td> 0.988</td> <td>-1822.920</td> <td> 1850.058</td>\n",
       "</tr>\n",
       "<tr>\n",
       "  <th>C(school)[T.Sacred Heart Cathedral Preparatory]</th>                             <td>    9.3556</td> <td>  161.196</td> <td>    0.058</td> <td> 0.954</td> <td> -306.583</td> <td>  325.294</td>\n",
       "</tr>\n",
       "<tr>\n",
       "  <th>C(school)[T.San Francisco University High School]</th>                           <td>    9.3556</td> <td>  161.196</td> <td>    0.058</td> <td> 0.954</td> <td> -306.583</td> <td>  325.294</td>\n",
       "</tr>\n",
       "<tr>\n",
       "  <th>C(school)[T.St. Ignatius College Preparatory School]</th>                        <td>    9.3556</td> <td>  161.196</td> <td>    0.058</td> <td> 0.954</td> <td> -306.583</td> <td>  325.294</td>\n",
       "</tr>\n",
       "<tr>\n",
       "  <th>C(school)[T.Stuart Hall High School]</th>                                        <td>    9.3556</td> <td>  161.196</td> <td>    0.058</td> <td> 0.954</td> <td> -306.583</td> <td>  325.294</td>\n",
       "</tr>\n",
       "<tr>\n",
       "  <th>C(school)[T.Urban School Of San Francisco]</th>                                  <td>    9.3556</td> <td>  161.196</td> <td>    0.058</td> <td> 0.954</td> <td> -306.583</td> <td>  325.294</td>\n",
       "</tr>\n",
       "<tr>\n",
       "  <th>C(school)[T.Wallenberg (Raoul) Traditional High School]</th>                     <td>   -0.4053</td> <td>    1.093</td> <td>   -0.371</td> <td> 0.711</td> <td>   -2.547</td> <td>    1.736</td>\n",
       "</tr>\n",
       "<tr>\n",
       "  <th>C(school)[T.Washington (George) High School]</th>                                <td>   -1.3207</td> <td>    0.946</td> <td>   -1.397</td> <td> 0.163</td> <td>   -3.174</td> <td>    0.533</td>\n",
       "</tr>\n",
       "</table><br/><br/>Possibly complete quasi-separation: A fraction 0.23 of observations can be<br/>perfectly predicted. This might indicate that there is complete<br/>quasi-separation. In this case some parameters will not be identified."
      ],
      "text/plain": [
       "<class 'statsmodels.iolib.summary.Summary'>\n",
       "\"\"\"\n",
       "                                      Logit Regression Results                                      \n",
       "====================================================================================================\n",
       "Dep. Variable:     C1(graduated_4_year_degree_less_6_years)   No. Observations:                  163\n",
       "Model:                                                Logit   Df Residuals:                      132\n",
       "Method:                                                 MLE   Df Model:                           30\n",
       "Date:                                      Wed, 18 Mar 2020   Pseudo R-squ.:                  0.3106\n",
       "Time:                                              14:30:15   Log-Likelihood:                -74.971\n",
       "converged:                                            False   LL-Null:                       -108.75\n",
       "Covariance Type:                                  nonrobust   LLR p-value:                 0.0001025\n",
       "===============================================================================================================================================\n",
       "                                                                                  coef    std err          z      P>|z|      [0.025      0.975]\n",
       "-----------------------------------------------------------------------------------------------------------------------------------------------\n",
       "Intercept                                                                       0.8096      0.601      1.348      0.178      -0.368       1.987\n",
       "C(school)[T.Archbishop Riordan High School]                                    16.8502   3946.457      0.004      0.997   -7718.064    7751.765\n",
       "C(school)[T.Asawa (Ruth) San Francisco School Of The Arts, A Public School]   -28.8917    5.6e+05  -5.16e-05      1.000    -1.1e+06     1.1e+06\n",
       "C(school)[T.Balboa High School]                                                -0.8049      1.014     -0.794      0.427      -2.792       1.182\n",
       "C(school)[T.Bridgemont High School]                                           -15.8382   1834.126     -0.009      0.993   -3610.659    3578.982\n",
       "C(school)[T.City Arts And Tech High School]                                    -1.6581      0.915     -1.812      0.070      -3.452       0.135\n",
       "C(school)[T.Crystal Springs Uplands School]                                   -15.8382   1834.126     -0.009      0.993   -3610.659    3578.982\n",
       "C(school)[T.Drew School]                                                        9.3556    161.196      0.058      0.954    -306.583     325.294\n",
       "C(school)[T.El Camino High School]                                             -0.8101      1.537     -0.527      0.598      -3.822       2.201\n",
       "C(school)[T.Galileo High School]                                               -0.4053      1.093     -0.371      0.711      -2.547       1.736\n",
       "C(school)[T.Gateway High School]                                               -1.0326      0.765     -1.349      0.177      -2.533       0.468\n",
       "C(school)[T.Immaculate Conception Academy]                                     -1.9089      1.302     -1.466      0.143      -4.460       0.643\n",
       "C(school)[T.International Studies Academy]                                     -1.9089      1.302     -1.466      0.143      -4.460       0.643\n",
       "C(school)[T.Jordan (June) School For Equity]                                    9.3556    161.196      0.058      0.954    -306.583     325.294\n",
       "C(school)[T.KIPP Bridge Charter School]                                         0.0551      0.734      0.075      0.940      -1.383       1.493\n",
       "C(school)[T.Leadership High School]                                           -15.8382   1834.126     -0.009      0.993   -3610.659    3578.982\n",
       "C(school)[T.Liberty High School]                                              -15.8382   1834.126     -0.009      0.993   -3610.659    3578.982\n",
       "C(school)[T.Lowell High School]                                                 0.9818      0.866      1.134      0.257      -0.715       2.679\n",
       "C(school)[T.Marshall (Thurgood) High School]                                   30.9102   2.15e+06   1.44e-05      1.000   -4.21e+06    4.21e+06\n",
       "C(school)[T.Mercy High School]                                                 -0.8101      1.537     -0.527      0.598      -3.822       2.201\n",
       "C(school)[T.Metro Education District School]                                    9.3556    161.196      0.058      0.954    -306.583     325.294\n",
       "C(school)[T.Mission High School]                                              -20.0327   1.06e+04     -0.002      0.998   -2.07e+04    2.07e+04\n",
       "C(school)[T.O'Connell (John) High School]                                       9.3556    161.196      0.058      0.954    -306.583     325.294\n",
       "C(school)[T.S.F. International High School]                                    13.5689    937.001      0.014      0.988   -1822.920    1850.058\n",
       "C(school)[T.Sacred Heart Cathedral Preparatory]                                 9.3556    161.196      0.058      0.954    -306.583     325.294\n",
       "C(school)[T.San Francisco University High School]                               9.3556    161.196      0.058      0.954    -306.583     325.294\n",
       "C(school)[T.St. Ignatius College Preparatory School]                            9.3556    161.196      0.058      0.954    -306.583     325.294\n",
       "C(school)[T.Stuart Hall High School]                                            9.3556    161.196      0.058      0.954    -306.583     325.294\n",
       "C(school)[T.Urban School Of San Francisco]                                      9.3556    161.196      0.058      0.954    -306.583     325.294\n",
       "C(school)[T.Wallenberg (Raoul) Traditional High School]                        -0.4053      1.093     -0.371      0.711      -2.547       1.736\n",
       "C(school)[T.Washington (George) High School]                                   -1.3207      0.946     -1.397      0.163      -3.174       0.533\n",
       "===============================================================================================================================================\n",
       "\n",
       "Possibly complete quasi-separation: A fraction 0.23 of observations can be\n",
       "perfectly predicted. This might indicate that there is complete\n",
       "quasi-separation. In this case some parameters will not be identified.\n",
       "\"\"\""
      ]
     },
     "execution_count": 92,
     "metadata": {},
     "output_type": "execute_result"
    }
   ],
   "source": [
    "mod = smf.logit(formula= \"C1(graduated_4_year_degree_less_6_years) ~ C(school)\", data=df_sub).fit(method='bfgs', maxiter=100)\n",
    "mod.summary()"
   ]
  },
  {
   "cell_type": "markdown",
   "metadata": {},
   "source": [
    "#### Logistic Regression performed on all sites and classes\n",
    "\n",
    "The first regression from above was performed again but using a much larger data set - all sites and classes - but the results were the same. Only Year 1 and 11th Grade GPA were significant. "
   ]
  },
  {
   "cell_type": "code",
   "execution_count": 95,
   "metadata": {},
   "outputs": [
    {
     "name": "stdout",
     "output_type": "stream",
     "text": [
      "Optimization terminated successfully.\n",
      "         Current function value: 0.507867\n",
      "         Iterations: 105\n",
      "         Function evaluations: 120\n",
      "         Gradient evaluations: 109\n"
     ]
    },
    {
     "data": {
      "text/html": [
       "<table class=\"simpletable\">\n",
       "<caption>Logit Regression Results</caption>\n",
       "<tr>\n",
       "  <th>Dep. Variable:</th>   <td>C1(graduated_4_year_degree_less_6_years)</td> <th>  No. Observations:  </th>  <td>   437</td>  \n",
       "</tr>\n",
       "<tr>\n",
       "  <th>Model:</th>                             <td>Logit</td>                  <th>  Df Residuals:      </th>  <td>   423</td>  \n",
       "</tr>\n",
       "<tr>\n",
       "  <th>Method:</th>                             <td>MLE</td>                   <th>  Df Model:          </th>  <td>    13</td>  \n",
       "</tr>\n",
       "<tr>\n",
       "  <th>Date:</th>                        <td>Wed, 18 Mar 2020</td>             <th>  Pseudo R-squ.:     </th>  <td>0.2668</td>  \n",
       "</tr>\n",
       "<tr>\n",
       "  <th>Time:</th>                            <td>14:32:06</td>                 <th>  Log-Likelihood:    </th> <td> -221.94</td> \n",
       "</tr>\n",
       "<tr>\n",
       "  <th>converged:</th>                         <td>True</td>                   <th>  LL-Null:           </th> <td> -302.71</td> \n",
       "</tr>\n",
       "<tr>\n",
       "  <th>Covariance Type:</th>                 <td>nonrobust</td>                <th>  LLR p-value:       </th> <td>9.577e-28</td>\n",
       "</tr>\n",
       "</table>\n",
       "<table class=\"simpletable\">\n",
       "<tr>\n",
       "                      <td></td>                         <th>coef</th>     <th>std err</th>      <th>z</th>      <th>P>|z|</th>  <th>[0.025</th>    <th>0.975]</th>  \n",
       "</tr>\n",
       "<tr>\n",
       "  <th>Intercept</th>                                 <td>   -5.7789</td> <td>    0.960</td> <td>   -6.020</td> <td> 0.000</td> <td>   -7.660</td> <td>   -3.897</td>\n",
       "</tr>\n",
       "<tr>\n",
       "  <th>C(indicator_first_generation)[T.True]</th>     <td>   -0.2230</td> <td>    0.328</td> <td>   -0.679</td> <td> 0.497</td> <td>   -0.867</td> <td>    0.421</td>\n",
       "</tr>\n",
       "<tr>\n",
       "  <th>C(fit_type)[T.Good Fit]</th>                   <td>   -0.1874</td> <td>    0.532</td> <td>   -0.352</td> <td> 0.725</td> <td>   -1.230</td> <td>    0.855</td>\n",
       "</tr>\n",
       "<tr>\n",
       "  <th>C(fit_type)[T.Local Affordable]</th>           <td>    0.0023</td> <td>    1.357</td> <td>    0.002</td> <td> 0.999</td> <td>   -2.658</td> <td>    2.662</td>\n",
       "</tr>\n",
       "<tr>\n",
       "  <th>C(fit_type)[T.None]</th>                       <td>   -0.7496</td> <td>    0.565</td> <td>   -1.328</td> <td> 0.184</td> <td>   -1.856</td> <td>    0.357</td>\n",
       "</tr>\n",
       "<tr>\n",
       "  <th>C(ethnic_background)[T.Asian-American]</th>    <td>    0.5132</td> <td>    0.430</td> <td>    1.193</td> <td> 0.233</td> <td>   -0.330</td> <td>    1.356</td>\n",
       "</tr>\n",
       "<tr>\n",
       "  <th>C(ethnic_background)[T.Latino / Chicano]</th>  <td>    0.0814</td> <td>    0.283</td> <td>    0.287</td> <td> 0.774</td> <td>   -0.474</td> <td>    0.637</td>\n",
       "</tr>\n",
       "<tr>\n",
       "  <th>C(ethnic_background)[T.Multiracial]</th>       <td>   -0.5598</td> <td>    0.558</td> <td>   -1.004</td> <td> 0.316</td> <td>   -1.653</td> <td>    0.533</td>\n",
       "</tr>\n",
       "<tr>\n",
       "  <th>C(ethnic_background)[T.Other]</th>             <td>    1.1152</td> <td>    1.443</td> <td>    0.773</td> <td> 0.440</td> <td>   -1.712</td> <td>    3.943</td>\n",
       "</tr>\n",
       "<tr>\n",
       "  <th>C(ethnic_background)[T.Pacific Islander]</th>  <td>   -0.5895</td> <td>    1.045</td> <td>   -0.564</td> <td> 0.573</td> <td>   -2.638</td> <td>    1.459</td>\n",
       "</tr>\n",
       "<tr>\n",
       "  <th>C(ethnic_background)[T.White / Caucasian]</th> <td>   -1.2783</td> <td>    0.920</td> <td>   -1.390</td> <td> 0.165</td> <td>   -3.081</td> <td>    0.524</td>\n",
       "</tr>\n",
       "<tr>\n",
       "  <th>year_1</th>                                    <td>    1.3472</td> <td>    0.188</td> <td>    7.174</td> <td> 0.000</td> <td>    0.979</td> <td>    1.715</td>\n",
       "</tr>\n",
       "<tr>\n",
       "  <th>Q('11th_grade')</th>                           <td>    0.8946</td> <td>    0.241</td> <td>    3.710</td> <td> 0.000</td> <td>    0.422</td> <td>    1.367</td>\n",
       "</tr>\n",
       "<tr>\n",
       "  <th>total_bb_earnings_as_of_hs_grad</th>           <td>-1.913e-05</td> <td> 9.46e-05</td> <td>   -0.202</td> <td> 0.840</td> <td>   -0.000</td> <td>    0.000</td>\n",
       "</tr>\n",
       "</table>"
      ],
      "text/plain": [
       "<class 'statsmodels.iolib.summary.Summary'>\n",
       "\"\"\"\n",
       "                                      Logit Regression Results                                      \n",
       "====================================================================================================\n",
       "Dep. Variable:     C1(graduated_4_year_degree_less_6_years)   No. Observations:                  437\n",
       "Model:                                                Logit   Df Residuals:                      423\n",
       "Method:                                                 MLE   Df Model:                           13\n",
       "Date:                                      Wed, 18 Mar 2020   Pseudo R-squ.:                  0.2668\n",
       "Time:                                              14:32:06   Log-Likelihood:                -221.94\n",
       "converged:                                             True   LL-Null:                       -302.71\n",
       "Covariance Type:                                  nonrobust   LLR p-value:                 9.577e-28\n",
       "=============================================================================================================\n",
       "                                                coef    std err          z      P>|z|      [0.025      0.975]\n",
       "-------------------------------------------------------------------------------------------------------------\n",
       "Intercept                                    -5.7789      0.960     -6.020      0.000      -7.660      -3.897\n",
       "C(indicator_first_generation)[T.True]        -0.2230      0.328     -0.679      0.497      -0.867       0.421\n",
       "C(fit_type)[T.Good Fit]                      -0.1874      0.532     -0.352      0.725      -1.230       0.855\n",
       "C(fit_type)[T.Local Affordable]               0.0023      1.357      0.002      0.999      -2.658       2.662\n",
       "C(fit_type)[T.None]                          -0.7496      0.565     -1.328      0.184      -1.856       0.357\n",
       "C(ethnic_background)[T.Asian-American]        0.5132      0.430      1.193      0.233      -0.330       1.356\n",
       "C(ethnic_background)[T.Latino / Chicano]      0.0814      0.283      0.287      0.774      -0.474       0.637\n",
       "C(ethnic_background)[T.Multiracial]          -0.5598      0.558     -1.004      0.316      -1.653       0.533\n",
       "C(ethnic_background)[T.Other]                 1.1152      1.443      0.773      0.440      -1.712       3.943\n",
       "C(ethnic_background)[T.Pacific Islander]     -0.5895      1.045     -0.564      0.573      -2.638       1.459\n",
       "C(ethnic_background)[T.White / Caucasian]    -1.2783      0.920     -1.390      0.165      -3.081       0.524\n",
       "year_1                                        1.3472      0.188      7.174      0.000       0.979       1.715\n",
       "Q('11th_grade')                               0.8946      0.241      3.710      0.000       0.422       1.367\n",
       "total_bb_earnings_as_of_hs_grad           -1.913e-05   9.46e-05     -0.202      0.840      -0.000       0.000\n",
       "=============================================================================================================\n",
       "\"\"\""
      ]
     },
     "execution_count": 95,
     "metadata": {},
     "output_type": "execute_result"
    }
   ],
   "source": [
    "mod = smf.logit(formula= \"C1(graduated_4_year_degree_less_6_years) ~ year_1  + Q('11th_grade') + C(indicator_first_generation) + total_bb_earnings_as_of_hs_grad + (C(fit_type)-1) + C(ethnic_background)\", data=df).fit(method='bfgs', maxiter=1000)\n",
    "mod.summary()"
   ]
  },
  {
   "cell_type": "markdown",
   "metadata": {},
   "source": [
    "### San Francisco High School Attrition\n",
    "\n",
    "Another possibility, is the classes of 2013 and 2014 has a lower percent of students who completed the High School program, which could mean only the most qualified students were included in our college graduation numbers. \n",
    "\n",
    "The below table list the percent of students who started college track and then completed the high school program. We do see in 2013 a smaller number, 26% of students completed the program, but that number quickly returned to 36% for the class of 2014. "
   ]
  },
  {
   "cell_type": "code",
   "execution_count": 140,
   "metadata": {},
   "outputs": [
    {
     "data": {
      "text/html": [
       "<style  type=\"text/css\" >\n",
       "</style><table id=\"T_850d2d34_6961_11ea_a2c0_4c327597d7ef\" ><thead>    <tr>        <th class=\"index_name level0\" >indicator_completed_ct_hs_program</th>        <th class=\"col_heading level0 col0\" >False</th>        <th class=\"col_heading level0 col1\" >True</th>    </tr>    <tr>        <th class=\"index_name level0\" >high_school_class</th>        <th class=\"blank\" ></th>        <th class=\"blank\" ></th>    </tr></thead><tbody>\n",
       "                <tr>\n",
       "                        <th id=\"T_850d2d34_6961_11ea_a2c0_4c327597d7eflevel0_row0\" class=\"row_heading level0 row0\" >2011</th>\n",
       "                        <td id=\"T_850d2d34_6961_11ea_a2c0_4c327597d7efrow0_col0\" class=\"data row0 col0\" >56%</td>\n",
       "                        <td id=\"T_850d2d34_6961_11ea_a2c0_4c327597d7efrow0_col1\" class=\"data row0 col1\" >44%</td>\n",
       "            </tr>\n",
       "            <tr>\n",
       "                        <th id=\"T_850d2d34_6961_11ea_a2c0_4c327597d7eflevel0_row1\" class=\"row_heading level0 row1\" >2012</th>\n",
       "                        <td id=\"T_850d2d34_6961_11ea_a2c0_4c327597d7efrow1_col0\" class=\"data row1 col0\" >69%</td>\n",
       "                        <td id=\"T_850d2d34_6961_11ea_a2c0_4c327597d7efrow1_col1\" class=\"data row1 col1\" >31%</td>\n",
       "            </tr>\n",
       "            <tr>\n",
       "                        <th id=\"T_850d2d34_6961_11ea_a2c0_4c327597d7eflevel0_row2\" class=\"row_heading level0 row2\" >2013</th>\n",
       "                        <td id=\"T_850d2d34_6961_11ea_a2c0_4c327597d7efrow2_col0\" class=\"data row2 col0\" >74%</td>\n",
       "                        <td id=\"T_850d2d34_6961_11ea_a2c0_4c327597d7efrow2_col1\" class=\"data row2 col1\" >26%</td>\n",
       "            </tr>\n",
       "            <tr>\n",
       "                        <th id=\"T_850d2d34_6961_11ea_a2c0_4c327597d7eflevel0_row3\" class=\"row_heading level0 row3\" >2014</th>\n",
       "                        <td id=\"T_850d2d34_6961_11ea_a2c0_4c327597d7efrow3_col0\" class=\"data row3 col0\" >64%</td>\n",
       "                        <td id=\"T_850d2d34_6961_11ea_a2c0_4c327597d7efrow3_col1\" class=\"data row3 col1\" >36%</td>\n",
       "            </tr>\n",
       "            <tr>\n",
       "                        <th id=\"T_850d2d34_6961_11ea_a2c0_4c327597d7eflevel0_row4\" class=\"row_heading level0 row4\" >2015</th>\n",
       "                        <td id=\"T_850d2d34_6961_11ea_a2c0_4c327597d7efrow4_col0\" class=\"data row4 col0\" >58%</td>\n",
       "                        <td id=\"T_850d2d34_6961_11ea_a2c0_4c327597d7efrow4_col1\" class=\"data row4 col1\" >42%</td>\n",
       "            </tr>\n",
       "            <tr>\n",
       "                        <th id=\"T_850d2d34_6961_11ea_a2c0_4c327597d7eflevel0_row5\" class=\"row_heading level0 row5\" >All</th>\n",
       "                        <td id=\"T_850d2d34_6961_11ea_a2c0_4c327597d7efrow5_col0\" class=\"data row5 col0\" >65%</td>\n",
       "                        <td id=\"T_850d2d34_6961_11ea_a2c0_4c327597d7efrow5_col1\" class=\"data row5 col1\" >35%</td>\n",
       "            </tr>\n",
       "    </tbody></table>"
      ],
      "text/plain": [
       "<pandas.io.formats.style.Styler at 0x1a1aac3d90>"
      ]
     },
     "execution_count": 140,
     "metadata": {},
     "output_type": "execute_result"
    }
   ],
   "source": [
    "sf_cross_tab(df_master, \"indicator_completed_ct_hs_program\").round(2).style.format('{:.0%}')"
   ]
  },
  {
   "cell_type": "markdown",
   "metadata": {},
   "source": [
    "## SF Compared to Other Sites\n",
    "\n",
    "San Francisco piloted site based modeling for the class of 2013, and the rest of College Track transitioned to this model in for the class of 2014. \n",
    "\n",
    "This is a harder metric to evaluate given that starting in 2014 all sites received site based advising, so San Francisco only has one year of only their students receiving site advising - a difficult length of time to pin down. Moreover, as we move back in time data becomes more limited or inaccurate, which makes comparing sites graduation rates prior to any advising harder to do. \n",
    "\n",
    "Still, from this limited analysis it does appear there *could* be a correlation with San Francisco's switch to site based advising. \n",
    "\n"
   ]
  },
  {
   "cell_type": "markdown",
   "metadata": {},
   "source": [
    "#### Class of 2013 graduation rate compared to other CT Sites\n",
    "\n",
    "This table shows the difference in graduation rate between SF class of 2013 and all other sites - that starting in 2013 were not using site based modeling (however starting in 2014 all sites were using this model).\n",
    "\n",
    "We can see that SF has a higher graduation rate, and the p value indicates this is a statistically significant difference. "
   ]
  },
  {
   "cell_type": "code",
   "execution_count": 141,
   "metadata": {},
   "outputs": [
    {
     "data": {
      "text/html": [
       "<style  type=\"text/css\" >\n",
       "</style><table id=\"T_8b142be2_6961_11ea_a2c0_4c327597d7ef\" ><thead>    <tr>        <th class=\"index_name level0\" >graduated_4_year_degree_less_6_years</th>        <th class=\"col_heading level0 col0\" >False</th>        <th class=\"col_heading level0 col1\" >True</th>    </tr>    <tr>        <th class=\"index_name level0\" >site</th>        <th class=\"blank\" ></th>        <th class=\"blank\" ></th>    </tr></thead><tbody>\n",
       "                <tr>\n",
       "                        <th id=\"T_8b142be2_6961_11ea_a2c0_4c327597d7eflevel0_row0\" class=\"row_heading level0 row0\" >East Palo Alto</th>\n",
       "                        <td id=\"T_8b142be2_6961_11ea_a2c0_4c327597d7efrow0_col0\" class=\"data row0 col0\" >72%</td>\n",
       "                        <td id=\"T_8b142be2_6961_11ea_a2c0_4c327597d7efrow0_col1\" class=\"data row0 col1\" >28%</td>\n",
       "            </tr>\n",
       "            <tr>\n",
       "                        <th id=\"T_8b142be2_6961_11ea_a2c0_4c327597d7eflevel0_row1\" class=\"row_heading level0 row1\" >New Orleans</th>\n",
       "                        <td id=\"T_8b142be2_6961_11ea_a2c0_4c327597d7efrow1_col0\" class=\"data row1 col0\" >67%</td>\n",
       "                        <td id=\"T_8b142be2_6961_11ea_a2c0_4c327597d7efrow1_col1\" class=\"data row1 col1\" >33%</td>\n",
       "            </tr>\n",
       "            <tr>\n",
       "                        <th id=\"T_8b142be2_6961_11ea_a2c0_4c327597d7eflevel0_row2\" class=\"row_heading level0 row2\" >Oakland</th>\n",
       "                        <td id=\"T_8b142be2_6961_11ea_a2c0_4c327597d7efrow2_col0\" class=\"data row2 col0\" >51%</td>\n",
       "                        <td id=\"T_8b142be2_6961_11ea_a2c0_4c327597d7efrow2_col1\" class=\"data row2 col1\" >49%</td>\n",
       "            </tr>\n",
       "            <tr>\n",
       "                        <th id=\"T_8b142be2_6961_11ea_a2c0_4c327597d7eflevel0_row3\" class=\"row_heading level0 row3\" >San Francisco</th>\n",
       "                        <td id=\"T_8b142be2_6961_11ea_a2c0_4c327597d7efrow3_col0\" class=\"data row3 col0\" >32%</td>\n",
       "                        <td id=\"T_8b142be2_6961_11ea_a2c0_4c327597d7efrow3_col1\" class=\"data row3 col1\" >68%</td>\n",
       "            </tr>\n",
       "            <tr>\n",
       "                        <th id=\"T_8b142be2_6961_11ea_a2c0_4c327597d7eflevel0_row4\" class=\"row_heading level0 row4\" >All</th>\n",
       "                        <td id=\"T_8b142be2_6961_11ea_a2c0_4c327597d7efrow4_col0\" class=\"data row4 col0\" >56%</td>\n",
       "                        <td id=\"T_8b142be2_6961_11ea_a2c0_4c327597d7efrow4_col1\" class=\"data row4 col1\" >44%</td>\n",
       "            </tr>\n",
       "    </tbody></table>"
      ],
      "text/plain": [
       "<pandas.io.formats.style.Styler at 0x1a1b6b2c90>"
      ]
     },
     "execution_count": 141,
     "metadata": {},
     "output_type": "execute_result"
    }
   ],
   "source": [
    "class_cross_tab(df, \"graduated_4_year_degree_less_6_years\", hs_class=2013).round(2).style.format('{:.0%}')\n"
   ]
  },
  {
   "cell_type": "code",
   "execution_count": 123,
   "metadata": {},
   "outputs": [],
   "source": [
    "population1_test_4 = (\n",
    "    df[(df.site == \"San Francisco\") & (df.high_school_class == 2013)][\n",
    "        \"graduated_4_year_degree_less_6_years\"\n",
    "    ]\n",
    ").values\n",
    "\n",
    "\n",
    "population2_test_4 = (\n",
    "    df[(df.site != \"San Francisco\") & (df.high_school_class == 2013)][\n",
    "        \"graduated_4_year_degree_less_6_years\"\n",
    "    ]\n",
    ").values"
   ]
  },
  {
   "cell_type": "code",
   "execution_count": 124,
   "metadata": {},
   "outputs": [
    {
     "name": "stdout",
     "output_type": "stream",
     "text": [
      "p Value:  0.00088\n"
     ]
    }
   ],
   "source": [
    "print(\"p Value: \",(round(sm.stats.ttest_ind(population1_test_4, population2_test_4)[1], 5)))"
   ]
  },
  {
   "cell_type": "markdown",
   "metadata": {},
   "source": [
    "#### Class of 2011 and 2012 graduation rate compared to other CT Sites\n",
    "\n",
    "When comparing the class of 2011 and 2012 though, at the time when no sites were using site based advising, San Francisco did not have a statistically higher graduation rate. "
   ]
  },
  {
   "cell_type": "code",
   "execution_count": 142,
   "metadata": {},
   "outputs": [
    {
     "data": {
      "text/html": [
       "<style  type=\"text/css\" >\n",
       "</style><table id=\"T_8dd56030_6961_11ea_a2c0_4c327597d7ef\" ><thead>    <tr>        <th class=\"index_name level0\" >graduated_4_year_degree_less_6_years</th>        <th class=\"col_heading level0 col0\" >False</th>        <th class=\"col_heading level0 col1\" >True</th>    </tr>    <tr>        <th class=\"index_name level0\" >site</th>        <th class=\"blank\" ></th>        <th class=\"blank\" ></th>    </tr></thead><tbody>\n",
       "                <tr>\n",
       "                        <th id=\"T_8dd56030_6961_11ea_a2c0_4c327597d7eflevel0_row0\" class=\"row_heading level0 row0\" >East Palo Alto</th>\n",
       "                        <td id=\"T_8dd56030_6961_11ea_a2c0_4c327597d7efrow0_col0\" class=\"data row0 col0\" >59%</td>\n",
       "                        <td id=\"T_8dd56030_6961_11ea_a2c0_4c327597d7efrow0_col1\" class=\"data row0 col1\" >41%</td>\n",
       "            </tr>\n",
       "            <tr>\n",
       "                        <th id=\"T_8dd56030_6961_11ea_a2c0_4c327597d7eflevel0_row1\" class=\"row_heading level0 row1\" >New Orleans</th>\n",
       "                        <td id=\"T_8dd56030_6961_11ea_a2c0_4c327597d7efrow1_col0\" class=\"data row1 col0\" >68%</td>\n",
       "                        <td id=\"T_8dd56030_6961_11ea_a2c0_4c327597d7efrow1_col1\" class=\"data row1 col1\" >32%</td>\n",
       "            </tr>\n",
       "            <tr>\n",
       "                        <th id=\"T_8dd56030_6961_11ea_a2c0_4c327597d7eflevel0_row2\" class=\"row_heading level0 row2\" >Oakland</th>\n",
       "                        <td id=\"T_8dd56030_6961_11ea_a2c0_4c327597d7efrow2_col0\" class=\"data row2 col0\" >53%</td>\n",
       "                        <td id=\"T_8dd56030_6961_11ea_a2c0_4c327597d7efrow2_col1\" class=\"data row2 col1\" >47%</td>\n",
       "            </tr>\n",
       "            <tr>\n",
       "                        <th id=\"T_8dd56030_6961_11ea_a2c0_4c327597d7eflevel0_row3\" class=\"row_heading level0 row3\" >San Francisco</th>\n",
       "                        <td id=\"T_8dd56030_6961_11ea_a2c0_4c327597d7efrow3_col0\" class=\"data row3 col0\" >49%</td>\n",
       "                        <td id=\"T_8dd56030_6961_11ea_a2c0_4c327597d7efrow3_col1\" class=\"data row3 col1\" >51%</td>\n",
       "            </tr>\n",
       "            <tr>\n",
       "                        <th id=\"T_8dd56030_6961_11ea_a2c0_4c327597d7eflevel0_row4\" class=\"row_heading level0 row4\" >All</th>\n",
       "                        <td id=\"T_8dd56030_6961_11ea_a2c0_4c327597d7efrow4_col0\" class=\"data row4 col0\" >55%</td>\n",
       "                        <td id=\"T_8dd56030_6961_11ea_a2c0_4c327597d7efrow4_col1\" class=\"data row4 col1\" >45%</td>\n",
       "            </tr>\n",
       "    </tbody></table>"
      ],
      "text/plain": [
       "<pandas.io.formats.style.Styler at 0x1a19a99b50>"
      ]
     },
     "execution_count": 142,
     "metadata": {},
     "output_type": "execute_result"
    }
   ],
   "source": [
    "pd.crosstab(\n",
    "        df[df.high_school_class <= 2012].site,\n",
    "        df[df.high_school_class <= 2012]['graduated_4_year_degree_less_6_years'],\n",
    "        normalize='index',\n",
    "        margins=True,\n",
    "    ).round(2).style.format('{:.0%}')"
   ]
  },
  {
   "cell_type": "code",
   "execution_count": 126,
   "metadata": {},
   "outputs": [],
   "source": [
    "population1_test_5 = (\n",
    "    df[(df.site == \"San Francisco\") & (df.high_school_class <= 2012)][\n",
    "        \"graduated_4_year_degree_less_6_years\"\n",
    "    ]\n",
    ").values\n",
    "\n",
    "\n",
    "population2_test_5 = (\n",
    "    df[(df.site != \"San Francisco\") & (df.high_school_class <= 2012)][\n",
    "        \"graduated_4_year_degree_less_6_years\"\n",
    "    ]\n",
    ").values"
   ]
  },
  {
   "cell_type": "code",
   "execution_count": 127,
   "metadata": {},
   "outputs": [
    {
     "name": "stdout",
     "output_type": "stream",
     "text": [
      "p Value:  0.19\n"
     ]
    }
   ],
   "source": [
    "print(\"p Value: \", (round(sm.stats.ttest_ind(population1_test_5, population2_test_5)[1], 2)))"
   ]
  },
  {
   "cell_type": "markdown",
   "metadata": {},
   "source": [
    "#### Class of 2014 and 2015 graduation rate compared to other CT Sites\n",
    "\n",
    "Finally when looking at the class of 2014 and 2015, when all sites were using site based advising, San Francisco still appears to have a higher graduation rate."
   ]
  },
  {
   "cell_type": "code",
   "execution_count": 143,
   "metadata": {},
   "outputs": [
    {
     "data": {
      "text/html": [
       "<style  type=\"text/css\" >\n",
       "</style><table id=\"T_8f6d8864_6961_11ea_a2c0_4c327597d7ef\" ><thead>    <tr>        <th class=\"index_name level0\" >graduated_4_year_degree_less_6_years</th>        <th class=\"col_heading level0 col0\" >False</th>        <th class=\"col_heading level0 col1\" >True</th>    </tr>    <tr>        <th class=\"index_name level0\" >site</th>        <th class=\"blank\" ></th>        <th class=\"blank\" ></th>    </tr></thead><tbody>\n",
       "                <tr>\n",
       "                        <th id=\"T_8f6d8864_6961_11ea_a2c0_4c327597d7eflevel0_row0\" class=\"row_heading level0 row0\" >Aurora</th>\n",
       "                        <td id=\"T_8f6d8864_6961_11ea_a2c0_4c327597d7efrow0_col0\" class=\"data row0 col0\" >57%</td>\n",
       "                        <td id=\"T_8f6d8864_6961_11ea_a2c0_4c327597d7efrow0_col1\" class=\"data row0 col1\" >43%</td>\n",
       "            </tr>\n",
       "            <tr>\n",
       "                        <th id=\"T_8f6d8864_6961_11ea_a2c0_4c327597d7eflevel0_row1\" class=\"row_heading level0 row1\" >East Palo Alto</th>\n",
       "                        <td id=\"T_8f6d8864_6961_11ea_a2c0_4c327597d7efrow1_col0\" class=\"data row1 col0\" >52%</td>\n",
       "                        <td id=\"T_8f6d8864_6961_11ea_a2c0_4c327597d7efrow1_col1\" class=\"data row1 col1\" >48%</td>\n",
       "            </tr>\n",
       "            <tr>\n",
       "                        <th id=\"T_8f6d8864_6961_11ea_a2c0_4c327597d7eflevel0_row2\" class=\"row_heading level0 row2\" >New Orleans</th>\n",
       "                        <td id=\"T_8f6d8864_6961_11ea_a2c0_4c327597d7efrow2_col0\" class=\"data row2 col0\" >68%</td>\n",
       "                        <td id=\"T_8f6d8864_6961_11ea_a2c0_4c327597d7efrow2_col1\" class=\"data row2 col1\" >32%</td>\n",
       "            </tr>\n",
       "            <tr>\n",
       "                        <th id=\"T_8f6d8864_6961_11ea_a2c0_4c327597d7eflevel0_row3\" class=\"row_heading level0 row3\" >Oakland</th>\n",
       "                        <td id=\"T_8f6d8864_6961_11ea_a2c0_4c327597d7efrow3_col0\" class=\"data row3 col0\" >53%</td>\n",
       "                        <td id=\"T_8f6d8864_6961_11ea_a2c0_4c327597d7efrow3_col1\" class=\"data row3 col1\" >47%</td>\n",
       "            </tr>\n",
       "            <tr>\n",
       "                        <th id=\"T_8f6d8864_6961_11ea_a2c0_4c327597d7eflevel0_row4\" class=\"row_heading level0 row4\" >San Francisco</th>\n",
       "                        <td id=\"T_8f6d8864_6961_11ea_a2c0_4c327597d7efrow4_col0\" class=\"data row4 col0\" >46%</td>\n",
       "                        <td id=\"T_8f6d8864_6961_11ea_a2c0_4c327597d7efrow4_col1\" class=\"data row4 col1\" >54%</td>\n",
       "            </tr>\n",
       "            <tr>\n",
       "                        <th id=\"T_8f6d8864_6961_11ea_a2c0_4c327597d7eflevel0_row5\" class=\"row_heading level0 row5\" >All</th>\n",
       "                        <td id=\"T_8f6d8864_6961_11ea_a2c0_4c327597d7efrow5_col0\" class=\"data row5 col0\" >54%</td>\n",
       "                        <td id=\"T_8f6d8864_6961_11ea_a2c0_4c327597d7efrow5_col1\" class=\"data row5 col1\" >46%</td>\n",
       "            </tr>\n",
       "    </tbody></table>"
      ],
      "text/plain": [
       "<pandas.io.formats.style.Styler at 0x1a1aacba50>"
      ]
     },
     "execution_count": 143,
     "metadata": {},
     "output_type": "execute_result"
    }
   ],
   "source": [
    "pd.crosstab(\n",
    "        df[df.high_school_class >= 2014].site,\n",
    "        df[df.high_school_class >= 2014]['graduated_4_year_degree_less_6_years'],\n",
    "        normalize='index',\n",
    "        margins=True,\n",
    "    ).round(2).style.format('{:.0%}')"
   ]
  },
  {
   "cell_type": "code",
   "execution_count": 129,
   "metadata": {},
   "outputs": [],
   "source": [
    "population1_test_6 = (\n",
    "    df[(df.site == \"San Francisco\") & (df.high_school_class >= 2014)][\n",
    "        \"graduated_4_year_degree_less_6_years\"\n",
    "    ]\n",
    ").values\n",
    "\n",
    "\n",
    "population2_test_6 = (\n",
    "    df[(df.site != \"San Francisco\") & (df.high_school_class >= 2014)][\n",
    "        \"graduated_4_year_degree_less_6_years\"\n",
    "    ]\n",
    ").values"
   ]
  },
  {
   "cell_type": "code",
   "execution_count": 130,
   "metadata": {},
   "outputs": [
    {
     "name": "stdout",
     "output_type": "stream",
     "text": [
      "p Value:  0.05\n"
     ]
    }
   ],
   "source": [
    "print('p Value: ',(round(sm.stats.ttest_ind(population1_test_6, population2_test_6)[1], 2)))"
   ]
  },
  {
   "cell_type": "code",
   "execution_count": 131,
   "metadata": {
    "hide_input": true
   },
   "outputs": [
    {
     "data": {
      "text/html": [
       "\n",
       "<script>\n",
       "$(document).ready(function(){\n",
       "    window.code_toggle = function() {\n",
       "        (window.code_shown) ? $('div.input').hide(250) : $('div.input').show(250);\n",
       "        window.code_shown = !window.code_shown\n",
       "    }\n",
       "    if($('body.nbviewer').length) {\n",
       "        $('<li><a href=\"javascript:window.code_toggle()\" title=\"Show/Hide Code\"><span class=\"fa fa-code fa-2x menu-icon\"></span><span class=\"menu-text\">Show/Hide Code</span></a></li>').appendTo('.navbar-right');\n",
       "        window.code_shown=false;\n",
       "        $('div.input').hide();\n",
       "    }\n",
       "});\n",
       "</script>\n",
       "\n",
       "\n",
       "<style>\n",
       "\n",
       "div.prompt {display:none}\n",
       "\n",
       "\n",
       "h1, .h1 {\n",
       "    font-size: 33px;\n",
       "    font-family: \"Trebuchet MS\";\n",
       "    font-size: 2.5em !important;\n",
       "    color: #2a7bbd;\n",
       "}\n",
       "\n",
       "h2, .h2 {\n",
       "    font-size: 10px;\n",
       "    font-family: \"Trebuchet MS\";\n",
       "    color: #2a7bbd; \n",
       "    \n",
       "}\n",
       "\n",
       "\n",
       "h3, .h3 {\n",
       "    font-size: 10px;\n",
       "    font-family: \"Trebuchet MS\";\n",
       "    color: #5d6063; \n",
       "    \n",
       "}\n",
       "\n",
       ".rendered_html table {\n",
       "\n",
       "    font-size: 14px;\n",
       "}\n",
       "\n",
       ".output_png {\n",
       "  display: flex;\n",
       "  justify-content: center;\n",
       "}\n",
       "\n",
       ".cell {\n",
       "    padding: 0px;\n",
       "}\n",
       "\n",
       "\n",
       "</style>\n"
      ],
      "text/plain": [
       "<IPython.core.display.HTML object>"
      ]
     },
     "metadata": {},
     "output_type": "display_data"
    }
   ],
   "source": [
    "%%html\n",
    "\n",
    "<script>\n",
    "$(document).ready(function(){\n",
    "    window.code_toggle = function() {\n",
    "        (window.code_shown) ? $('div.input').hide(250) : $('div.input').show(250);\n",
    "        window.code_shown = !window.code_shown\n",
    "    }\n",
    "    if($('body.nbviewer').length) {\n",
    "        $('<li><a href=\"javascript:window.code_toggle()\" title=\"Show/Hide Code\"><span class=\"fa fa-code fa-2x menu-icon\"></span><span class=\"menu-text\">Show/Hide Code</span></a></li>').appendTo('.navbar-right');\n",
    "        window.code_shown=false;\n",
    "        $('div.input').hide();\n",
    "    }\n",
    "});\n",
    "</script>\n",
    "\n",
    "\n",
    "<style>\n",
    "\n",
    "div.prompt {display:none}\n",
    "\n",
    "\n",
    "h1, .h1 {\n",
    "    font-size: 33px;\n",
    "    font-family: \"Trebuchet MS\";\n",
    "    font-size: 2.5em !important;\n",
    "    color: #2a7bbd;\n",
    "}\n",
    "\n",
    "h2, .h2 {\n",
    "    font-size: 10px;\n",
    "    font-family: \"Trebuchet MS\";\n",
    "    color: #2a7bbd; \n",
    "    \n",
    "}\n",
    "\n",
    "\n",
    "h3, .h3 {\n",
    "    font-size: 10px;\n",
    "    font-family: \"Trebuchet MS\";\n",
    "    color: #5d6063; \n",
    "    \n",
    "}\n",
    "\n",
    ".rendered_html table {\n",
    "\n",
    "    font-size: 14px;\n",
    "}\n",
    "\n",
    ".output_png {\n",
    "  display: flex;\n",
    "  justify-content: center;\n",
    "}\n",
    "\n",
    ".cell {\n",
    "    padding: 0px;\n",
    "}\n",
    "\n",
    "\n",
    "</style>"
   ]
  },
  {
   "cell_type": "code",
   "execution_count": null,
   "metadata": {},
   "outputs": [],
   "source": []
  }
 ],
 "metadata": {
  "hide_input": false,
  "kernelspec": {
   "display_name": "Python 3",
   "language": "python",
   "name": "python3"
  },
  "language_info": {
   "codemirror_mode": {
    "name": "ipython",
    "version": 3
   },
   "file_extension": ".py",
   "mimetype": "text/x-python",
   "name": "python",
   "nbconvert_exporter": "python",
   "pygments_lexer": "ipython3",
   "version": "3.7.4"
  },
  "toc": {
   "base_numbering": 1,
   "nav_menu": {},
   "number_sections": true,
   "sideBar": true,
   "skip_h1_title": false,
   "title_cell": "Table of Contents",
   "title_sidebar": "Contents",
   "toc_cell": false,
   "toc_position": {},
   "toc_section_display": true,
   "toc_window_display": false
  }
 },
 "nbformat": 4,
 "nbformat_minor": 4
}
